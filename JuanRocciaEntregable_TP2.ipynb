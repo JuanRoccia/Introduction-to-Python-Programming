{
  "cells": [
    {
      "cell_type": "markdown",
      "metadata": {
        "id": "view-in-github",
        "colab_type": "text"
      },
      "source": [
        "<a href=\"https://colab.research.google.com/github/JuanRoccia/Introduction-to-Python-Programming/blob/main/JuanRocciaEntregable_TP2.ipynb\" target=\"_parent\"><img src=\"https://colab.research.google.com/assets/colab-badge.svg\" alt=\"Open In Colab\"/></a>"
      ]
    },
    {
      "cell_type": "markdown",
      "metadata": {
        "id": "AqVsPycIbN9s"
      },
      "source": [
        "# ***Trabajo Prático 2 (entregable)***"
      ]
    },
    {
      "cell_type": "code",
      "execution_count": null,
      "metadata": {
        "id": "7Hq40zvQeRx5"
      },
      "outputs": [],
      "source": [
        "def problema_1(lista): #lista de nueros enteros\n",
        "    #dada una lista NO VACIA con numeros aleatorios enteros positivos, reemplazar a los numeros impares\n",
        "    #de la lista por su consecutivo siguiente y devolver la lista con numeros pares \"listaPares\"\n",
        "    \n",
        "    return(listaPares)# listaPares es una lista\n",
        "\n",
        "def problema_2(numeroSerie): #numero serie es una lista\n",
        "    #una empresa de seguridad diseña sus claves a partir del numero de serie del producto, que \n",
        "    #es una lista con 10 numeros enteros entre 10 y 99, los numeros dentro de la lista\n",
        "    #pueden cambiar pero la cantidad siempre es de 10 elementos len(numeroSerie) es 10\n",
        "    #la clave generada siempre es de 8 digitos (xx,xx,xx,xx)\n",
        "    #los dos primeros digitos es el promedio de toda la lista                       (xx......)\n",
        "    #el promedio debe tomar solo la parte entera\n",
        "    #los dos digitos siguientes corresponden al mayor numero de la lista            (..xx....)\n",
        "    #los dos que le siguen corresponden al menor de la lista                        (....xx..)\n",
        "    #los ultimos dos digitos es el numero dentro de la lista mas cercana al promedio(......xx)\n",
        "    \n",
        "\n",
        "    return(clave) #clave es una lista\n",
        "\n",
        "def problema_3(palabra):#es de tipo string\n",
        "    #se espera recibir una palabra tipo string, lo que deben hacer es invertir la palabra\n",
        "    #por ejemplo, si ingresa \"hola\", debo retornar \"aloh\"\n",
        "\n",
        "    return(invertida) #el tipo de dato de esta variable tiene que ser STRING\n",
        "\n",
        "\n",
        "def problema_4(polinomio): #polinomio de tipo lista\n",
        "    #se tiene una lista llamada polinomio, de tal manera que si el polinomio es Y=aX^2 + bX + C,\n",
        "    #cada uno de sus terminos estan puestos de la siguiente manera polinomio = [a ,b ,c]\n",
        "    #calcular para cada polinomio las raices y guardarlo en una lista, para retornarlo como respuesta\n",
        "\n",
        "    return(listaRaices)# si no tiene raices, retornar listaRaices=[], si tiene una raiz\n",
        "                       # retornar listaRaices=[X1], donde X1 es el valor numerico de la raiz,\n",
        "                       # si tiene dos raices retornar listaRaices=[X1 ,X2], donde X1 y X2 son valores\n",
        "                       # numericos de lo que se hallo como raiz. X1 se obtiene con el +, y el X2 se obtiene con el -\n",
        "                       #link de ayuda 1: https://www.youtube.com/watch?v=FwMCStChZnw&t=344s&ab_channel=JULIANCLASES\n",
        "                       #link de ayuda 2: https://www.youtube.com/watch?v=nDxqr-aQ1TQ&ab_channel=MateLike\n",
        "\n",
        "def problema_5(clave): #clave es de tipo string\n",
        "    #dada una clave alfa-numerica, de 10 caracteres, recorrer la clave y contar cuantos de esos \n",
        "    #caracteres son numeros, para ello investigar la funcion isNumeric\n",
        "    #link de ayuda: https://www.w3schools.com/python/ref_string_isnumeric.asp\n",
        "\n",
        "    return (cantidad)   \n",
        "\n",
        "def problema_6(lista_libros, lista_autores, eleccion): #listas de string, eleccion es de tipo string\n",
        "    #El programa recibe como parámetros una lista de libros y una lista de autores de esos \n",
        "    #mismos libros estando ordenados en correlación, es decir, en la posición 4 de lista_autores está \n",
        "    #el nombre y apellido del autor que creó el libro de la posición 4 de lista_libros. La función \n",
        "    #deberá recibir el nombre de un libro y retornar un autor. \n",
        "    #Ejemplo \n",
        "    #lista_libros = [De Profundis, Hamblet, Demian]\n",
        "    #lista_autores = [Oscar Wilde, Williams Shakespeare, Herman Hesse]\n",
        "    #Al ingresar Hamblet, la función debe retornar \"Williams Shakespeare - Hamblet\". \n",
        "    \n",
        "    return(autor_libro) #Variable string \n",
        "\n",
        "def problema_7(mes): #Número entero positivo del 1 al 12 inclusive\n",
        "    #La función recibe como parámetro un mes y retorna la cantidad de días que contiene ese mes. \n",
        "    #Ejemplo, al ingresar como parámetro el mes 4 (abril) debe retornar (30). Por cuestiones de facilidad, \n",
        "    #se debe suponer que febrero tiene 28 días.\n",
        "\n",
        "    return(dias) #Número entero positivo del 1 al 31 inclusive\n",
        "\n",
        "\n",
        "def problema_8(abecedario): #lista de string\n",
        "    #El programa recibirá una lista donde se encuentre el diccionario y deberá retornar una nueva \n",
        "    #lista (abecedario_sin) donde se encontrará el abecedario sin las vocales\n",
        "\n",
        "    return(abecedario_sin) #lista de string"
      ]
    },
    {
      "cell_type": "markdown",
      "source": [
        "# ***Correcciones***"
      ],
      "metadata": {
        "id": "tqFN_nMHZqLi"
      }
    },
    {
      "cell_type": "code",
      "source": [
        "def problema_1(lista): #lista de nueros enteros \n",
        "    #dada una lista NO VACIA con numeros aleatorios enteros positivos, reemplazar a los numeros impares\n",
        "    #de la lista por su consecutivo siguiente y devolver la lista con numeros pares \"listaPares\"\n",
        "    \n",
        "    return(listaPares)# listaPares es una lista\n",
        "\n",
        "def problema_2(numeroSerie): #numero serie es una lista\n",
        "    #una empresa de seguridad diseña sus claves a partir del numero de serie del producto, que \n",
        "    #es una lista con 10 numeros enteros entre 10 y 99, los numeros dentro de la lista\n",
        "    #pueden cambiar pero la cantidad siempre es de 10 elementos len(numeroSerie) es 10\n",
        "    #la clave generada siempre es de 8 digitos (xx,xx,xx,xx)\n",
        "    #los dos primeros digitos es el promedio de toda la lista                       (xx......)\n",
        "    #del promedio se debe tomar solo la parte entera, ya que son dos digitos\n",
        "    #los dos digitos siguientes corresponden al mayor numero de la lista            (..xx....)\n",
        "    #los dos que le siguen corresponden al menor de la lista                        (....xx..)\n",
        "    #los ultimos dos digitos es el numero dentro de la lista mas cercana al promedio(......xx)\n",
        "    \n",
        "\n",
        "    return(clave) #clave es una lista\n",
        "\n",
        "def problema_3(palabra):#es de tipo string\n",
        "    #se espera recibir una palabra tipo string, lo que deben hacer es invertir la palabra\n",
        "    #por ejemplo, si ingresa \"hola\", debo retornar \"aloh\"\n",
        "\n",
        "    return(invertida) #el tipo de dato de esta variable tiene que ser STRING\n",
        "\n",
        "\n",
        "def problema_4(polinomio): #polinomio de tipo lista\n",
        "    #se tiene una lista llamada polinomio, de tal manera que si el polinomio es Y=aX^2 + bX + C,\n",
        "    #cada uno de sus terminos estan puestos de la siguiente manera polinomio = [a ,b ,c]\n",
        "    #calcular para cada polinomio las raices y guardarlo en una lista, para retornarlo como respuesta\n",
        "\n",
        "    return(listaRaices)# si no tiene raices, retornar listaRaices=[], si tiene una raiz\n",
        "                       # retornar listaRaices=[X1], donde X1 es el valor numerico de la raiz,\n",
        "                       # si tiene dos raices retornar listaRaices=[X1 ,X2], donde X1 y X2 son valores\n",
        "                       # numericos de lo que se hallo como raiz. X1 se obtiene con el +, y el X2 se obtiene con el -\n",
        "                       #link de ayuda 1: https://www.youtube.com/watch?v=FwMCStChZnw&t=344s&ab_channel=JULIANCLASES\n",
        "                       #link de ayuda 2: https://www.youtube.com/watch?v=nDxqr-aQ1TQ&ab_channel=MateLike\n",
        "\n",
        "def problema_5(clave): #clave es de tipo string\n",
        "    #dada una clave alfa-numerica, de 10 caracteres, recorrer la clave y contar cuantos de esos \n",
        "    #caracteres son numeros, para ello investigar la funcion isNumeric\n",
        "    #link de ayuda: https://www.w3schools.com/python/ref_string_isnumeric.asp\n",
        "\n",
        "    return (cantidad)   \n",
        "\n",
        "def problema_6(lista_libros, lista_autores, eleccion): #listas de string, eleccion es de tipo string\n",
        "    #El programa recibe como parámetros una lista de libros y una lista de autores de esos \n",
        "    #mismos libros estando ordenados en correlación, es decir, en la posición 4 de lista_autores está \n",
        "    #el nombre y apellido del autor que creó el libro de la posición 4 de lista_libros. La función \n",
        "    #deberá recibir el nombre de un libro y retornar un autor. \n",
        "    #Ejemplo \n",
        "    #lista_libros = [De Profundis, Hamblet, Demian]\n",
        "    #lista_autores = [Oscar Wilde, Williams Shakespeare, Herman Hesse]\n",
        "    #Al ingresar Hamblet, la función debe retornar \"Williams Shakespeare - Hamblet\". \n",
        "    \n",
        "    return(autor_libro) #Variable string \n",
        "\n",
        "def problema_7(mes): #Número entero positivo del 1 al 12 inclusive\n",
        "    #La función recibe como parámetro un mes y retorna la cantidad de días que contiene ese mes. \n",
        "    #Ejemplo, al ingresar como parámetro el mes 4 (abril) debe retornar (30). Por cuestiones de facilidad, \n",
        "    #se debe suponer que febrero tiene 28 días.\n",
        "\n",
        "    return(dias) #dias es entero positivo \n",
        "\n",
        "\n",
        "def problema_8(texto): # string\n",
        "    #El programa recibirá un texto (string) y deberá retornar un texto nuevo\n",
        "    #(text_sin) donde se encontrará el texto sin las vocales. Considerar que el texto puede tener vocales con acento, o dieresis (ü)\n",
        "\n",
        "    return(texto_sin) #lista de string\n"
      ],
      "metadata": {
        "id": "Z7-2DZ5-Zp1I"
      },
      "execution_count": null,
      "outputs": []
    },
    {
      "cell_type": "markdown",
      "metadata": {
        "id": "gdpxkTsHeSVm"
      },
      "source": [
        "# ***Problema_1***"
      ]
    },
    {
      "cell_type": "code",
      "source": [
        "listaPares = [num in lista if num %2 == 0 else num+1 for num in lista]"
      ],
      "metadata": {
        "id": "0OgWnRyXeXmm"
      },
      "execution_count": null,
      "outputs": []
    },
    {
      "cell_type": "code",
      "execution_count": null,
      "metadata": {
        "id": "hEvY0KGkyn7t",
        "colab": {
          "base_uri": "https://localhost:8080/"
        },
        "outputId": "6d811466-9166-47f8-a0bf-a489b1ee1122"
      },
      "outputs": [
        {
          "output_type": "stream",
          "name": "stdout",
          "text": [
            "[2, 2, 4, 4, 6]\n"
          ]
        }
      ],
      "source": [
        "def problema_1(lista): #lista de nueros enteros\n",
        "    #dada una lista NO VACIA con numeros aleatorios enteros positivos, reemplazar a los numeros impares\n",
        "    #de la lista por su consecutivo siguiente y devolver la lista con numeros pares \"listaPares\"\n",
        "    listaPares = []\n",
        "    for num in lista:\n",
        "      if num %2 == 0:\n",
        "        listaPares.append(num)\n",
        "      else:\n",
        "        num += 1\n",
        "        listaPares.append(num)\n",
        "    return(listaPares)# listaPares es una lista\n",
        "print(problema_1([1,2,3,4,5]))"
      ]
    },
    {
      "cell_type": "code",
      "execution_count": null,
      "metadata": {
        "id": "yR18IYCpfEsN",
        "colab": {
          "base_uri": "https://localhost:8080/"
        },
        "outputId": "46b2cf04-a32a-4c4a-c7cf-cc2eb480cfc9"
      },
      "outputs": [
        {
          "output_type": "stream",
          "name": "stdout",
          "text": [
            "[2, 2, 4, 4, 6]\n"
          ]
        }
      ],
      "source": [
        "def problema_1(lista): #lista de nueros enteros  \n",
        "    \n",
        "    listaPares = []\n",
        "\n",
        "    for num in lista:\n",
        "      if num %2 == 0:\n",
        "        listaPares.append(num)\n",
        "      else:\n",
        "        num += 1\n",
        "        listaPares.append(num)\n",
        "\n",
        "    return(listaPares)# listaPares es una lista\n",
        "\n",
        "print(problema_1([1,2,3,4,5]))"
      ]
    },
    {
      "cell_type": "code",
      "execution_count": null,
      "metadata": {
        "colab": {
          "base_uri": "https://localhost:8080/"
        },
        "id": "4wXqV0iAHnn5",
        "outputId": "19b14e7f-bbcf-41f7-a087-4a1f65ffc27e"
      },
      "outputs": [
        {
          "output_type": "stream",
          "name": "stdout",
          "text": [
            "[2, True, 4, True, 6, True, 8, True]\n"
          ]
        }
      ],
      "source": [
        "lista = [1,2,3,4,5,6,7,8]\n",
        "listaPares = []\n",
        "\n",
        "listaPares = [num in lista if num %2 == 0 else num+1 for num in lista]\n",
        "\n",
        "print(listaPares)"
      ]
    },
    {
      "cell_type": "code",
      "source": [
        "lista = [1,2,3,4,5,6,7,8]\n",
        "listaPares = []\n",
        "\n",
        "for num in lista:\n",
        "  if num %2 == 0:\n",
        "    listaPares.append(num)\n",
        "  else:\n",
        "    num += 1\n",
        "    listaPares.append(num)\n",
        "\n",
        "print(listaPares)"
      ],
      "metadata": {
        "colab": {
          "base_uri": "https://localhost:8080/"
        },
        "id": "Ib6Yw6kWNXgB",
        "outputId": "26fdcc56-64c6-4ad4-e3f1-184c5267bb3b"
      },
      "execution_count": null,
      "outputs": [
        {
          "output_type": "stream",
          "name": "stdout",
          "text": [
            "[2, 2, 4, 4, 6, 6, 8, 8]\n"
          ]
        }
      ]
    },
    {
      "cell_type": "markdown",
      "source": [
        "# ***Problema_2***"
      ],
      "metadata": {
        "id": "ab3fe0PgEX-n"
      }
    },
    {
      "cell_type": "code",
      "source": [
        "def problema_2(numeroSerie): #numero serie es una lista\n",
        "    #una empresa de seguridad diseña sus claves a partir del numero de serie del producto, que \n",
        "    #es una lista con 10 numeros enteros entre 10 y 99, los numeros dentro de la lista\n",
        "    #pueden cambiar pero la cantidad siempre es de 10 elementos len(numeroSerie) es 10\n",
        "    #la clave generada siempre es de 8 digitos (xx,xx,xx,xx)\n",
        "    #los dos primeros digitos es el promedio de toda la lista                       (xx......)\n",
        "    #del promedio se debe tomar solo la parte entera, ya que son dos digitos\n",
        "    #los dos digitos siguientes corresponden al mayor numero de la lista            (..xx....)\n",
        "    #los dos que le siguen corresponden al menor de la lista                        (....xx..)\n",
        "    #los ultimos dos digitos es el numero dentro de la lista mas cercana al promedio(......xx)\n",
        "    clave = []\n",
        "\n",
        "    promedio = round(int(sum(numeroSerie) / len(numeroSerie)))\n",
        "    clave.insert(0,promedio)\n",
        "\n",
        "    mayor = max(numeroSerie)\n",
        "    clave.insert(1,mayor)\n",
        "\n",
        "    menor = min(numeroSerie)\n",
        "    clave.insert(2,menor)\n",
        "\n",
        "    # mayor cercano al promedio:\n",
        "    distancia = []\n",
        "    minimo = []\n",
        "    numeroSerie.sort()\n",
        "    numeroSerie.reverse()\n",
        "    for x in numeroSerie:\n",
        "      if x == promedio:\n",
        "        numeroSerie.remove(x)\n",
        "      resultado = abs(promedio - x)\n",
        "      distancia.append(resultado)\n",
        "      minimo = min(distancia)\n",
        "      minPosition = distancia.index(minimo)\n",
        "\n",
        "    cercano = numeroSerie[minPosition]\n",
        "    clave.insert(3,cercano)\n",
        "\n",
        "    return(clave) #clave es una lista\n",
        "print(problema_2([41, 98, 66, 81, 82, 54, 67, 53, 85, 47]))    "
      ],
      "metadata": {
        "id": "psFN1rJ0Eby2",
        "colab": {
          "base_uri": "https://localhost:8080/"
        },
        "outputId": "80ad21d8-8050-4deb-e58f-234b84a1a6cc"
      },
      "execution_count": null,
      "outputs": [
        {
          "output_type": "stream",
          "name": "stdout",
          "text": [
            "[67, 98, 41, 66]\n"
          ]
        }
      ]
    },
    {
      "cell_type": "code",
      "source": [
        "numeroSerie = [41, 98, 66, 81, 82, 54, 67, 53, 85, 47] # entre 10 y 99 (lista aleatoria)\n",
        "len(numeroSerie) # deben ser 10\n",
        "\n",
        "clave = [] \n",
        "len(clave) # deben ser 4 (8 digitos)\n",
        "\n",
        "# primer numero es el promedio de la lista\n",
        "promedio =  int(sum(numeroSerie) / len(numeroSerie))\n",
        "clave.insert(0,promedio)\n",
        "\n",
        "# segundo numero es el mayor de la lista\n",
        "mayor = max(numeroSerie)\n",
        "clave.insert(1,mayor)\n",
        "\n",
        "# tercer numero es el menor de la lista\n",
        "menor = min(numeroSerie)\n",
        "clave.insert(2,menor)\n",
        "\n",
        "# cuarto numero es el mas cercano al promedio\n",
        "distancia = []\n",
        "minimo = []\n",
        "numeroSerie.sort()\n",
        "numeroSerie.reverse()\n",
        "for x in numeroSerie:\n",
        "  if x == promedio:\n",
        "    numeroSerie.remove(x)\n",
        "  resultado = abs(promedio - x)\n",
        "  distancia.append(resultado)\n",
        "  minimo = min(distancia)\n",
        "  minPosition = distancia.index(minimo)\n",
        "\n",
        "cercano = numeroSerie[minPosition]\n",
        "clave.insert(3,cercano)\n",
        "\n",
        "print(clave)\n",
        "print(distancia)\n",
        "print(minimo)\n",
        "print(minPosition)\n",
        "print(numeroSerie)\n",
        "print(numeroSerie[minPosition])"
      ],
      "metadata": {
        "colab": {
          "base_uri": "https://localhost:8080/"
        },
        "id": "Jx-cZIzRo1R7",
        "outputId": "6bff4752-43de-4554-f988-cf269f09b975"
      },
      "execution_count": null,
      "outputs": [
        {
          "output_type": "stream",
          "name": "stdout",
          "text": [
            "[67, 98, 41, 66]\n",
            "[31, 18, 15, 14, 0, 13, 14, 20, 26]\n",
            "0\n",
            "4\n",
            "[98, 85, 82, 81, 66, 54, 53, 47, 41]\n",
            "66\n"
          ]
        }
      ]
    },
    {
      "cell_type": "code",
      "source": [
        "# cuarto numero es el mas cercano al promedio\n",
        "numeroSerie = [10,48,54,85,99,30,15,90,35,78]\n",
        "clave = []\n",
        "\n",
        "promedio =  int(sum(numeroSerie) / len(numeroSerie))\n",
        "clave.insert(0,promedio)\n",
        "\n",
        "mayor = max(numeroSerie)\n",
        "clave.insert(1,mayor)\n",
        "\n",
        "menor = min(numeroSerie)\n",
        "clave.insert(2,menor)\n",
        "\n",
        "distancia = []\n",
        "minimo = []\n",
        "numeroSerie.sort()\n",
        "numeroSerie.reverse()\n",
        "for x in numeroSerie:\n",
        "  resultado = abs(promedio - x)\n",
        "  distancia.append(resultado)\n",
        "  minimo = min(distancia)\n",
        "  minPosition = distancia.index(minimo)\n",
        "cercano = numeroSerie[minPosition]\n",
        "\n",
        "print(numeroSerie)\n",
        "print(distancia)\n",
        "print(minimo)\n",
        "print(minPosition)\n",
        "print(cercano)"
      ],
      "metadata": {
        "colab": {
          "base_uri": "https://localhost:8080/"
        },
        "id": "MEurpJQ--DzS",
        "outputId": "cd72503c-e309-4299-c635-d6896841f148"
      },
      "execution_count": null,
      "outputs": [
        {
          "output_type": "stream",
          "name": "stdout",
          "text": [
            "[99, 90, 85, 78, 54, 48, 35, 30, 15, 10]\n",
            "[48, 39, 34, 27, 3, 3, 16, 21, 36, 41]\n",
            "3\n",
            "4\n",
            "54\n"
          ]
        }
      ]
    },
    {
      "cell_type": "markdown",
      "source": [
        "# ***Problema_3***"
      ],
      "metadata": {
        "id": "unuU0Y4WLv4x"
      }
    },
    {
      "cell_type": "code",
      "source": [
        "def problema_3(palabra):#es de tipo string\n",
        "    #se espera recibir una palabra tipo string, lo que deben hacer es invertir la palabra\n",
        "    #por ejemplo, si ingresa \"hola\", debo retornar \"aloh\"\n",
        "    invertida = '' \n",
        "    for letra in palabra:\n",
        "      invertida = letra + invertida\n",
        "    return(invertida) #el tipo de dato de esta variable tiene que ser STRING\n",
        "print(problema_3('Cangrejo'))    "
      ],
      "metadata": {
        "id": "GxTbO7EaL4eh",
        "colab": {
          "base_uri": "https://localhost:8080/"
        },
        "outputId": "116d545f-91df-4c38-dc9f-adae27c666ba"
      },
      "execution_count": null,
      "outputs": [
        {
          "output_type": "stream",
          "name": "stdout",
          "text": [
            "ojergnaC\n"
          ]
        }
      ]
    },
    {
      "cell_type": "code",
      "source": [
        "palabra = 'Hola soy juan'\n",
        "invertida = ''"
      ],
      "metadata": {
        "id": "L-JD1JCWj9SP"
      },
      "execution_count": null,
      "outputs": []
    },
    {
      "cell_type": "code",
      "source": [
        "def invertir_string(palabra):\n",
        "  invertida = '' \n",
        "  for letra in palabra:\n",
        "    invertida = letra + invertida\n",
        "  return invertida\n",
        "print(invertir_string(palabra))"
      ],
      "metadata": {
        "colab": {
          "base_uri": "https://localhost:8080/"
        },
        "id": "Hkpze3C4dt77",
        "outputId": "bc6333c5-f6ed-470f-918c-58f166d1be15"
      },
      "execution_count": null,
      "outputs": [
        {
          "output_type": "stream",
          "name": "stdout",
          "text": [
            "nauj yos aloH\n"
          ]
        }
      ]
    },
    {
      "cell_type": "markdown",
      "source": [
        "# ***Problema_4***"
      ],
      "metadata": {
        "id": "io86MHnZqD6h"
      }
    },
    {
      "cell_type": "code",
      "source": [
        "def problema_4(polinomio): #polinomio de tipo lista\n",
        "    #se tiene una lista llamada polinomio, de tal manera que si el polinomio es Y=aX^2 + bX + C,\n",
        "    #cada uno de sus terminos estan puestos de la siguiente manera polinomio = [a ,b ,c]\n",
        "    #calcular para cada polinomio las raices y guardarlo en una lista, para retornarlo como respuesta\n",
        "    listaRaices = []\n",
        "\n",
        "    a = polinomio[0]\n",
        "    b = polinomio[1]\n",
        "    c = polinomio[2]\n",
        "\n",
        "    discriminante = b**2-4*a*c\n",
        "\n",
        "    if discriminante > 0:     # D  > 0: 2 soluciones de x  (x1 y x2)\n",
        "      x1 = ((-b + (b**2-4*a*c)**(1/2))/(2*a))\n",
        "      x2 = ((-b - (b**2-4*a*c)**(1/2))/(2*a))\n",
        "      listaRaices.append(x1) \n",
        "      listaRaices.append(x2)\n",
        "      \n",
        "    elif discriminante == 0:  # D = 0: 1 solucion de x (x1)\n",
        "      x1 = ((-b + (b**2-4*a*c)**(1/2))/(2*a))\n",
        "      listaRaices.append(x1)\n",
        "      \n",
        "    else:                     # D < 0: no tiene solucion\n",
        "      pass\n",
        "    return(listaRaices)# si no tiene raices, retornar listaRaices=[], si tiene una raiz\n",
        "                       # retornar listaRaices=[X1], donde X1 es el valor numerico de la raiz,\n",
        "                       # si tiene dos raices retornar listaRaices=[X1 ,X2], donde X1 y X2 son valores\n",
        "                       # numericos de lo que se hallo como raiz. X1 se obtiene con el +, y el X2 se obtiene con el -\n",
        "                       #link de ayuda 1: https://www.youtube.com/watch?v=FwMCStChZnw&t=344s&ab_channel=JULIANCLASES\n",
        "                       #link de ayuda 2: https://www.youtube.com/watch?v=nDxqr-aQ1TQ&ab_channel=MateLike\n",
        "print(problema_4([2,5,2]))"
      ],
      "metadata": {
        "id": "TvDoVW-RqHLj",
        "colab": {
          "base_uri": "https://localhost:8080/"
        },
        "outputId": "743ab951-9a85-44f1-a6eb-631e2aac51ea"
      },
      "execution_count": null,
      "outputs": [
        {
          "output_type": "stream",
          "name": "stdout",
          "text": [
            "[-0.5, -2.0]\n"
          ]
        }
      ]
    },
    {
      "cell_type": "code",
      "source": [
        "polinomio = [1,-3,-4]     # 2 soluciones (correcto)\n",
        "# polinomio = [2,5,2]     # 2 soluciones (correcto)\n",
        "# polinomio = [1,-4,4]    # 1 solucione\n",
        "# polinomio = [3,-3,1]    # 0 soluciones\n",
        "\n",
        "listaRaices = []\n",
        "\n",
        "a = polinomio[0]\n",
        "b = polinomio[1]\n",
        "c = polinomio[2]\n",
        "\n",
        "discriminante = b**2-4*a*c\n",
        "\n",
        "if discriminante > 0:     # D  > 0: 2 soluciones de x  (x1 y x2)\n",
        "  x1 = ((-b + (b**2-4*a*c)**(1/2))/(2*a))\n",
        "  x2 = ((-b - (b**2-4*a*c)**(1/2))/(2*a))\n",
        "  listaRaices.append(x1) \n",
        "  listaRaices.append(x2)\n",
        "  print(listaRaices)\n",
        "elif discriminante == 0:  # D = 0: 1 solucion de x (x1)\n",
        "  x1 = int((-b + (b**2-4*a*c)**(1/2))/(2*a))\n",
        "  listaRaices.append(x1)\n",
        "  print(listaRaices)\n",
        "else:                     # D < 0: no tiene solucion\n",
        "  print(listaRaices)"
      ],
      "metadata": {
        "colab": {
          "base_uri": "https://localhost:8080/"
        },
        "id": "N0QEEIm5uz6A",
        "outputId": "fe262952-fe9d-461a-de09-62554353b620"
      },
      "execution_count": null,
      "outputs": [
        {
          "output_type": "stream",
          "name": "stdout",
          "text": [
            "[4.0, -1.0]\n"
          ]
        }
      ]
    },
    {
      "cell_type": "code",
      "source": [
        "int((-b - (b**2-4*a*c)**(1/2))/2*a)"
      ],
      "metadata": {
        "colab": {
          "base_uri": "https://localhost:8080/"
        },
        "id": "3H8g358pgiZt",
        "outputId": "7d2df998-868b-41c6-d9ec-a6c858b9afae"
      },
      "execution_count": null,
      "outputs": [
        {
          "output_type": "execute_result",
          "data": {
            "text/plain": [
              "-1"
            ]
          },
          "metadata": {},
          "execution_count": 52
        }
      ]
    },
    {
      "cell_type": "code",
      "source": [
        "# discriminante\n",
        "\n",
        "discriminante = b**2-4*a*c\n",
        "\n",
        "if discriminante > 0: # D  > 0: 2 soluciones de x  (+ y -)\n",
        "  listaRaices.append(x1) \n",
        "  listaRaices.append(x2)\n",
        "  print(listaRaices)\n",
        "elif discriminante == 0: # D = 0: 1 solucion de x (+?)\n",
        "  listaRaices.append(x1)\n",
        "  print(listaRaices)\n",
        "else:\n",
        "  print(listaRaices)"
      ],
      "metadata": {
        "colab": {
          "base_uri": "https://localhost:8080/"
        },
        "id": "sGKro7gMeziW",
        "outputId": "ae41c109-aa47-40c6-cc3c-62b04465bbbc"
      },
      "execution_count": null,
      "outputs": [
        {
          "output_type": "execute_result",
          "data": {
            "text/plain": [
              "25"
            ]
          },
          "metadata": {},
          "execution_count": 27
        }
      ]
    },
    {
      "cell_type": "code",
      "source": [
        "# formula raiz cuadrada:\n",
        "7**(1/2)"
      ],
      "metadata": {
        "colab": {
          "base_uri": "https://localhost:8080/"
        },
        "id": "WBtiZELNQw9G",
        "outputId": "166eb04f-d256-4fef-e290-6503fd3ae8d0"
      },
      "execution_count": null,
      "outputs": [
        {
          "output_type": "execute_result",
          "data": {
            "text/plain": [
              "2.6457513110645907"
            ]
          },
          "metadata": {},
          "execution_count": 16
        }
      ]
    },
    {
      "cell_type": "markdown",
      "source": [
        "# ***Problema_5***"
      ],
      "metadata": {
        "id": "2kzxl7q1BYXg"
      }
    },
    {
      "cell_type": "code",
      "source": [
        "def problema_5(clave): #clave es de tipo string\n",
        "    #dada una clave alfa-numerica, de 10 caracteres, recorrer la clave y contar cuantos de esos \n",
        "    #caracteres son numeros, para ello investigar la funcion isNumeric\n",
        "    #link de ayuda: https://www.w3schools.com/python/ref_string_isnumeric.asp\n",
        "    numbers = []\n",
        "\n",
        "    for x in clave:\n",
        "      if x.isnumeric():\n",
        "        numbers.append(x)\n",
        "        \n",
        "    cantidad = len(numbers)\n",
        "    return (cantidad) \n",
        "print(problema_5('a2b$c3&4d5'))      "
      ],
      "metadata": {
        "id": "yNf-BYXqBcEQ",
        "colab": {
          "base_uri": "https://localhost:8080/"
        },
        "outputId": "9eb58d2e-da70-4aaa-8840-79a425072bdc"
      },
      "execution_count": null,
      "outputs": [
        {
          "output_type": "stream",
          "name": "stdout",
          "text": [
            "4\n"
          ]
        }
      ]
    },
    {
      "cell_type": "code",
      "source": [
        "clave = 'a2b$c3&4d5'\n",
        "\n",
        "numbers = []\n",
        "\n",
        "for x in clave:\n",
        "  if x.isnumeric():\n",
        "    numbers.append(x)\n",
        "\n",
        "cantidad = len(numbers)\n",
        "\n",
        "print(cantidad)\n"
      ],
      "metadata": {
        "colab": {
          "base_uri": "https://localhost:8080/"
        },
        "id": "WYWn6A8BBdeI",
        "outputId": "b91f6d7b-3be5-4581-e147-a43d14545da9"
      },
      "execution_count": null,
      "outputs": [
        {
          "output_type": "stream",
          "name": "stdout",
          "text": [
            "4\n"
          ]
        }
      ]
    },
    {
      "cell_type": "markdown",
      "source": [
        "# ***Problema_6***"
      ],
      "metadata": {
        "id": "-U0of19hcrom"
      }
    },
    {
      "cell_type": "code",
      "source": [
        "def problema_6(lista_libros, lista_autores, eleccion): #listas de string, eleccion es de tipo string\n",
        "    #El programa recibe como parámetros una lista de libros y una lista de autores de esos \n",
        "    #mismos libros estando ordenados en correlación, es decir, en la posición 4 de lista_autores está \n",
        "    #el nombre y apellido del autor que creó el libro de la posición 4 de lista_libros. La función \n",
        "    #deberá recibir el nombre de un libro y retornar un autor. \n",
        "    #Ejemplo \n",
        "    #lista_libros = [De Profundis, Hamblet, Demian]\n",
        "    #lista_autores = [Oscar Wilde, Williams Shakespeare, Herman Hesse]\n",
        "    #Al ingresar Hamblet, la función debe retornar \"Williams Shakespeare - Hamblet\". \n",
        "    lista_libros = ['De Profundis','Hamblet','Demian']\n",
        "    lista_autores = ['Oscar Wilde','Williams Shakespeare','Herman Hesse']\n",
        "\n",
        "    autor_libro = str\n",
        "    eleccionCap = eleccion.capitalize()\n",
        "    pos1 = lista_autores[0] +' - '+ lista_libros[0]\n",
        "    pos2 = lista_autores [1] +' - '+ lista_libros[1]\n",
        "    pos3 = lista_autores [2] +' - '+ lista_libros[2]\n",
        "\n",
        "    if eleccionCap == 'De profundis': #Correcta\n",
        "      autor_libro = pos1\n",
        "    elif eleccionCap == 'Hamblet':\n",
        "      autor_libro = pos2\n",
        "    elif eleccionCap == 'Demian':\n",
        "      autor_libro = pos3\n",
        "      \n",
        "    return(autor_libro)  \n",
        "print(problema_6(['De Profundis','Hamblet','Demian'],['Oscar Wilde','Williams Shakespeare','Herman Hesse'],'demian'))    "
      ],
      "metadata": {
        "id": "ranHiVdncuj2",
        "colab": {
          "base_uri": "https://localhost:8080/"
        },
        "outputId": "ac1019ea-bfdb-4167-8f3f-deaf401c8313"
      },
      "execution_count": null,
      "outputs": [
        {
          "output_type": "stream",
          "name": "stdout",
          "text": [
            "Herman Hesse - Demian\n"
          ]
        }
      ]
    },
    {
      "cell_type": "code",
      "source": [
        "lista_libros = ['De Profundis','Hamblet','Demian']\n",
        "lista_autores = ['Oscar Wilde','Williams Shakespeare','Herman Hesse']\n",
        "\n",
        "eleccion = str(input(\"Eleccion: \"))\n",
        "eleccionCap = eleccion.capitalize()\n",
        "\n",
        "autor_libro = str\n",
        "\n",
        "eleccion0 = 'Oscar Wilde - De Profundis'\n",
        "eleccion1 = 'Williams Shakespeare - Hamblet'\n",
        "eleccion2 = 'Herman Hesse - Demian'\n",
        "\n",
        "if eleccionCap == lista_libros[0]:\n",
        "  autor_libro = eleccion0\n",
        "elif eleccionCap == lista_libros[1]:\n",
        "  autor_libro = eleccion1\n",
        "elif eleccionCap == lista_libros[2]:\n",
        "  autor_libro = eleccion2\n",
        "\n",
        "print(autor_libro)"
      ],
      "metadata": {
        "colab": {
          "base_uri": "https://localhost:8080/"
        },
        "id": "iGqCJx6FIt6H",
        "outputId": "9a54232a-24c6-4cea-fdfa-6d9d5781c6dd"
      },
      "execution_count": null,
      "outputs": [
        {
          "output_type": "stream",
          "name": "stdout",
          "text": [
            "Eleccion: demian\n",
            "Herman Hesse - Demian\n"
          ]
        }
      ]
    },
    {
      "cell_type": "markdown",
      "source": [
        "# ***Problema_7***"
      ],
      "metadata": {
        "id": "mV-kHWTphDtY"
      }
    },
    {
      "cell_type": "code",
      "source": [
        "def problema_7(mes): #Número entero positivo del 1 al 12 inclusive\n",
        "    #La función recibe como parámetro un mes y retorna la cantidad de días que contiene ese mes. \n",
        "    #Ejemplo, al ingresar como parámetro el mes 4 (abril) debe retornar (30). Por cuestiones de facilidad, \n",
        "    #se debe suponer que febrero tiene 28 días.\n",
        "    dias = None\n",
        "    if mes in [1,3,5,7,8,10,12]:\n",
        "      dias = 31  \n",
        "\n",
        "    if mes in [2]:\n",
        "      dias = 28  \n",
        "\n",
        "    if mes in [4,6,9,11]:\n",
        "      dias = 30\n",
        "    return(dias) #dias es entero positivo \n",
        "print(problema_7(12))    "
      ],
      "metadata": {
        "colab": {
          "base_uri": "https://localhost:8080/"
        },
        "id": "w79Z57YJhGlg",
        "outputId": "22f2b1c0-031b-49d9-e514-0c46ce28dbd9"
      },
      "execution_count": null,
      "outputs": [
        {
          "output_type": "stream",
          "name": "stdout",
          "text": [
            "31\n"
          ]
        }
      ]
    },
    {
      "cell_type": "code",
      "source": [
        "mes = 12\n",
        "\n",
        "dias = None\n",
        "if mes in [1,3,5,7,8,10,12]:\n",
        "  dias = 31  \n",
        "\n",
        "if mes in [2]:\n",
        "  dias = 28  \n",
        "\n",
        "if mes in [4,6,9,11]:\n",
        "  dias = 30\n",
        "\n",
        "print(dias)"
      ],
      "metadata": {
        "colab": {
          "base_uri": "https://localhost:8080/"
        },
        "id": "Cjs7YnXwhPMZ",
        "outputId": "46b82d57-250c-4868-8919-467043068593"
      },
      "execution_count": null,
      "outputs": [
        {
          "output_type": "stream",
          "name": "stdout",
          "text": [
            "31\n"
          ]
        }
      ]
    },
    {
      "cell_type": "markdown",
      "source": [
        "# ***Problema_8***"
      ],
      "metadata": {
        "id": "UfIHk3l4Jqyw"
      }
    },
    {
      "cell_type": "code",
      "source": [
        "def problema_8(texto): # string\n",
        "    #El programa recibirá un texto (string) y deberá retornar un texto nuevo\n",
        "    #(text_sin) donde se encontrará el texto sin las vocales. Considerar que el texto puede tener vocales con acento, o dieresis (ü)\n",
        "    vocales = 'aeiouäëïöüáéíóúAEIOUÄËÏÖÜÁÉÍÓÚ'\n",
        "\n",
        "    for i in range(len(vocales)):\n",
        "      texto = texto.replace(vocales[i],'')\n",
        "      texto_sin = texto\n",
        "    return(texto_sin) #lista de string\n",
        "print(problema_8('Últimoöó problÉËema y he aquí un piÏíIÏngüino siendo dEËvoraádo por unaäá python'))    "
      ],
      "metadata": {
        "colab": {
          "base_uri": "https://localhost:8080/"
        },
        "id": "7NqKMsVeJuBX",
        "outputId": "3bee9ba7-2e3e-411c-e797-449daba61a37"
      },
      "execution_count": null,
      "outputs": [
        {
          "output_type": "stream",
          "name": "stdout",
          "text": [
            "ltm prblm y h q n pngn snd dvrd pr n pythn\n"
          ]
        }
      ]
    },
    {
      "cell_type": "code",
      "source": [
        "texto = 'Último problema y he aquí un pingüino'\n",
        "texto_sin = ''\n",
        "\n",
        "vocales = 'aeiouäëïöüáéíóúAEIOUÄËÏÖÜÁÉÍÓÚ'\n",
        "\n",
        "for i in range(len(vocales)):\n",
        "  texto = texto.replace(vocales[i],'')\n",
        "  texto_sin = texto\n",
        "print(texto)\n",
        "print(texto_sin)"
      ],
      "metadata": {
        "colab": {
          "base_uri": "https://localhost:8080/"
        },
        "id": "cGYloSpjKO7q",
        "outputId": "fa051082-5b33-4ff5-a5bf-97732c031d91"
      },
      "execution_count": null,
      "outputs": [
        {
          "output_type": "stream",
          "name": "stdout",
          "text": [
            "ltm prblm y h q n pngn\n",
            "ltm prblm y h q n pngn\n"
          ]
        }
      ]
    }
  ],
  "metadata": {
    "colab": {
      "collapsed_sections": [
        "AqVsPycIbN9s",
        "tqFN_nMHZqLi",
        "gdpxkTsHeSVm",
        "ab3fe0PgEX-n",
        "unuU0Y4WLv4x",
        "io86MHnZqD6h",
        "2kzxl7q1BYXg",
        "-U0of19hcrom",
        "mV-kHWTphDtY",
        "UfIHk3l4Jqyw"
      ],
      "provenance": [],
      "include_colab_link": true
    },
    "kernelspec": {
      "display_name": "Python 3",
      "name": "python3"
    },
    "language_info": {
      "name": "python"
    }
  },
  "nbformat": 4,
  "nbformat_minor": 0
}