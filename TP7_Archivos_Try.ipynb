{
  "nbformat": 4,
  "nbformat_minor": 0,
  "metadata": {
    "colab": {
      "provenance": [],
      "collapsed_sections": [
        "1GymX7Xlk0S6",
        "hJBX0dIypa0N",
        "OBrmWWZjcZ8U",
        "eLiU_ST3vVfW",
        "GA6Qyt8R3IDz"
      ],
      "authorship_tag": "ABX9TyPgYwasBBHy+L/Z/H4atZKZ",
      "include_colab_link": true
    },
    "kernelspec": {
      "name": "python3",
      "display_name": "Python 3"
    },
    "language_info": {
      "name": "python"
    }
  },
  "cells": [
    {
      "cell_type": "markdown",
      "metadata": {
        "id": "view-in-github",
        "colab_type": "text"
      },
      "source": [
        "<a href=\"https://colab.research.google.com/github/JuanRoccia/Introduction-to-Python-Programming/blob/main/TP7_Archivos_Try.ipynb\" target=\"_parent\"><img src=\"https://colab.research.google.com/assets/colab-badge.svg\" alt=\"Open In Colab\"/></a>"
      ]
    },
    {
      "cell_type": "markdown",
      "source": [
        "> # **<font color=\"beige\">TP7 MANEJO DE ARCHIVOS TRY Y EXCEPT</font>**\n",
        "\n",
        "---\n",
        "\n"
      ],
      "metadata": {
        "id": "hOqLVItMj_xr"
      }
    },
    {
      "cell_type": "markdown",
      "source": [
        "# **Ejercicio 1**\n",
        "\n",
        "1) Existen dos errores típicos que se pueden producir al manejar archivos\n",
        "\n",
        "*   El primero es abrir un archivo en modo lectura sin antes preguntar si existe tal archivo: **FileNotFoundError**\n",
        "*   La segunda es crear dos archivos con el mismo nombre: **FileExistsError**\n",
        "\n",
        "Realizar funciones que hagan las siguientes tareas:\n",
        "\n",
        "a) Abrir un archivo de texto en modo **lectura**, la función debe recibir como parámetro el nombre del archivo de texto y nada más.<br>\n",
        "Ejemplo: **`def leerArchivo(nombreArchivo):`**<br>\n",
        "La función debe devolver dos valores, el primero es una variable booleana y el segundo un str, es decir, texto.<br>\n",
        "Ejemplo: **`return bien, texto`**<br>\n",
        "**La salida será la siguiente:** `bien=True` si se pudo leer el archivo, además la variable **texto** debe contener todo lo que haya en el archivo de texto.\n",
        "`bien=False` si no existe ese archivo,en tal caso la variable `texto=\"\"`\n",
        "\n",
        "b) Abrir un archivo de texto en modo escritura, si no existe ese archivo que lo cree, La función debe recibir como parámetro el nombre del archivo de texto que se va a crear o abrir, el texto que se va a escribir y una opción para añadir más elementos o para sobrescribir lo que había en el archivo. Ejemplo:\n",
        "**`def escribirArchivo(nombreArchivo, nuevoTexto, opcion):`**<br>\n",
        "La función debe devolver un boolenao, False si se crea un nuevo archivo y True si se modificó un archivo existente.\n",
        "\n",
        "**Datazo**: recordar cerrar el archivo de texto cuando lo hayan abierto."
      ],
      "metadata": {
        "id": "1GymX7Xlk0S6"
      }
    },
    {
      "cell_type": "code",
      "execution_count": null,
      "metadata": {
        "id": "1InYYqFIjhOp"
      },
      "outputs": [],
      "source": [
        "# función para leer el archivo\n",
        "def leerArchivo(nombre):\n",
        "  try:\n",
        "    # intenta abrir y leer el archivo\n",
        "    with open(nombre, 'r', encoding='utf8') as archivo:\n",
        "      datos = archivo.read()\n",
        "      leido = True\n",
        "      return print(f'Leido = {leido}\\n{datos}')\n",
        "  except:\n",
        "    # si ocurre un error, establece leido=False y datos=\"\"\n",
        "    leido = False\n",
        "    datos = \"\"\n",
        "    return print(f'Leido = {leido}\\nNo se puedo leer el archivo o no existe')"
      ]
    },
    {
      "cell_type": "code",
      "source": [
        "leerArchivo('textoVacio.txt')"
      ],
      "metadata": {
        "colab": {
          "base_uri": "https://localhost:8080/"
        },
        "id": "hH0BZNHTLNEo",
        "outputId": "b5651f80-3baf-4132-bcf8-91bb1cec7cc4"
      },
      "execution_count": null,
      "outputs": [
        {
          "output_type": "stream",
          "name": "stdout",
          "text": [
            "Leido = False\n",
            "No se puedo leer el archivo o no existe\n"
          ]
        }
      ]
    },
    {
      "cell_type": "code",
      "source": [
        "leerArchivo('AmorAmarillo.txt')"
      ],
      "metadata": {
        "colab": {
          "base_uri": "https://localhost:8080/"
        },
        "id": "t-Bc4DSaQRup",
        "outputId": "1d158029-e3c1-468a-dab1-123b8495bdc2"
      },
      "execution_count": null,
      "outputs": [
        {
          "output_type": "stream",
          "name": "stdout",
          "text": [
            "Leido = True\n",
            "Adentro tuyo\n",
            "Caigo del sol\n",
            "Adentro tuyo\n",
            "Es único\n",
            "Es único\n",
            "Cuerpos de luz\n",
            "Corriendo en pleno cielo\n",
            "Cristales de amor amarillo\n",
            "No dejaré que seas fría\n",
            "Yo podría calentarte\n",
            "Para abandonarme y renacer\n",
            "Renacer\n",
            "Renacer\n",
            "Explosiones en tus ojos\n",
            "Agujeros en la tierra\n",
            "Y un verde profundo en el mar\n",
            "Hay algo en el aire\n",
            "Un detalle infinito\n",
            "Y quiero que dure para siempre\n",
            "Para siempre\n",
            "Adentro tuyo\n",
            "Caigo del sol\n",
            "Adentro tuyo\n",
            "Es único\n",
            "Adentro tuyo\n",
            "Caigo del sol\n",
            "Adentro tuyo\n",
            "Es único\n",
            "Es único\n",
            "Es único\n",
            "Es único\n",
            "Es único\n",
            "Es único\n",
            "Adentro tuyo\n",
            "Es único\n",
            "Es único\n",
            "Adentro tuyo\n",
            "Es único\n",
            "Es único\n"
          ]
        }
      ]
    },
    {
      "cell_type": "code",
      "source": [
        "# funcion para escribir el archivo\n",
        "def escribirArchivo(nombre, texto, opcion):\n",
        "    try:\n",
        "        # intenta abrir el archivo en modo escritura\n",
        "        with open(nombre, 'a') as archivo:\n",
        "            # si la opción es \"añadir\", escribe el texto en una nueva línea\n",
        "            if opcion == \"añadir\":\n",
        "                archivo.write('\\n' + texto)\n",
        "            # si la opción es \"sobrescribir\", escribe el texto en el archivo\n",
        "            else:\n",
        "                archivo.write(texto)\n",
        "            modificado = True\n",
        "    except:\n",
        "        # si ocurre un error, crea un nuevo archivo con el texto especificado\n",
        "        with open(nombre, 'w') as archivo:\n",
        "            archivo.write(texto)\n",
        "        modificado = False\n",
        "    return modificado"
      ],
      "metadata": {
        "id": "-ApvHpBDUQz8"
      },
      "execution_count": null,
      "outputs": []
    },
    {
      "cell_type": "code",
      "source": [
        "escribirArchivo('nuevo_archivo.txt', 'Este es el texto del archivo nuevo', 'sobrescribir')"
      ],
      "metadata": {
        "colab": {
          "base_uri": "https://localhost:8080/"
        },
        "id": "9_2UmVPrlquJ",
        "outputId": "29ee3a61-22d3-48d7-dc8e-53f3937989b0"
      },
      "execution_count": null,
      "outputs": [
        {
          "output_type": "execute_result",
          "data": {
            "text/plain": [
              "True"
            ]
          },
          "metadata": {},
          "execution_count": 27
        }
      ]
    },
    {
      "cell_type": "code",
      "source": [
        "leerArchivo('nuevo_archivo.txt')"
      ],
      "metadata": {
        "colab": {
          "base_uri": "https://localhost:8080/"
        },
        "id": "tuyjMuKwmTEk",
        "outputId": "d32260d0-370b-4ea3-b290-9149a735b16f"
      },
      "execution_count": null,
      "outputs": [
        {
          "output_type": "stream",
          "name": "stdout",
          "text": [
            "Leido = True\n",
            "Este es el texto del archivo nuevo\n"
          ]
        }
      ]
    },
    {
      "cell_type": "code",
      "source": [
        "escribirArchivo('nuevo_archivo.txt', 'Este es el texto añadido al archivo.', 'añadir')"
      ],
      "metadata": {
        "colab": {
          "base_uri": "https://localhost:8080/"
        },
        "id": "Ek-VI0Dsmhev",
        "outputId": "1892131f-6116-48cb-ed64-02c9f0d263ec"
      },
      "execution_count": null,
      "outputs": [
        {
          "output_type": "execute_result",
          "data": {
            "text/plain": [
              "True"
            ]
          },
          "metadata": {},
          "execution_count": 29
        }
      ]
    },
    {
      "cell_type": "code",
      "source": [
        "leerArchivo('nuevo_archivo.txt')"
      ],
      "metadata": {
        "colab": {
          "base_uri": "https://localhost:8080/"
        },
        "id": "SpShVwZVmuEc",
        "outputId": "edf2b6a6-97df-4442-e628-9e67f30e786a"
      },
      "execution_count": null,
      "outputs": [
        {
          "output_type": "stream",
          "name": "stdout",
          "text": [
            "Leido = True\n",
            "Este es el texto del archivo nuevo\n",
            "Este es el texto añadido al archivo.\n"
          ]
        }
      ]
    },
    {
      "cell_type": "markdown",
      "source": [
        "# **Ejercicio 2**\n",
        "\n",
        "2) En tiempos de guerra mantenerse comunicados es importante, pero mas importante aún es codificar dichos mensajes, suopngan que deben enviar un mensaje desde el frente Ruso en Ucrania a Moscú. Para esto tienen que convertir cada letra a un número de la siguiente manera: las A van a ser el número 1, las B van a ser el número 2 y así. El mensaje tiene que enviarse en forma de lista dentro de un archivo de texto. Tener en cuenta que los espacios entre las palabras se codifica como 0, las comas se codifican como -1, y los puntos como -2.<br>\n",
        "**Ejemplo:** necesitamos enviar el siguiente mensaje **\"hola\"**, el cual quedaría convertido a `[8, 15, 12, 1]`, se espera obtener un archivo de texto con el mensaje codificado."
      ],
      "metadata": {
        "id": "hJBX0dIypa0N"
      }
    },
    {
      "cell_type": "code",
      "source": [
        "# función para codificar un mensaje\n",
        "def codificarMensaje(mensaje):\n",
        "    # diccionario para convertir letras a números\n",
        "    codificacion = {'A': 1, 'B': 2, 'C': 3, 'D': 4, 'E': 5, 'F': 6, 'G': 7, 'H': 8, 'I': 9, 'J': 10,\n",
        "                    'K': 11, 'L': 12, 'M': 13, 'N': 14, 'O': 15, 'P': 16, 'Q': 17, 'R': 18, 'S': 19,\n",
        "                    'T': 20, 'U': 21, 'V': 22, 'W': 23, 'X': 24, 'Y': 25, 'Z': 26,\n",
        "                    ' ': 0, ',': -1, '.': -2}\n",
        "    # lista para almacenar el mensaje codificado\n",
        "    mensaje_codificado = []\n",
        "\n",
        "\n",
        "    # recorre cada caracter del mensaje\n",
        "    for caracter in mensaje:\n",
        "        # si el caracter es un espacio, codifica como 0\n",
        "        if caracter == ' ':\n",
        "            mensaje_codificado.append(0)\n",
        "        # si el caracter es una coma, codifica como -1\n",
        "        elif caracter == ',':\n",
        "            mensaje_codificado.append(-1)\n",
        "        # si el caracter es un punto, codifica como -2\n",
        "        elif caracter == '.':\n",
        "            mensaje_codificado.append(-2)\n",
        "        # si el caracter es una letra, codifica según el diccionario\n",
        "        else:\n",
        "            caracter = caracter.upper()  # convierte la letra a minúscula\n",
        "            mensaje_codificado.append(codificacion[caracter])\n",
        "\n",
        "    return mensaje_codificado"
      ],
      "metadata": {
        "id": "N6qWMi3Dpg67"
      },
      "execution_count": null,
      "outputs": []
    },
    {
      "cell_type": "code",
      "source": [
        "codificarMensaje('hola')"
      ],
      "metadata": {
        "colab": {
          "base_uri": "https://localhost:8080/"
        },
        "id": "VOfunqV3uXPX",
        "outputId": "6fd56cf4-460d-45ff-9d74-50b866db502b"
      },
      "execution_count": null,
      "outputs": [
        {
          "output_type": "execute_result",
          "data": {
            "text/plain": [
              "[8, 15, 12, 1]"
            ]
          },
          "metadata": {},
          "execution_count": 44
        }
      ]
    },
    {
      "cell_type": "code",
      "source": [
        "mensaje_codificado = codificarMensaje('como te va ha, como te va ha, dimelo como te va')"
      ],
      "metadata": {
        "id": "QxaWH5biq8o5"
      },
      "execution_count": null,
      "outputs": []
    },
    {
      "cell_type": "code",
      "source": [
        "# función para escribir el mensaje codificado en un archivo de texto\n",
        "def escribirMensajeCodificado(mensaje_codificado, nombre_archivo):\n",
        "    # abre el archivo en modo escritura\n",
        "    with open(nombre_archivo, 'w') as archivo:\n",
        "        # recorre cada número en la lista\n",
        "        for numero in mensaje_codificado:\n",
        "            # escribe el número en una línea del archivo\n",
        "            archivo.write(str(numero) + '\\n')"
      ],
      "metadata": {
        "id": "PwJHvYKKf0_G"
      },
      "execution_count": null,
      "outputs": []
    },
    {
      "cell_type": "code",
      "source": [
        "escribirMensajeCodificado(mensaje_codificado, nombre_archivo='mensaje_codificado.txt')"
      ],
      "metadata": {
        "id": "HvGlEsbCf9pL"
      },
      "execution_count": null,
      "outputs": []
    },
    {
      "cell_type": "code",
      "source": [
        "escribirMensajeCodificado(mensaje_codificado=[8, 15, 12, 1], nombre_archivo='mensaje.txt')"
      ],
      "metadata": {
        "id": "Dm3IRHkVsj7v"
      },
      "execution_count": null,
      "outputs": []
    },
    {
      "cell_type": "markdown",
      "source": [
        "# **Ejercicio 3**\n",
        "\n",
        "Crear un programa que pueda leer el archivo codificado del ejercicio 2, este programa además debe decodificar el mensaje y hacer otro archivo donde este el mensaje decodificado, para que pueda leerlo la persona correspondiente."
      ],
      "metadata": {
        "id": "OBrmWWZjcZ8U"
      }
    },
    {
      "cell_type": "code",
      "source": [
        "codificacion = {'A': 1, 'B': 2, 'C': 3, 'D': 4, 'E': 5, 'F': 6, 'G': 7, 'H': 8, 'I': 9, 'J': 10,\n",
        "                'K': 11, 'L': 12, 'M': 13, 'N': 14, 'O': 15, 'P': 16, 'Q': 17, 'R': 18, 'S': 19,\n",
        "                'T': 20, 'U': 21, 'V': 22, 'W': 23, 'X': 24, 'Y': 25, 'Z': 26,\n",
        "                ' ': 0, ',': -1, '.': -2}\n",
        "\n",
        "codificacion_invertida = dict((v,k) for k,v in codificacion.items())\n",
        "\n",
        "print(codificacion_invertida)"
      ],
      "metadata": {
        "colab": {
          "base_uri": "https://localhost:8080/"
        },
        "id": "vZ_vx__DeQVU",
        "outputId": "9d8260b7-6247-4c6a-8527-ef282f539b6e"
      },
      "execution_count": null,
      "outputs": [
        {
          "output_type": "stream",
          "name": "stdout",
          "text": [
            "{1: 'A', 2: 'B', 3: 'C', 4: 'D', 5: 'E', 6: 'F', 7: 'G', 8: 'H', 9: 'I', 10: 'J', 11: 'K', 12: 'L', 13: 'M', 14: 'N', 15: 'O', 16: 'P', 17: 'Q', 18: 'R', 19: 'S', 20: 'T', 21: 'U', 22: 'V', 23: 'W', 24: 'X', 25: 'Y', 26: 'Z', 0: ' ', -1: ',', -2: '.'}\n"
          ]
        }
      ]
    },
    {
      "cell_type": "code",
      "source": [
        "# funcion para decodifiar un mensaje\n",
        "def decodificarMensaje(mensaje_codificado):\n",
        "    # Abrimos el archivo en modo lectura\n",
        "    with open(mensaje_codificado, 'r') as file:\n",
        "      # Leemos el contenido del archivo en una variable\n",
        "      contenido = file.read()\n",
        "      # Dividimos el contenido en una lista de palabras\n",
        "      lista_nums = contenido.split()\n",
        "\n",
        "    # Imprimimos la lista de numeros\n",
        "    print(lista_nums)\n",
        "\n",
        "    # una vez que tenemos la lista con las letras podemos decodificar el mensaje\n",
        "\n",
        "    # diccionario para convertir números a letras\n",
        "    decodificacion = {1: 'A', 2: 'B', 3: 'C', 4: 'D', 5: 'E', 6: 'F', 7: 'G', 8: 'H', 9: 'I', 10: 'J', \n",
        "                      11: 'K', 12: 'L', 13: 'M', 14: 'N', 15: 'O', 16: 'P', 17: 'Q', 18: 'R', 19: 'S', \n",
        "                      20: 'T', 21: 'U', 22: 'V', 23: 'W', 24: 'X', 25: 'Y', 26: 'Z', \n",
        "                      0: ' ', -1: ',', -2: '.'}\n",
        "\n",
        "    # lista para almacenar el mensaje decodificado\n",
        "    mensaje_decodificado = []\n",
        "\n",
        "\n",
        "    # recorre cada caracter del mensaje\n",
        "    for caracter in lista_nums:\n",
        "        # si el caracter es 0, codifica como un espacio\n",
        "        if caracter == 0:\n",
        "            mensaje_decodificado.append(' ')\n",
        "        # si el caracter es una -1, codifica como 'coma'\n",
        "        elif caracter == -1:\n",
        "            mensaje_decodificado.append(',')\n",
        "        # si el caracter es un -2, codifica como punto\n",
        "        elif caracter == -2:\n",
        "            mensaje_decodificado.append('.')\n",
        "        # si el caracter es un numero, codifica según el diccionario\n",
        "        else:\n",
        "            caracter = int(caracter)  # convierte la letra a minúscula\n",
        "            mensaje_decodificado.append(decodificacion[caracter])\n",
        "\n",
        "    return print(mensaje_decodificado)"
      ],
      "metadata": {
        "id": "WVPGDjFsc8v0"
      },
      "execution_count": null,
      "outputs": []
    },
    {
      "cell_type": "code",
      "source": [
        "decodificarMensaje(mensaje_codificado='mensaje.txt')"
      ],
      "metadata": {
        "colab": {
          "base_uri": "https://localhost:8080/"
        },
        "id": "csK93FiQhNj7",
        "outputId": "6935c261-9c80-4873-e1c5-7c77ab24f741"
      },
      "execution_count": null,
      "outputs": [
        {
          "output_type": "stream",
          "name": "stdout",
          "text": [
            "['8', '15', '12', '1']\n",
            "['H', 'O', 'L', 'A']\n"
          ]
        }
      ]
    },
    {
      "cell_type": "code",
      "source": [
        "mensaje_decodificado = decodificarMensaje(mensaje_codificado='mensaje_codificado.txt')\n",
        "nombre_archivo = 'mensaje_decodificado'"
      ],
      "metadata": {
        "colab": {
          "base_uri": "https://localhost:8080/"
        },
        "id": "SOlyle6Driz4",
        "outputId": "1344cfd6-5658-48f0-96bf-5c765af7f187"
      },
      "execution_count": null,
      "outputs": [
        {
          "output_type": "stream",
          "name": "stdout",
          "text": [
            "['3', '15', '13', '15', '0', '20', '5', '0', '22', '1', '0', '8', '1', '-1', '0', '3', '15', '13', '15', '0', '20', '5', '0', '22', '1', '0', '8', '1', '-1', '0', '4', '9', '13', '5', '12', '15', '0', '3', '15', '13', '15', '0', '20', '5', '0', '22', '1']\n",
            "['C', 'O', 'M', 'O', ' ', 'T', 'E', ' ', 'V', 'A', ' ', 'H', 'A', ',', ' ', 'C', 'O', 'M', 'O', ' ', 'T', 'E', ' ', 'V', 'A', ' ', 'H', 'A', ',', ' ', 'D', 'I', 'M', 'E', 'L', 'O', ' ', 'C', 'O', 'M', 'O', ' ', 'T', 'E', ' ', 'V', 'A']\n"
          ]
        }
      ]
    },
    {
      "cell_type": "code",
      "source": [
        "mensaje_decodificado = ['C', 'O', 'M', 'O', ' ', 'T', 'E', ' ', 'V', 'A', ' ', 'H', 'A', ',', ' ', 'C', 'O', 'M', 'O', ' ', 'T', 'E', ' ', 'V', 'A', ' ', 'H', 'A', ',', ' ', 'D', 'I', 'M', 'E', 'L', 'O', ' ', 'C', 'O', 'M', 'O', ' ', 'T', 'E', ' ', 'V', 'A']"
      ],
      "metadata": {
        "id": "iLecS20EtSXf"
      },
      "execution_count": null,
      "outputs": []
    },
    {
      "cell_type": "code",
      "source": [
        "# función para escribir el mensaje decodificado en un archivo de texto\n",
        "def escribirMensajeDecodificado(mensaje_decodificado, nombre_archivo):\n",
        "    # abre el archivo en modo escritura\n",
        "    with open(nombre_archivo, 'w') as archivo:\n",
        "        # recorre cada letra en la lista\n",
        "        for numero in mensaje_decodificado:\n",
        "            # escribe la letra en una línea del archivo\n",
        "            archivo.write(str(numero) + '\\n')"
      ],
      "metadata": {
        "id": "0bXA42Seo8qo"
      },
      "execution_count": null,
      "outputs": []
    },
    {
      "cell_type": "code",
      "source": [
        "escribirMensajeDecodificado(mensaje_decodificado, nombre_archivo)"
      ],
      "metadata": {
        "id": "SWNVEPWqs2a5"
      },
      "execution_count": null,
      "outputs": []
    },
    {
      "cell_type": "code",
      "source": [
        "escribirMensajeDecodificado(mensaje_decodificado=['H', 'O', 'L', 'A'], nombre_archivo='mensaje_hola')"
      ],
      "metadata": {
        "id": "bow8bMdRubvP"
      },
      "execution_count": null,
      "outputs": []
    },
    {
      "cell_type": "markdown",
      "source": [
        "# **Ejercicio 4**\n",
        "\n",
        "hacer una función que pueda crear una lista con valores aleatorios, los parámetros de entrada deberían ser `limiteInferior`, `limiteSuperior` y `cantidadElementos`. La función debería devolver una lista con valores aleatorios entre los límites superior e inferior, la lista debe tener `cantidadElementos`. Para ello importar la librería **random**, y usar el método **randint()**"
      ],
      "metadata": {
        "id": "eLiU_ST3vVfW"
      }
    },
    {
      "cell_type": "code",
      "source": [
        "# Importa la función randint() del módulo random.\n",
        "from random import randint\n",
        "\n",
        "# Lista vacía para guardar el resultado\n",
        "lista = []\n",
        "\n",
        "# Parámetros de entrada para generar la secuencia de números\n",
        "print('Puedes cambiar el número mínimo, el número máximo y el número de números aleatorios que deseas generar según tus necesidades.')\n",
        "cantidadElementos = int(input('De cuantos números será le secuencia: '))\n",
        "limiteInferior = int(input('Donde comenzara la secuencia: '))\n",
        "limiteSuperior = int(input('Donde finalizará la secuencia: '))\n",
        "\n",
        "# Usar la función randint() dentro de un bucle for para generar una secuencia de números aleatorios.\n",
        "for i in range(cantidadElementos):\n",
        "    num = randint(limiteInferior, limiteSuperior)\n",
        "    lista.append(num)"
      ],
      "metadata": {
        "colab": {
          "base_uri": "https://localhost:8080/"
        },
        "id": "FXleZtmYwQyP",
        "outputId": "6cb6d950-cbbc-4491-fb68-70097a85d439"
      },
      "execution_count": null,
      "outputs": [
        {
          "name": "stdout",
          "output_type": "stream",
          "text": [
            "Puedes cambiar el número mínimo, el número máximo y el número de números aleatorios que deseas generar según tus necesidades.\n",
            "De cuantos números será le secuencia: 10\n",
            "Donde comenzara la secuencia: 0\n",
            "Donde finalizará la secuencia: 1\n"
          ]
        }
      ]
    },
    {
      "cell_type": "code",
      "source": [
        "# La funcion para ese algoritmo podría ser asi:\n",
        "def GenerarAlt(cantidadElementos, limiteInferior, limiteSuperior):\n",
        "\n",
        "  for i in range(cantidadElementos):\n",
        "    num = randint(limiteInferior, limiteSuperior)\n",
        "    lista.append(num)\n",
        "\n",
        "  return lista"
      ],
      "metadata": {
        "id": "fIRuISQ01bnE"
      },
      "execution_count": null,
      "outputs": []
    },
    {
      "cell_type": "code",
      "source": [
        "# siempre sería necesario contar con los valores de entrada y la lista declarada\n",
        "print(lista)"
      ],
      "metadata": {
        "colab": {
          "base_uri": "https://localhost:8080/"
        },
        "id": "VYhTNiJn2QgE",
        "outputId": "dd499799-f69e-4c2c-edac-2d68db82ec17"
      },
      "execution_count": null,
      "outputs": [
        {
          "output_type": "stream",
          "name": "stdout",
          "text": [
            "[0, 0, 1, 0, 0, 1, 1, 0, 0, 1]\n"
          ]
        }
      ]
    },
    {
      "cell_type": "markdown",
      "source": [
        "# **Ejercicio 5** \n",
        "\n",
        "Vamos a crear el primer juego: la idea del juego es que el programa nos va a mostrar una serie de números entre 1 y el 100 de manera aleatoria, el usuario deberá adivinar si el siuguiente número que nos muestre es mayor, menor o igual. En total el juego nos va a mostrar 11 números aleatorios. Por cada acierto tenemos que generar 10 puntos. Al finalizar la secuencia de 11 números se debe mostrar el puntaje obtenido. <br>\n",
        "Realizar un menú sencillo para jugar, el puntaje se debe guardar en un archivo de texto llamado 'resultados.txt'"
      ],
      "metadata": {
        "id": "GA6Qyt8R3IDz"
      }
    },
    {
      "cell_type": "markdown",
      "source": [
        "***El código podrían ser algo así:***"
      ],
      "metadata": {
        "id": "rgRi1vIu5cTU"
      }
    },
    {
      "cell_type": "code",
      "source": [
        "# Para crear el primer juego, se puede utilizar la función random.randint() de Python para generar números aleatorios \n",
        "# entre 1 y 100. Luego, se puede solicitar al usuario que adivine si el siguiente número es mayor, menor o igual al anterior. \n",
        "# Si el usuario acierta, se le puede sumar 10 puntos a su puntaje.\n",
        "\n",
        "# Importamos el modulo\n",
        "# import random\n",
        "from random import randint\n",
        "\n",
        "def juego():\n",
        "\n",
        "  # Inicializamos el puntaje en 0\n",
        "  puntaje = 0\n",
        "\n",
        "  # Creamos una lista que contendrá los números aleatorios\n",
        "  numeros = []\n",
        "\n",
        "  # Generamos los 11 números aleatorios y los guardamos en la lista\n",
        "  for i in range(11):\n",
        "    numero_aleatorio = random.randint(1, 100)\n",
        "    numeros.append(numero_aleatorio)\n",
        "  \n",
        "  # Devolvemos la lista con los 11 números totales de la partida\n",
        "  print(numeros) # -----------------------------------------------> Esto es un chequeo momentáneo\n",
        "\n",
        "  # Iteramos cada uno de los números de la lista,\n",
        "  for i in range(10):\n",
        "    numero_actual = numeros[i]\n",
        "    siguiente_numero = numeros[i + 1]\n",
        "    # Mostramos el numero actual, solo una vez al usuario\n",
        "    if numero_actual == numeros[0]:\n",
        "      print(f'El número actual es: {numero_actual}')\n",
        "    # Preguntamos al usuario si el siguiente número será mayor, menor o igual\n",
        "    respuesta = input(f\"¿El siguiente número ({siguiente_numero}) será mayor (M), menor (m) o igual (i) que {numero_actual}?\")\n",
        "    # Si la respuesta del usuario es correcta, sumamos 10 puntos al puntaje\n",
        "    if (respuesta == 'M' and siguiente_numero > numero_actual) or (respuesta == 'm' and siguiente_numero < numero_actual) or (respuesta == 'i' and siguiente_numero == numero_actual): \n",
        "      puntaje += 10\n",
        "    # Mostramos cual era el número y el puntaje actual\n",
        "    print(f'El número era: {siguiente_numero}\\nEl puntaje actual: {puntaje}')\n",
        "  \n",
        "  \n",
        "  # Para guardar el puntaje en un archivo de texto, se puede utilizar la función open() de Python \n",
        "  # para crear un archivo de texto llamado resultados.txt y luego utilizar la función write() para escribir \n",
        "  # el puntaje en el archivo.\n",
        "\n",
        "  # Guardamos el puntaje en un archivo de texto\n",
        "  resultados = open(\"resultados.txt\", \"a\")\n",
        "  # Escribimos el puntaje en el archivo\n",
        "  resultados.write(f\"Su puntaje final es {str(puntaje)}.\\n\")\n",
        "  # Cerramos el archivo\n",
        "  resultados.close()\n",
        "\n",
        "  return 'Puntaje total: ',puntaje\n",
        "\n",
        "juego()"
      ],
      "metadata": {
        "id": "-RFrVuFN37uc",
        "colab": {
          "base_uri": "https://localhost:8080/"
        },
        "outputId": "ae51b3a2-dd6b-4ce8-fa66-fc12f766ef67"
      },
      "execution_count": null,
      "outputs": [
        {
          "output_type": "stream",
          "name": "stdout",
          "text": [
            "[9, 44, 20, 62, 67, 20, 89, 26, 73, 24, 55]\n",
            "El número actual es: 9\n",
            "¿El siguiente número (44) será mayor (M), menor (m) o igual (i) que 9?m\n",
            "El número era: 44\n",
            "El puntaje actual: 0\n",
            "¿El siguiente número (20) será mayor (M), menor (m) o igual (i) que 44?m\n",
            "El número era: 20\n",
            "El puntaje actual: 10\n",
            "¿El siguiente número (62) será mayor (M), menor (m) o igual (i) que 20?m\n",
            "El número era: 62\n",
            "El puntaje actual: 10\n",
            "¿El siguiente número (67) será mayor (M), menor (m) o igual (i) que 62?m\n",
            "El número era: 67\n",
            "El puntaje actual: 10\n",
            "¿El siguiente número (20) será mayor (M), menor (m) o igual (i) que 67?m\n",
            "El número era: 20\n",
            "El puntaje actual: 20\n",
            "¿El siguiente número (89) será mayor (M), menor (m) o igual (i) que 20?m\n",
            "El número era: 89\n",
            "El puntaje actual: 20\n",
            "¿El siguiente número (26) será mayor (M), menor (m) o igual (i) que 89?m\n",
            "El número era: 26\n",
            "El puntaje actual: 30\n",
            "¿El siguiente número (73) será mayor (M), menor (m) o igual (i) que 26?m\n",
            "El número era: 73\n",
            "El puntaje actual: 30\n",
            "¿El siguiente número (24) será mayor (M), menor (m) o igual (i) que 73?m\n",
            "El número era: 24\n",
            "El puntaje actual: 40\n",
            "¿El siguiente número (55) será mayor (M), menor (m) o igual (i) que 24?m\n",
            "El número era: 55\n",
            "El puntaje actual: 40\n"
          ]
        },
        {
          "output_type": "execute_result",
          "data": {
            "text/plain": [
              "('Puntaje total: ', 40)"
            ]
          },
          "metadata": {},
          "execution_count": 34
        }
      ]
    },
    {
      "cell_type": "code",
      "source": [
        "# El menú del juego se puede crear utilizando un bucle while que se ejecute mientras el usuario desee jugar. \n",
        "# Dentro del bucle, se puede mostrar al usuario las opciones disponibles y solicitar que elija una de ellas.\n",
        "\n",
        "# Menu interactivo\n",
        "opcion = \"\"\n",
        "while opcion != \"3\":\n",
        "  print(\"Bienvenido al juego de adivinar números\")\n",
        "  print(\"1. Jugar\")\n",
        "  print(\"2. Ver resultados anteriores\")\n",
        "  print(\"3. Salir\")\n",
        "  opcion = input(\"¿Qué opción deseas? (Ingresa el número de la opción)\")\n",
        "\n",
        "  if opcion == \"1\":\n",
        "    juego()\n",
        "  elif opcion == \"2\":\n",
        "    # Mostramos los resultados almacenados en el archivo de texto\n",
        "    resultados = open(\"resultados.txt\", \"r\")\n",
        "    print(resultados.read())\n",
        "    resultados.close()\n",
        "  elif opcion == \"3\":\n",
        "    # Salimos del bucle y finalizamos el juego\n",
        "    break\n",
        "  else:\n",
        "  # Si el usuario ingresa una opción inválida, mostramos un mensaje de error\n",
        "    print(\"Opción inválida. Inténtalo de nuevo.\")"
      ],
      "metadata": {
        "colab": {
          "base_uri": "https://localhost:8080/"
        },
        "id": "WVdcs2jXfgce",
        "outputId": "2be5f5b6-ecc5-451e-bd3e-64933745e407"
      },
      "execution_count": null,
      "outputs": [
        {
          "name": "stdout",
          "output_type": "stream",
          "text": [
            "Bienvenido al juego de adivinar números\n",
            "1. Jugar\n",
            "2. Ver resultados anteriores\n",
            "3. Salir\n",
            "¿Qué opción deseas? (Ingresa el número de la opción)2\n",
            "Su puntaje final es 50.Su puntaje final es 60.\n",
            "Su puntaje final es 30.\n",
            "Su puntaje final es 40.\n",
            "\n",
            "Bienvenido al juego de adivinar números\n",
            "1. Jugar\n",
            "2. Ver resultados anteriores\n",
            "3. Salir\n",
            "¿Qué opción deseas? (Ingresa el número de la opción)1\n",
            "[60, 40, 39, 53, 18, 52, 48, 61, 54, 43, 81]\n",
            "El número actual es: 60\n",
            "¿El siguiente número (40) será mayor (M), menor (m) o igual (i) que 60?m\n",
            "El número era: 40\n",
            "El puntaje actual: 10\n",
            "¿El siguiente número (39) será mayor (M), menor (m) o igual (i) que 40?m\n",
            "El número era: 39\n",
            "El puntaje actual: 20\n",
            "¿El siguiente número (53) será mayor (M), menor (m) o igual (i) que 39?M\n",
            "El número era: 53\n",
            "El puntaje actual: 30\n",
            "¿El siguiente número (18) será mayor (M), menor (m) o igual (i) que 53?m\n",
            "El número era: 18\n",
            "El puntaje actual: 40\n",
            "¿El siguiente número (52) será mayor (M), menor (m) o igual (i) que 18?M\n",
            "El número era: 52\n",
            "El puntaje actual: 50\n",
            "¿El siguiente número (48) será mayor (M), menor (m) o igual (i) que 52?m\n",
            "El número era: 48\n",
            "El puntaje actual: 60\n",
            "¿El siguiente número (61) será mayor (M), menor (m) o igual (i) que 48?M\n",
            "El número era: 61\n",
            "El puntaje actual: 70\n",
            "¿El siguiente número (54) será mayor (M), menor (m) o igual (i) que 61?m\n",
            "El número era: 54\n",
            "El puntaje actual: 80\n",
            "¿El siguiente número (43) será mayor (M), menor (m) o igual (i) que 54?m\n",
            "El número era: 43\n",
            "El puntaje actual: 90\n",
            "¿El siguiente número (81) será mayor (M), menor (m) o igual (i) que 43?M\n",
            "El número era: 81\n",
            "El puntaje actual: 100\n",
            "Bienvenido al juego de adivinar números\n",
            "1. Jugar\n",
            "2. Ver resultados anteriores\n",
            "3. Salir\n",
            "¿Qué opción deseas? (Ingresa el número de la opción)3\n"
          ]
        }
      ]
    }
  ]
}