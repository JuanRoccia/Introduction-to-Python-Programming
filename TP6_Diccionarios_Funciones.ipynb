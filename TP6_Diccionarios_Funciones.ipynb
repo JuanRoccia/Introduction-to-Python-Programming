{
  "nbformat": 4,
  "nbformat_minor": 0,
  "metadata": {
    "colab": {
      "provenance": [],
      "collapsed_sections": [
        "DF9IiYXkbEey",
        "Te4bXK6WH27i",
        "QpqnLYdBNBQK",
        "qPjFsoU-S1BB",
        "KJF8-fN8N1gC",
        "Q4tiVEZMjdE_",
        "fXbKjPI5Attt",
        "15bpsDZbNegU",
        "rYRLi4G1PpI8"
      ],
      "authorship_tag": "ABX9TyOOqlMQXVw9/0Te+wIVUSA2",
      "include_colab_link": true
    },
    "kernelspec": {
      "name": "python3",
      "display_name": "Python 3"
    },
    "language_info": {
      "name": "python"
    }
  },
  "cells": [
    {
      "cell_type": "markdown",
      "metadata": {
        "id": "view-in-github",
        "colab_type": "text"
      },
      "source": [
        "<a href=\"https://colab.research.google.com/github/JuanRoccia/Introduction-to-Python-Programming/blob/main/TP6_Diccionarios_Funciones.ipynb\" target=\"_parent\"><img src=\"https://colab.research.google.com/assets/colab-badge.svg\" alt=\"Open In Colab\"/></a>"
      ]
    },
    {
      "cell_type": "markdown",
      "source": [
        "> # **<font color=\"beige\">TP6 DICCIONARIOS Y MAS FUNCIONES</font>** \n",
        "\n",
        "---\n"
      ],
      "metadata": {
        "id": "sdhiZ0g4Yksa"
      }
    },
    {
      "cell_type": "markdown",
      "source": [
        "# ***Ejercicio 1***\n",
        "\n",
        "1) Escribir un programa que guarde en una variable **simboloMoneda** el diccionario ```{\"Peso\":\"$\",  \"Euro\":\"€\",  \"Dolar\":\"USD\",  \"Yen\":\"¥\"}```, y que el usuario pueda preguntar por una divisa y muestre su símbolo, o un mensaje de aviso si la divisa no está en el diccionario.<br>\n",
        "**Datazo**: recuerden usar el método get() para el diccionario, ver la clase 7 de teoría. "
      ],
      "metadata": {
        "id": "DF9IiYXkbEey"
      }
    },
    {
      "cell_type": "code",
      "execution_count": null,
      "metadata": {
        "colab": {
          "base_uri": "https://localhost:8080/"
        },
        "id": "i95h3DdwYU-a",
        "outputId": "5a8961a2-2d41-4e98-f857-5b0d967de527"
      },
      "outputs": [
        {
          "output_type": "stream",
          "name": "stdout",
          "text": [
            "Ingresa el nombre de una divisa: Dolar\n",
            "El símbolo de la divisa Dolar es: US$\n"
          ]
        }
      ],
      "source": [
        "# Creamos un diccionario que almacena el símbolo de varias monedas\n",
        "simboloMoneda = {'Peso':'$', 'Euro':'€', 'Dolar':'US$', 'Yen':'¥'}\n",
        "\n",
        "# Solicitamos al usuario que ingrese el nombre de una monedan\n",
        "nombreDivisa = input(\"Ingresa el nombre de una divisa: \")\n",
        "\n",
        "# En base a lo solicitado en nombreDivisa\n",
        "if nombreDivisa in simboloMoneda:\n",
        "  # Utilizamos el método get() del diccionario para obtener el símbolo de la divisa\n",
        "  print(f'El símbolo de la divisa {nombreDivisa} es: {simboloMoneda.get(nombreDivisa)}')\n",
        "else:\n",
        "  # Si lo solicitado no se encuentra en el diccionario, es notificado.\n",
        "  print(\"Lo siento, la moneda {} no está en el diccionario\".format(nombreDivisa))"
      ]
    },
    {
      "cell_type": "code",
      "source": [
        "# Otra opcion:\n",
        "\n",
        "# Creamos un diccionario que almacena el símbolo de varias monedas\n",
        "simboloMoneda = {\"Peso\": \"$\", \"Euro\": \"€\", \"Dolar\": \"USD\", \"Yen\": \"¥\"}\n",
        "\n",
        "# Solicitamos al usuario que ingrese el nombre de una moneda\n",
        "nombreMoneda = input(\"Ingresa el nombre de una moneda: \")\n",
        "\n",
        "# Utilizamos el método get() del diccionario para obtener el símbolo de la moneda\n",
        "simbolo = simboloMoneda.get(nombreMoneda)\n",
        "\n",
        "# Si el símbolo no es None (es decir, si la moneda está en el diccionario)\n",
        "# mostramos el símbolo, de lo contrario mostramos un mensaje de aviso\n",
        "if simbolo is not None:\n",
        "    print(\"El símbolo de la moneda {} es: {}\".format(nombreMoneda, simbolo))\n",
        "else:\n",
        "    print(\"Lo siento, la moneda {} no está en el diccionario\".format(nombreMoneda))"
      ],
      "metadata": {
        "colab": {
          "base_uri": "https://localhost:8080/"
        },
        "id": "QCXKdIqlFoyE",
        "outputId": "d5968666-3c29-49f7-b01a-5d72369b3ef2"
      },
      "execution_count": null,
      "outputs": [
        {
          "output_type": "stream",
          "name": "stdout",
          "text": [
            "Ingresa el nombre de una moneda: dolar\n",
            "Lo siento, la moneda dolar no está en el diccionario\n"
          ]
        }
      ]
    },
    {
      "cell_type": "markdown",
      "source": [
        "# ***Ejercicio 2***\n",
        "\n",
        "2) Escribir un programa que guarde en una variable **valorMoneda** el diccionario ```{'Peso':202.75, 'Euro':0.94, 'Dolar':1, 'Yen':127.83}```, y que el usuario pueda preguntar por una divisa y muestre su valor, o un mensaje de aviso si la divisa no está en el diccionario.<br>\n",
        "**Datazo**: recuerden usar el método get() para el diccionario, ver la clase 7 de teoría."
      ],
      "metadata": {
        "id": "Te4bXK6WH27i"
      }
    },
    {
      "cell_type": "code",
      "source": [
        "# Creamos un diccionario que almacena el símbolo de varias monedas\n",
        "valorMoneda = {'Peso':202.75, 'Euro':0.94, 'Dolar':1, 'Yen':127.83}\n",
        "\n",
        "# Solicitamos al usuario que ingrese el nombre de una monedan\n",
        "userCurrency = input(\"Ingresa el nombre de una divisa: \")\n",
        "\n",
        "# En base a lo solicitado en userCurrency\n",
        "if userCurrency in valorMoneda:\n",
        "  # Utilizamos el método get() del diccionario para obtener el símbolo de la divisa\n",
        "  print(f'El valor del {userCurrency} es: {valorMoneda.get(userCurrency)}')\n",
        "else:\n",
        "  # Si lo solicitado no se encuentra en el diccionario, es notificado.\n",
        "  print(\"Lo siento, la divisa {} no está en el diccionario.\".format(userCurrency))"
      ],
      "metadata": {
        "colab": {
          "base_uri": "https://localhost:8080/"
        },
        "id": "onJsj7v4H3Nj",
        "outputId": "61ea6154-05cc-4d3f-ae9a-b2cbeba866d3"
      },
      "execution_count": null,
      "outputs": [
        {
          "output_type": "stream",
          "name": "stdout",
          "text": [
            "Ingresa el nombre de una divisa: Yen\n",
            "El valor del Yen es: 127.83\n"
          ]
        }
      ]
    },
    {
      "cell_type": "markdown",
      "source": [
        "# ***Ejercicio 3***\n",
        "\n",
        "3) Hacer una función que cree un **producto** con un formato de **lista**, la función tiene que tener los siguientes parámetros de entrada, nombre(str), precio(float) y divisa(str).<br>\n",
        "La función debe retortnar una lista , donde los elementos se ubiquen de la siguiente manera `[producto, precio, divisa]`<br>\n",
        "**Ejemplo**: a mi función le paso, \"arroz\",195.52,\"$\". La función me debería de devolver `[\"arroz\", 195.52, \"$\"]`"
      ],
      "metadata": {
        "id": "QpqnLYdBNBQK"
      }
    },
    {
      "cell_type": "code",
      "source": [
        "def Producto(nombre, precio, divisa):\n",
        "  # nombre = str, precio = float, divisa = str\n",
        "  if type(nombre) == str and type(precio) == float and type(divisa) == str:\n",
        "    return [nombre, precio, divisa]\n",
        "  else:\n",
        "    return 'Type error'\n",
        "\n",
        "print(Producto('Arroz', 195.52, '$'))"
      ],
      "metadata": {
        "colab": {
          "base_uri": "https://localhost:8080/"
        },
        "id": "HkjAb1LGNEAm",
        "outputId": "88be923e-c025-4901-ab18-d4d93a5c3b65"
      },
      "execution_count": null,
      "outputs": [
        {
          "output_type": "stream",
          "name": "stdout",
          "text": [
            "['Arroz', 195.52, '$']\n"
          ]
        }
      ]
    },
    {
      "cell_type": "markdown",
      "source": [
        "# **Ejercicio 4**\n",
        "\n",
        "4) Hacer un algoritmo que pueda:\n",
        "\n",
        "* **Crear un diccionario de productos**: usar la función del ejercicio 3, realizarle modificaciones si es necesario. Usar el método update, ver la clase 7 de teoría.\n",
        "\n",
        "* **Mostrar un producto dentro del diccionario de productos**: si el producto no está, que de un mensaje de aviso de que el producto no está.\n",
        "\n",
        "* **Mostrar todos los productos del diccionrio de productos, con sus nombres y precio en la divisa que este:** si el diccionario de productos esta vacío, que muestre un mensaje apropiado.\n",
        "\n",
        "* **Eliminar un producto del diccionario de productos:** si no está el producto que se quiere eliminar, que de un mensaje de aviso de que el producto no está.\n",
        "\n",
        "* **Modificar los precios pasando a otras divisas:** supongan que todos los productos ingresados están en pesos Argentinos y lo queremos pasa a precio dólar, para ello use los diccionarios creados en el ejercicio 1 y 2.\n",
        "\n",
        "Realizar funciones para cada una de las tareas, realizarle un menú interactivo para el usuario.\n",
        "\n",
        "\n"
      ],
      "metadata": {
        "id": "qPjFsoU-S1BB"
      }
    },
    {
      "cell_type": "markdown",
      "source": [
        "## **Paso a Paso**"
      ],
      "metadata": {
        "id": "KJF8-fN8N1gC"
      }
    },
    {
      "cell_type": "code",
      "source": [
        "def Producto(nombre, precio, divisa):\n",
        "  # nombre = str, precio = float, divisa = str\n",
        "  if type(nombre) == str and type(precio) == float and type(divisa) == str:\n",
        "    return [nombre, precio, divisa]\n",
        "  else:\n",
        "    return 'Type error'"
      ],
      "metadata": {
        "id": "ETv-WSZ1V2k0"
      },
      "execution_count": null,
      "outputs": []
    },
    {
      "cell_type": "code",
      "source": [
        "productos = {}\n",
        "# Para crear un diccionario de productos en base a la función Producto(), \n",
        "# primero debemos crear varios objetos Producto y agregarlos al diccionario. Por ejemplo:\n",
        "productos['manzanas'] = Producto('manzanas', 3.99, 'USD')\n",
        "productos['zanahorias'] = Producto('zanahorias', 2.49, 'USD')\n",
        "productos['leche'] = Producto('leche', 4.29, 'USD')\n",
        "# Después de ejecutar este código, el diccionario productos contendrá los elementos \n",
        "# {\"manzanas\": [\"manzanas\", 3.99, \"USD\"], \"zanahorias\": [\"zanahorias\", 2.49, \"USD\"], \"leche\": [\"leche\", 4.29, \"USD\"]}.\n",
        "productos"
      ],
      "metadata": {
        "colab": {
          "base_uri": "https://localhost:8080/"
        },
        "id": "abZekdlhbsHm",
        "outputId": "0b2f7cda-858d-4ceb-eee4-146a78880cc4"
      },
      "execution_count": null,
      "outputs": [
        {
          "output_type": "execute_result",
          "data": {
            "text/plain": [
              "{'manzanas': ['manzanas', 3.99, 'USD'],\n",
              " 'zanahorias': ['zanahorias', 2.49, 'USD'],\n",
              " 'leche': ['leche', 4.29, 'USD']}"
            ]
          },
          "metadata": {},
          "execution_count": 3
        }
      ]
    },
    {
      "cell_type": "code",
      "source": [
        "# Para modificar algún elemento del diccionario, accedemos a traves de la clave del elemento que se desea modificar. \n",
        "# Por ejemplo, para cambiar el precio de las manzanas a 4.29, se puede hacer de la siguiente manera:\n",
        "productos['manzanas'][1] = 4.29\n",
        "# Después de ejecutar este código, el elemento \"manzanas\" del diccionario productos se modificará a [\"manzanas\", 4.29, \"USD\"].\n",
        "productos['manzanas']"
      ],
      "metadata": {
        "colab": {
          "base_uri": "https://localhost:8080/"
        },
        "id": "WZ50AcfOdx4l",
        "outputId": "efcf2555-29b2-441c-d15e-7b7ae90b94e6"
      },
      "execution_count": null,
      "outputs": [
        {
          "output_type": "execute_result",
          "data": {
            "text/plain": [
              "['manzanas', 4.29, 'USD']"
            ]
          },
          "metadata": {},
          "execution_count": 4
        }
      ]
    },
    {
      "cell_type": "code",
      "source": [
        "# Para usar el método update(), simplemente creamos un nuevo diccionarion con sus elementos,\n",
        "# y luego llamar al método update() pasando como argumento el nuevo diccionario.\n",
        "# Por ejemplo, si se desea agregar el producto \"peras\" al diccionario productos, se puede hacer de la siguiente manera:\n",
        "nuevo_producto = {\"peras\": Producto('peras', 3.49, 'USD')}\n",
        "productos.update(nuevo_producto)\n",
        "# Ahora el diccionario productos contendrá el elemento \"peras\" con el valor [\"peras\", 3.49, \"USD\"].\n",
        "productos"
      ],
      "metadata": {
        "colab": {
          "base_uri": "https://localhost:8080/"
        },
        "id": "O2GcNltZfCxO",
        "outputId": "7b022b01-04ac-4e39-fd03-cc2027c66d19"
      },
      "execution_count": null,
      "outputs": [
        {
          "output_type": "execute_result",
          "data": {
            "text/plain": [
              "{'manzanas': ['manzanas', 4.29, 'USD'],\n",
              " 'zanahorias': ['zanahorias', 2.49, 'USD'],\n",
              " 'leche': ['leche', 4.29, 'USD'],\n",
              " 'peras': ['peras', 3.49, 'USD']}"
            ]
          },
          "metadata": {},
          "execution_count": 6
        }
      ]
    },
    {
      "cell_type": "markdown",
      "source": [
        "* **Crear un diccionario de productos**: usar la función del ejercicio 3, realizarle modificaciones si es necesario. Usar el método update, ver la clase 7 de teoría."
      ],
      "metadata": {
        "id": "GfhpAjLCjWO9"
      }
    },
    {
      "cell_type": "code",
      "source": [
        "# Declaro el diccionario de productos fuera de la funcion para que no retorne un diccionario vacio\n",
        "# ya que si se encontrar en la funcion, entonces cada vez que la llamo, esto reinicaria la variable\n",
        "productos = {}\n",
        "\n",
        "# Defino la función Producto, que acepta un diccionario de productos y los nuevos valores\n",
        "# para agregar un producto\n",
        "def AgregarProducto(productos, nombre, precio, divisa):\n",
        "  # nombre = str, precio = float, divisa = str\n",
        "  if type(nombre) == str and type(precio) == float and type(divisa) == str:\n",
        "    nuevo_producto = {nombre:[nombre, precio, divisa]}\n",
        "    productos.update(nuevo_producto)\n",
        "    return productos\n",
        "  else:\n",
        "    return 'Type error'"
      ],
      "metadata": {
        "id": "7AzkQTUoFYY9"
      },
      "execution_count": null,
      "outputs": []
    },
    {
      "cell_type": "code",
      "source": [
        "# Llama a la función para agregar un producto al diccionario\n",
        "productos1 = AgregarProducto(productos, 'manzanas', 3.99, 'USD')\n",
        "\n",
        "# Llama a la función de nuevo para agregar otro producto\n",
        "productos2 = AgregarProducto(productos, 'peras', 4.99, 'USD')\n",
        "\n",
        "# Repito lo mismo pero sin guardarlo en una variable 'producto3'\n",
        "AgregarProducto(productos, 'zanahorias', 2.49, 'USD')\n",
        "\n",
        "# Terminamos de guardar los respectivos productos\n",
        "AgregarProducto(productos, 'leche', 4.29, 'USD')"
      ],
      "metadata": {
        "colab": {
          "base_uri": "https://localhost:8080/"
        },
        "id": "-ekX0khHkAtl",
        "outputId": "4a5f4376-072f-4938-e295-a8f5b8b6d62e"
      },
      "execution_count": null,
      "outputs": [
        {
          "output_type": "execute_result",
          "data": {
            "text/plain": [
              "{'manzanas': ['manzanas', 3.99, 'USD'],\n",
              " 'peras': ['peras', 4.99, 'USD'],\n",
              " 'zanahorias': ['zanahorias', 2.49, 'USD'],\n",
              " 'leche': ['leche', 4.29, 'USD']}"
            ]
          },
          "metadata": {},
          "execution_count": 43
        }
      ]
    },
    {
      "cell_type": "code",
      "source": [
        "productos"
      ],
      "metadata": {
        "colab": {
          "base_uri": "https://localhost:8080/"
        },
        "id": "HCHgW31Rntq0",
        "outputId": "d9d7b5db-4b35-4aa2-f5a1-4f01314f5457"
      },
      "execution_count": null,
      "outputs": [
        {
          "output_type": "execute_result",
          "data": {
            "text/plain": [
              "{'manzanas': ['manzanas', 3.99, 'USD'],\n",
              " 'peras': ['peras', 4.99, 'USD'],\n",
              " 'zanahorias': ['zanahorias', 2.49, 'USD'],\n",
              " 'leche': ['leche', 4.29, 'USD']}"
            ]
          },
          "metadata": {},
          "execution_count": 44
        }
      ]
    },
    {
      "cell_type": "markdown",
      "source": [
        "* **Mostrar un producto dentro del diccionario de productos**: si el producto no está, que de un mensaje de aviso de que el producto no está."
      ],
      "metadata": {
        "id": "S6yks2qqpxfg"
      }
    },
    {
      "cell_type": "code",
      "source": [
        "# función para mostrar un producto del diccionario de productos\n",
        "def mostrar_producto(productos, nombre):\n",
        "  if nombre in productos:\n",
        "    return productos[nombre]\n",
        "  else:\n",
        "    return 'El producto no está en el diccionario de productos'\n",
        "# Esta función acepta dos argumentos: productos, que es el diccionario de productos, y nombre, que es el nombre del producto que se quiere mostrar. \n",
        "# Si el producto está en el diccionario, la función devolverá el valor asociado con la clave nombre en el diccionario productos. \n",
        "# Si el producto no está en el diccionario, devolverá un mensaje de aviso indicando que el producto no está en el diccionario."
      ],
      "metadata": {
        "id": "tK8MbBfjkZ-s"
      },
      "execution_count": null,
      "outputs": []
    },
    {
      "cell_type": "code",
      "source": [
        "# Muestra el producto 'manzanas'\n",
        "mostrar_producto(productos, 'manzanas')"
      ],
      "metadata": {
        "colab": {
          "base_uri": "https://localhost:8080/"
        },
        "id": "W3FPdSvTqTIB",
        "outputId": "00567f54-9de3-4f1c-87b7-023f9ff1e628"
      },
      "execution_count": null,
      "outputs": [
        {
          "output_type": "execute_result",
          "data": {
            "text/plain": [
              "['manzanas', 3.99, 'USD']"
            ]
          },
          "metadata": {},
          "execution_count": 46
        }
      ]
    },
    {
      "cell_type": "code",
      "source": [
        "# Muestra el producto 'peras'\n",
        "mostrar_producto(productos, 'peras')"
      ],
      "metadata": {
        "colab": {
          "base_uri": "https://localhost:8080/"
        },
        "id": "vpF46PE7qUuv",
        "outputId": "1890d25a-92eb-452a-dc2d-0bbc419099a3"
      },
      "execution_count": null,
      "outputs": [
        {
          "output_type": "execute_result",
          "data": {
            "text/plain": [
              "['peras', 4.99, 'USD']"
            ]
          },
          "metadata": {},
          "execution_count": 47
        }
      ]
    },
    {
      "cell_type": "code",
      "source": [
        "# Muestra un producto que no está en el diccionario\n",
        "mostrar_producto(productos, 'naranjas')"
      ],
      "metadata": {
        "colab": {
          "base_uri": "https://localhost:8080/",
          "height": 36
        },
        "id": "M5G7bTa0qYTo",
        "outputId": "a53f9f37-5380-4107-b67b-01bc167bf5d4"
      },
      "execution_count": null,
      "outputs": [
        {
          "output_type": "execute_result",
          "data": {
            "text/plain": [
              "'El producto no está en el diccionario de productos'"
            ],
            "application/vnd.google.colaboratory.intrinsic+json": {
              "type": "string"
            }
          },
          "metadata": {},
          "execution_count": 48
        }
      ]
    },
    {
      "cell_type": "markdown",
      "source": [
        "* **Mostrar todos los productos del diccionrio de productos, con sus nombres y precio en la divisa que este:** si el diccionario de productos esta vacío, que muestre un mensaje apropiado."
      ],
      "metadata": {
        "id": "LH3GfrlesjRx"
      }
    },
    {
      "cell_type": "code",
      "source": [
        "# Función para mostrar todos los productos\n",
        "def mostrar_todos_productos(productos):\n",
        "  if productos == {}:\n",
        "    return 'El diccionario de productos está vacío'\n",
        "  else:\n",
        "    for nombre, datos in productos.items():\n",
        "      print(f'Producto: {nombre} | Precio: {datos[1]} {datos[2]}')\n",
        "# Esta función acepta un único argumento: productos, que es el diccionario de productos. \n",
        "# Si el diccionario está vacío, la función devolverá un mensaje de aviso indicando que el diccionario está vacío. \n",
        "# Si el diccionario no está vacío, recorrerá cada elemento del diccionario y mostrará el nombre del producto, el precio y la divisa."
      ],
      "metadata": {
        "id": "HFt3KdNksh7u"
      },
      "execution_count": null,
      "outputs": []
    },
    {
      "cell_type": "code",
      "source": [
        "# Muestra todos los productos en el diccionario\n",
        "mostrar_todos_productos(productos)"
      ],
      "metadata": {
        "colab": {
          "base_uri": "https://localhost:8080/"
        },
        "id": "aBcyJO6Nv9Ne",
        "outputId": "29bb8da7-e94d-4f1e-f5c5-b50b298e707e"
      },
      "execution_count": null,
      "outputs": [
        {
          "output_type": "stream",
          "name": "stdout",
          "text": [
            "Producto: manzanas | Precio: 3.99 USD\n",
            "Producto: peras | Precio: 4.99 USD\n",
            "Producto: zanahorias | Precio: 2.49 USD\n",
            "Producto: leche | Precio: 4.29 USD\n"
          ]
        }
      ]
    },
    {
      "cell_type": "code",
      "source": [
        "# Muestra el diccionario de productos vacío\n",
        "mostrar_todos_productos({})"
      ],
      "metadata": {
        "colab": {
          "base_uri": "https://localhost:8080/",
          "height": 36
        },
        "id": "ihRLFmTFwCGP",
        "outputId": "c42f40b6-6a34-4eb0-a6ca-f977b8b4a10f"
      },
      "execution_count": null,
      "outputs": [
        {
          "output_type": "execute_result",
          "data": {
            "text/plain": [
              "'El diccionario de productos está vacío'"
            ],
            "application/vnd.google.colaboratory.intrinsic+json": {
              "type": "string"
            }
          },
          "metadata": {},
          "execution_count": 51
        }
      ]
    },
    {
      "cell_type": "code",
      "source": [
        "productos.items()"
      ],
      "metadata": {
        "colab": {
          "base_uri": "https://localhost:8080/"
        },
        "id": "FXqz5R4ywdk2",
        "outputId": "0f10b9f7-c1a5-48ab-828a-6214c18012c6"
      },
      "execution_count": null,
      "outputs": [
        {
          "output_type": "execute_result",
          "data": {
            "text/plain": [
              "dict_items([('manzanas', ['manzanas', 3.99, 'USD']), ('peras', ['peras', 4.99, 'USD']), ('zanahorias', ['zanahorias', 2.49, 'USD']), ('leche', ['leche', 4.29, 'USD'])])"
            ]
          },
          "metadata": {},
          "execution_count": 52
        }
      ]
    },
    {
      "cell_type": "markdown",
      "source": [
        "* **Eliminar un producto del diccionario de productos:** si no está el producto que se quiere eliminar, que de un mensaje de aviso de que el producto no está."
      ],
      "metadata": {
        "id": "eRnvv7a-Bofy"
      }
    },
    {
      "cell_type": "code",
      "source": [
        "# Función para eliminar productos por nombre\n",
        "# Esta función recibe como parámetros el diccionario y el producto 'nombre'\n",
        "# que se desee eliminar\n",
        "def eliminar_producto(productos, nombre):\n",
        "  # Si el nombre se encuentra en el diccionario\n",
        "  if nombre in productos:\n",
        "    # Entonces se elimina el producto mediante el método pop pasanlo el nombre recibido\n",
        "    # y se guarda en la variable produto_eliminado\n",
        "    producto_eliminado = productos.pop(nombre)\n",
        "    print(f'El producto {nombre} ha sido eliminado del diccionario.')\n",
        "  else:\n",
        "    print(f'El producto {nombre} no se encuentra en el diccionario.')\n",
        "    # Finalmente se muestran los mensajes corresponedientes según si el producto fue eliminado\n",
        "    # o si no se encuentra en el diccionario."
      ],
      "metadata": {
        "id": "lW9_Za74BpGp"
      },
      "execution_count": null,
      "outputs": []
    },
    {
      "cell_type": "code",
      "source": [
        "# Eliminar el producto 'manzanas'\n",
        "eliminar_producto(productos, 'manzanas')"
      ],
      "metadata": {
        "colab": {
          "base_uri": "https://localhost:8080/"
        },
        "id": "bU15b2MM5zgT",
        "outputId": "23df2fd3-21c6-47c5-aa58-c0339ad0cc31"
      },
      "execution_count": null,
      "outputs": [
        {
          "output_type": "stream",
          "name": "stdout",
          "text": [
            "El producto manzanas ha sido eliminado del diccionario.\n"
          ]
        }
      ]
    },
    {
      "cell_type": "code",
      "source": [
        "productos.items()\n",
        "# El diccionario ahora es:"
      ],
      "metadata": {
        "colab": {
          "base_uri": "https://localhost:8080/"
        },
        "id": "s6ZXTvIO6ipm",
        "outputId": "ffef4680-2ae9-438b-cd62-28e39e252b21"
      },
      "execution_count": null,
      "outputs": [
        {
          "output_type": "execute_result",
          "data": {
            "text/plain": [
              "dict_items([('peras', ['peras', 4.99, 'USD']), ('zanahorias', ['zanahorias', 2.49, 'USD']), ('leche', ['leche', 4.29, 'USD'])])"
            ]
          },
          "metadata": {},
          "execution_count": 55
        }
      ]
    },
    {
      "cell_type": "code",
      "source": [
        "# Intentar eliminar el producto 'salchichas'\n",
        "eliminar_producto(productos, 'salchichas')"
      ],
      "metadata": {
        "colab": {
          "base_uri": "https://localhost:8080/"
        },
        "id": "C9bcxZNU6NGa",
        "outputId": "c152e224-915a-47e6-e7fc-ebfff5750c5e"
      },
      "execution_count": null,
      "outputs": [
        {
          "output_type": "stream",
          "name": "stdout",
          "text": [
            "El producto salchichas no se encuentra en el diccionario.\n"
          ]
        }
      ]
    },
    {
      "cell_type": "markdown",
      "source": [
        "* **Modificar los precios pasando a otras divisas:** supongan que todos los productos ingresados están en pesos Argentinos y lo queremos pasa a precio dólar, para ello use los diccionarios creados en el ejercicio 1 y 2."
      ],
      "metadata": {
        "id": "OZliYS8n61C5"
      }
    },
    {
      "cell_type": "code",
      "source": [
        "# Como puedo optimizar este codigo:\n",
        "\n",
        "simboloMoneda = {'Peso':'$', 'Euro':'€', 'Dolar':'USD', 'Yen':'¥'}\n",
        "valorMoneda = {'Peso':202.75, 'Euro':0.94, 'Dolar':1, 'Yen':127.83}\n",
        "\n",
        "def modificar_divisa():\n",
        "  # Preguntamos a que divisa se quiere cambiar\n",
        "  moneda = input(\"¿A que moneda desea hacer el cambio? \")\n",
        "  # Consultamos si la moneda requerida se encuentra dentro de las posibles monedas de cambio\n",
        "  if moneda in valorMoneda:\n",
        "    print(f'El valor del {moneda} es: {simboloMoneda.get(moneda)} {valorMoneda.get(moneda)}')\n",
        "\n",
        "    # Obtenemos el valor de la moneda ingresada\n",
        "    valor = valorMoneda.get(moneda)\n",
        "\n",
        "    # Iteramos sobre el diccionario de productos\n",
        "    for producto in productos:\n",
        "      # obtenemos cada precio de cada prodcuto\n",
        "      precio = productos[producto][1]\n",
        "      # Obtenemos la divisa de cada producto\n",
        "      divisaActual = productos[producto][2]\n",
        "\n",
        "      # Evitamos que proceda si la moneda solicitada ya es la divisa actual del diccionario\n",
        "      if simboloMoneda[moneda] == divisaActual:\n",
        "        print(\"Lo siento, el cambio de divisa: {}. Ya esta hecho a la moneda: {}\".format(divisaActual, moneda))\n",
        "        break\n",
        "\n",
        "      # Sino es asi procedemos con el cambio a la moneda solicitada\n",
        "      # simboloMoneda != divisaActual\n",
        "      else:\n",
        "        # Convertimos el precio a la moneda solicitada\n",
        "        productos[producto][1] = precio * valor\n",
        "        # Convertimos la divisa ala divisa solicitada\n",
        "        productos[producto][2] = simboloMoneda.get(moneda)\n",
        "        print(f'El diccionario con los precios modificados: {productos}')\n",
        "\n",
        "  # Si la moneda solicitada no esta disponible, responde un mensaje para eso     \n",
        "  if moneda not in valorMoneda:\n",
        "    return \"Lo siento, la moneda {} no está en el diccionario\".format(moneda)\n",
        "\n",
        "# teniendo en cuenta que hay que modificar los precios pasando a otras divisas: \n",
        "# suponiendo que todos los productos ingresados están en pesos Argentinos y lo queremos pasa a precio dólar"
      ],
      "metadata": {
        "id": "NXWgifXVE8Sk"
      },
      "execution_count": null,
      "outputs": []
    },
    {
      "cell_type": "code",
      "source": [
        "modificar_divisa()"
      ],
      "metadata": {
        "colab": {
          "base_uri": "https://localhost:8080/"
        },
        "id": "n_zHMBJjFqx5",
        "outputId": "562fcbac-87ca-40a5-f956-019a24b769d0"
      },
      "execution_count": null,
      "outputs": [
        {
          "output_type": "stream",
          "name": "stdout",
          "text": [
            "¿A que moneda desea hacer el cambio? Peso\n",
            "El valor del Peso es: $ 202.75\n",
            "Lo siento, el cambio de divisa: $. Ya esta hecho a la moneda: Peso\n"
          ]
        }
      ]
    },
    {
      "cell_type": "code",
      "source": [
        "for producto in productos:\n",
        "    precio = productos[producto][1]\n",
        "    print(f'El precio de {producto} es {precio}')"
      ],
      "metadata": {
        "colab": {
          "base_uri": "https://localhost:8080/"
        },
        "id": "e25t5QDdGmbG",
        "outputId": "8c7759eb-d4b4-499e-b73c-4b95952bb0b5"
      },
      "execution_count": null,
      "outputs": [
        {
          "output_type": "stream",
          "name": "stdout",
          "text": [
            "El precio de peras es 4.99\n",
            "El precio de zanahorias es 2.49\n",
            "El precio de leche es 4.29\n"
          ]
        }
      ]
    },
    {
      "cell_type": "markdown",
      "source": [
        "## **Algoritmo Completo**"
      ],
      "metadata": {
        "id": "Q4tiVEZMjdE_"
      }
    },
    {
      "cell_type": "code",
      "source": [
        "# Diccionario de productos\n",
        "productos = {}\n",
        "\n",
        "# Función para agregar 'nombre=str, precio=float, divisa=str' al diccionario\n",
        "def AgregarProducto(productos, nombre, precio, divisa):\n",
        "  if type(nombre) == str and type(precio) == float and type(divisa) == str:\n",
        "    nuevo_producto = {nombre:[nombre, precio, divisa]}\n",
        "    productos.update(nuevo_producto)\n",
        "    return productos\n",
        "  else:\n",
        "    return 'Type error\\n'\n",
        "\n",
        "# función para mostrar un producto del diccionario de productos\n",
        "def mostrar_producto(productos, nombre):\n",
        "  if nombre in productos:\n",
        "    return productos[nombre]\n",
        "  else:\n",
        "    return 'El producto no está en el diccionario de productos\\n'\n",
        "\n",
        "# Función para mostrar todos los productos\n",
        "def mostrar_todos_productos(productos):\n",
        "  if productos == {}:\n",
        "    return 'El diccionario de productos está vacío'\n",
        "  else:\n",
        "    for nombre, datos in productos.items():\n",
        "      return f'Producto: {nombre} | Precio: {datos[1]} {datos[2]}'\n",
        "\n",
        "# Función para eliminar productos por nombre\n",
        "def eliminar_producto(productos, nombre):\n",
        "  if nombre in productos:\n",
        "    producto_eliminado = productos.pop(nombre)\n",
        "    return f'El producto {nombre} ha sido eliminado del diccionario.'\n",
        "  else:\n",
        "    return f'El producto {nombre} no se encuentra en el diccionario.'\n",
        "\n",
        "# Función para modificar divisas\n",
        "simboloMoneda = {'Peso':'$', 'Euro':'€', 'Dolar':'USD', 'Yen':'¥'}\n",
        "valorMoneda = {'Peso':202.75, 'Euro':0.94, 'Dolar':1, 'Yen':127.83}\n",
        "\n",
        "def modificar_divisa(simboloMoneda, valorMoneda, moneda):\n",
        "  if moneda in valorMoneda:\n",
        "    print(f'El valor del {moneda} es: {simboloMoneda.get(moneda)} {valorMoneda.get(moneda)}\\n')\n",
        "    valor = valorMoneda.get(moneda)\n",
        "    for producto in productos:\n",
        "      precio = productos[producto][1]\n",
        "      divisaActual = productos[producto][2]\n",
        "      if simboloMoneda[moneda] == divisaActual:\n",
        "        return \"Lo siento, el cambio de divisa: {}. Ya esta hecho a la moneda: {}\".format(divisaActual, moneda)\n",
        "        break\n",
        "      else:\n",
        "        productos[producto][1] = precio * valor\n",
        "        productos[producto][2] = simboloMoneda.get(moneda)\n",
        "    return f'El diccionario con los datos: {productos}'\n",
        "  if moneda not in valorMoneda:\n",
        "    return \"Lo siento, la moneda {} no está en el diccionario\".format(moneda)"
      ],
      "metadata": {
        "id": "Qk4IT33Mjj6V"
      },
      "execution_count": null,
      "outputs": []
    },
    {
      "cell_type": "code",
      "source": [
        "#----------------- Main code for examples -----------------------\n",
        "\n",
        "# FUNCION AGREGAR PRODUCTO --------------------\n",
        "\n",
        "# Mostramos el diccionario vacio:\n",
        "print(productos)\n",
        "\n",
        "# Llama a la función para agregar un producto al diccionario\n",
        "productos1 = AgregarProducto(productos, 'manzanas', 3.99, 'USD')\n",
        "\n",
        "# Llama a la función de nuevo para agregar otro producto\n",
        "productos2 = AgregarProducto(productos, 'peras', 4.99, 'USD')\n",
        "\n",
        "# Repito lo mismo pero sin guardarlo en una variable 'producto3'\n",
        "AgregarProducto(productos, 'zanahorias', 2.49, 'USD')\n",
        "\n",
        "# Terminamos de guardar los respectivos productos\n",
        "AgregarProducto(productos, 'leche', 4.29, 'USD')\n",
        "\n",
        "# Mostramos el diccionario ahora\n",
        "print(productos)\n",
        "\n",
        "# FUNCION MOSTRAR PRODUCTO --------------------\n",
        "\n",
        "# Muestra el producto 'manzanas'\n",
        "mostrar1 = mostrar_producto(productos, 'manzanas')\n",
        "\n",
        "# Muestra el producto 'peras'\n",
        "mostrar2 = mostrar_producto(productos, 'peras')\n",
        "\n",
        "# Muestra un producto que no está en el diccionario\n",
        "mostrar3 = mostrar_producto(productos, 'naranjas')\n",
        "\n",
        "# Imprimo\n",
        "print(mostrar1,\n",
        "      mostrar2,\n",
        "      mostrar3)\n",
        "\n",
        "# PARA MOSTRAR DICCIONARIO --------------------\n",
        "\n",
        "# Muestra todos los productos en el diccionario\n",
        "mostrarTodo1 = mostrar_todos_productos(productos)\n",
        "\n",
        "# Si el diccionario de productos esta vacío\n",
        "mostrarTodo2 = mostrar_todos_productos({})\n",
        "\n",
        "#Imprimo\n",
        "print(mostrarTodo1,\n",
        "      mostrarTodo2)\n",
        "\n",
        "# PARA ELIMINAR UN PRODUCTO --------------------\n",
        "\n",
        "# Eliminar el producto 'manzanas'\n",
        "eliminar1 = eliminar_producto(productos, 'manzanas')\n",
        "\n",
        "# Si el producto a eliminar no se encuentra\n",
        "eliminar2 = eliminar_producto(productos, 'salchichas')\n",
        "\n",
        "# Imprimimos\n",
        "print(eliminar1,\n",
        "      eliminar2)\n",
        "\n",
        "# El diccionario como tuplas en una lista con los cambios reflejados\n",
        "print(productos.items())\n",
        "\n",
        "# PARA MODIFICAR DIVISAS --------------------\n",
        "\n",
        "# Camabio divisas a Peso\n",
        "modificar1 = modificar_divisa(simboloMoneda, valorMoneda, 'Peso')\n",
        "\n",
        "# Camabio divisas a Euro\n",
        "modificar2 = modificar_divisa(simboloMoneda, valorMoneda, 'Euro')\n",
        "\n",
        "# Camabio divisas a Yen\n",
        "modificar3 = modificar_divisa(simboloMoneda, valorMoneda, 'Yen')\n",
        "\n",
        "# y si camabio divisas a una moneda ya presente\n",
        "modificar4 = modificar_divisa(simboloMoneda, valorMoneda, 'Yen')\n",
        "\n",
        "# Imprimimos resultados\n",
        "print(modificar1,\n",
        "      modificar2,\n",
        "      modificar3,\n",
        "      modificar4)"
      ],
      "metadata": {
        "colab": {
          "base_uri": "https://localhost:8080/"
        },
        "id": "S0NAT-Cw0KYU",
        "outputId": "424cc5b8-3483-4e69-b5dd-3645619456ec"
      },
      "execution_count": null,
      "outputs": [
        {
          "output_type": "stream",
          "name": "stdout",
          "text": [
            "{}\n",
            "{'manzanas': ['manzanas', 3.99, 'USD']} \n",
            "\n",
            "{'manzanas': ['manzanas', 3.99, 'USD'], 'peras': ['peras', 4.99, 'USD']} \n",
            "\n",
            "{'manzanas': ['manzanas', 3.99, 'USD'], 'peras': ['peras', 4.99, 'USD'], 'zanahorias': ['zanahorias', 2.49, 'USD']} \n",
            "\n",
            "{'manzanas': ['manzanas', 3.99, 'USD'], 'peras': ['peras', 4.99, 'USD'], 'zanahorias': ['zanahorias', 2.49, 'USD'], 'leche': ['leche', 4.29, 'USD']} \n",
            "\n",
            "{'manzanas': ['manzanas', 3.99, 'USD'], 'peras': ['peras', 4.99, 'USD'], 'zanahorias': ['zanahorias', 2.49, 'USD'], 'leche': ['leche', 4.29, 'USD']}\n",
            "(['manzanas', 3.99, 'USD'], '\\n') (['peras', 4.99, 'USD'], '\\n') El producto no está en el diccionario de productos\n",
            "\n",
            "Producto: manzanas | Precio: 3.99 USD\n",
            "\n",
            "Producto: peras | Precio: 4.99 USD\n",
            "\n",
            "Producto: zanahorias | Precio: 2.49 USD\n",
            "\n",
            "Producto: leche | Precio: 4.29 USD\n",
            "\n",
            "None El diccionario de productos está vacío\n",
            "\n",
            "El producto manzanas ha sido eliminado del diccionario.\n",
            "\n",
            "El producto salchichas no se encuentra en el diccionario.\n",
            "\n",
            "None None\n",
            "dict_items([('peras', ['peras', 4.99, 'USD']), ('zanahorias', ['zanahorias', 2.49, 'USD']), ('leche', ['leche', 4.29, 'USD'])])\n",
            "El valor del Peso es: $ 202.75\n",
            "\n",
            "El diccionario con los datos: {'peras': ['peras', 1011.7225000000001, '$'], 'zanahorias': ['zanahorias', 504.8475, '$'], 'leche': ['leche', 869.7975, '$']}\n",
            "\n",
            "El valor del Euro es: € 0.94\n",
            "\n",
            "El diccionario con los datos: {'peras': ['peras', 951.01915, '€'], 'zanahorias': ['zanahorias', 474.55665, '€'], 'leche': ['leche', 817.60965, '€']}\n",
            "\n",
            "El valor del Yen es: ¥ 127.83\n",
            "\n",
            "El diccionario con los datos: {'peras': ['peras', 121568.77794449999, '¥'], 'zanahorias': ['zanahorias', 60662.5765695, '¥'], 'leche': ['leche', 104515.0415595, '¥']}\n",
            "\n",
            "El valor del Yen es: ¥ 127.83\n",
            "\n",
            "Lo siento, el cambio de divisa: ¥. Ya esta hecho a la moneda: Yen\n",
            "\n",
            "El diccionario con los datos: {'peras': ['peras', 121568.77794449999, '¥'], 'zanahorias': ['zanahorias', 60662.5765695, '¥'], 'leche': ['leche', 104515.0415595, '¥']}\n",
            "\n",
            "None None None None\n"
          ]
        }
      ]
    },
    {
      "cell_type": "markdown",
      "source": [
        "## **Menu interactivo**"
      ],
      "metadata": {
        "id": "fXbKjPI5Attt"
      }
    },
    {
      "cell_type": "code",
      "source": [
        "# Por defecto voy a necesitar el diccionario donde almacenar la inforacion y operar con el\n",
        "# Diccionario de productos\n",
        "productos = {}\n",
        "\n",
        "# Diccionarios para el manejo de divisas\n",
        "simboloMoneda = {'Peso':'$', 'Euro':'€', 'Dolar':'USD', 'Yen':'¥'}\n",
        "valorMoneda = {'Peso':202.75, 'Euro':0.94, 'Dolar':1, 'Yen':127.83}\n",
        "\n",
        "# Para hacer un menú interactivo, primero se podría crear una función llamada menu_opciones que imprima en pantalla \n",
        "# las opciones disponibles y pida al usuario que ingrese el número de la opción que desea seleccionar.\n",
        "\n",
        "# Luego, se podría usar un ciclo while para ejecutar \n",
        "# el menú de forma repetida hasta que el usuario ingrese la opción de salir. La función completa podría verse así:\n",
        "\n",
        "def menu_opciones():\n",
        "  salir = False\n",
        "  while not salir:\n",
        "    print('1. Agregar producto')\n",
        "    print('2. Mostrar producto')\n",
        "    print('3. Mostrar todos los productos')\n",
        "    print('4. Eliminar producto')\n",
        "    print('5. Modificar divisa')\n",
        "    print('6. Salir')\n",
        "    opcion = input('Ingrese el número de la opción que desea seleccionar: ')\n",
        "    \n",
        "    if opcion == '1':\n",
        "      print('--- Opcion Agregar Producto ---\\n')\n",
        "      # Pedir al usuario que ingrese los datos del producto y llamar a la función AgregarProducto()\n",
        "      nombre = input('Ingrese nombre del producto: ')\n",
        "      precio = float(input('Ingrese precio del producto: '))\n",
        "      print(simboloMoneda)\n",
        "      divisa = input('seleccione tipo de moneda disponible: ')\n",
        "      if divisa in simboloMoneda:\n",
        "        divisa = simboloMoneda[divisa]\n",
        "        return AgregarProducto(productos, nombre, precio, divisa)\n",
        "      else:\n",
        "        'error en el tipo de divisa'\n",
        "      # while divisa not in simboloMoneda:\n",
        "      #   print(f'Lo siento la divisa: {simboloMoneda[divisa]} no esta disponible. Inténtelo nuevamente')\n",
        "      #   divisa = input('seleccione tipo de moneda: ')  \n",
        "      pass\n",
        "\n",
        "    elif opcion == '2':\n",
        "      print('--- Opcion Mostrar Producto ---\\n')\n",
        "      # Pedir al usuario que ingrese el nombre del producto y llamar a la función mostrar_producto()\n",
        "      nombre = input('Ingrese nombre del producto: ')\n",
        "      return mostrar_producto(productos, nombre)\n",
        "      pass\n",
        "\n",
        "    elif opcion == '3':\n",
        "      print('--- Opcion Mostrar Todos los Producto ---\\n')\n",
        "      # Llamar a la función mostrar_todos_productos()\n",
        "      return mostrar_todos_productos(productos)\n",
        "      pass\n",
        "\n",
        "    elif opcion == '4':\n",
        "      print('--- Opcion Eliminar Producto ---\\n')\n",
        "      # Pedir al usuario que ingrese el nombre del producto y llamar a la función eliminar_producto()\n",
        "      nombre = input('Ingrese nombre del producto: ')\n",
        "      return eliminar_producto(productos, nombre)\n",
        "      pass\n",
        "\n",
        "    elif opcion == '5':\n",
        "      print('--- Opcion Modificar Divisa ---\\n')\n",
        "      # Pedir al usuario que ingrese la moneda y llamar a la función modificar_divisa()\n",
        "      moneda = input(\"¿A que moneda desea hacer el cambio? \")\n",
        "      return modificar_divisa(simboloMoneda, valorMoneda, moneda)\n",
        "      pass\n",
        "\n",
        "    elif opcion == '6':\n",
        "      print('''\n",
        "      ====================\n",
        "      --- Opcion Salir ---\n",
        "      ---------==---------\n",
        "      ------- Exit -------\n",
        "      ====================''')\n",
        "      # Cambiar la variable salir a True para salir del ciclo while\n",
        "      salir = True\n",
        "    else:\n",
        "      print('Opción inválida, intente de nuevo')"
      ],
      "metadata": {
        "id": "Ik8grf-9NB26"
      },
      "execution_count": null,
      "outputs": []
    },
    {
      "cell_type": "code",
      "source": [
        "menu_opciones()"
      ],
      "metadata": {
        "colab": {
          "base_uri": "https://localhost:8080/"
        },
        "id": "D4jLKWwu5YCI",
        "outputId": "d8eaee94-66fe-4e83-c7ad-a4c564be1a92"
      },
      "execution_count": null,
      "outputs": [
        {
          "output_type": "stream",
          "name": "stdout",
          "text": [
            "1. Agregar producto\n",
            "2. Mostrar producto\n",
            "3. Mostrar todos los productos\n",
            "4. Eliminar producto\n",
            "5. Modificar divisa\n",
            "6. Salir\n",
            "Ingrese el número de la opción que desea seleccionar: 6\n",
            "\n",
            "      ====================\n",
            "      --- Opcion Salir ---\n",
            "      ---------==---------\n",
            "      ------- Exit -------\n",
            "      ====================\n"
          ]
        }
      ]
    },
    {
      "cell_type": "code",
      "source": [
        "menu_opciones()"
      ],
      "metadata": {
        "colab": {
          "base_uri": "https://localhost:8080/"
        },
        "id": "YpTzQFmXF_2k",
        "outputId": "4f3b5800-a7dd-4b5d-85ae-1970b6f6add7"
      },
      "execution_count": null,
      "outputs": [
        {
          "output_type": "stream",
          "name": "stdout",
          "text": [
            "1. Agregar producto\n",
            "2. Mostrar producto\n",
            "3. Mostrar todos los productos\n",
            "4. Eliminar producto\n",
            "5. Modificar divisa\n",
            "6. Salir\n",
            "Ingrese el número de la opción que desea seleccionar: 1\n",
            "--- Opcion Agregar Producto ---\n",
            "\n",
            "Ingrese nombre del producto: Tomate\n",
            "Ingrese precio del producto: 25.30\n",
            "{'Peso': '$', 'Euro': '€', 'Dolar': 'USD', 'Yen': '¥'}\n",
            "seleccione tipo de moneda disponible: Peso\n",
            "{'Tomate': ['Tomate', 25.3, '$']} \n",
            "\n",
            "1. Agregar producto\n",
            "2. Mostrar producto\n",
            "3. Mostrar todos los productos\n",
            "4. Eliminar producto\n",
            "5. Modificar divisa\n",
            "6. Salir\n",
            "Ingrese el número de la opción que desea seleccionar: 2\n",
            "--- Opcion Mostrar Producto ---\n",
            "\n",
            "Ingrese nombre del producto: Tomate\n",
            "['Tomate', 25.3, '$'] \n",
            "\n",
            "1. Agregar producto\n",
            "2. Mostrar producto\n",
            "3. Mostrar todos los productos\n",
            "4. Eliminar producto\n",
            "5. Modificar divisa\n",
            "6. Salir\n",
            "Ingrese el número de la opción que desea seleccionar: 1\n",
            "--- Opcion Agregar Producto ---\n",
            "\n",
            "Ingrese nombre del producto: Peras\n",
            "Ingrese precio del producto: 230.45\n",
            "{'Peso': '$', 'Euro': '€', 'Dolar': 'USD', 'Yen': '¥'}\n",
            "seleccione tipo de moneda disponible: Peso\n",
            "{'Tomate': ['Tomate', 25.3, '$'], 'Peras': ['Peras', 230.45, '$']} \n",
            "\n",
            "1. Agregar producto\n",
            "2. Mostrar producto\n",
            "3. Mostrar todos los productos\n",
            "4. Eliminar producto\n",
            "5. Modificar divisa\n",
            "6. Salir\n",
            "Ingrese el número de la opción que desea seleccionar: 3\n",
            "--- Opcion Mostrar Todos los Producto ---\n",
            "\n",
            "Producto: Tomate | Precio: 25.3 $\n",
            "\n",
            "Producto: Peras | Precio: 230.45 $\n",
            "\n",
            "1. Agregar producto\n",
            "2. Mostrar producto\n",
            "3. Mostrar todos los productos\n",
            "4. Eliminar producto\n",
            "5. Modificar divisa\n",
            "6. Salir\n",
            "Ingrese el número de la opción que desea seleccionar: 1\n",
            "--- Opcion Agregar Producto ---\n",
            "\n",
            "Ingrese nombre del producto: salchichas\n",
            "Ingrese precio del producto: 230.00\n",
            "{'Peso': '$', 'Euro': '€', 'Dolar': 'USD', 'Yen': '¥'}\n",
            "seleccione tipo de moneda disponible: Peso\n",
            "{'Tomate': ['Tomate', 25.3, '$'], 'Peras': ['Peras', 230.45, '$'], 'salchichas': ['salchichas', 230.0, '$']} \n",
            "\n",
            "1. Agregar producto\n",
            "2. Mostrar producto\n",
            "3. Mostrar todos los productos\n",
            "4. Eliminar producto\n",
            "5. Modificar divisa\n",
            "6. Salir\n",
            "Ingrese el número de la opción que desea seleccionar: 4\n",
            "--- Opcion Eliminar Producto ---\n",
            "\n",
            "Ingrese nombre del producto: salchichas\n",
            "El producto salchichas ha sido eliminado del diccionario.\n",
            "\n",
            "1. Agregar producto\n",
            "2. Mostrar producto\n",
            "3. Mostrar todos los productos\n",
            "4. Eliminar producto\n",
            "5. Modificar divisa\n",
            "6. Salir\n",
            "Ingrese el número de la opción que desea seleccionar: 5\n",
            "--- Opcion Modificar Divisa ---\n",
            "\n",
            "¿A que moneda desea hacer el cambio? Euro\n",
            "El valor del Euro es: € 0.94\n",
            "\n",
            "El diccionario con los datos: {'Tomate': ['Tomate', 23.782, '€'], 'Peras': ['Peras', 216.623, '€']}\n",
            "\n",
            "1. Agregar producto\n",
            "2. Mostrar producto\n",
            "3. Mostrar todos los productos\n",
            "4. Eliminar producto\n",
            "5. Modificar divisa\n",
            "6. Salir\n",
            "Ingrese el número de la opción que desea seleccionar: 6\n",
            "\n",
            "      ====================\n",
            "      --- Opcion Salir ---\n",
            "      ---------==---------\n",
            "      ------- Exit -------\n",
            "      ====================\n"
          ]
        }
      ]
    },
    {
      "cell_type": "markdown",
      "source": [
        "# **Ejercicio 5**\n",
        "\n",
        "5) Crear un diccionario donde estén los nombres de los alumnos y su correspondiente nota, la estructura seria: **`{'nombre':nota}`**.\n",
        "**Ejemplo: `curso = {'carlos':7, 'pancho':10, 'caro':9}`**"
      ],
      "metadata": {
        "id": "15bpsDZbNegU"
      }
    },
    {
      "cell_type": "code",
      "source": [
        "alumnos = {\n",
        "  \"Juan\": 7.5,\n",
        "  \"Ana\": 9.0,\n",
        "  \"Luis\": 8.0,\n",
        "  \"Sara\": 6.5,\n",
        "  \"Pedro\": 5.0,\n",
        "  \"Jose\": 7.0, \n",
        "}\n",
        "\n",
        "nota_de_juan = alumnos[\"Juan\"]"
      ],
      "metadata": {
        "id": "Jj85_bbsNh10"
      },
      "execution_count": null,
      "outputs": []
    },
    {
      "cell_type": "markdown",
      "source": [
        "# **Ejercicio 6**\n",
        "\n",
        "***( Para este ejericio ejecutar el diccionario del ejercicio 5 )***\n",
        "\n",
        "Del diccionario del ejercicio 5 mostrar los nombres de:\n",
        "*   Los que desaprobaron (nota menor a 6)\n",
        "*   Los que aprobaron (nota entre 6 y menos que 8)\n",
        "*   Los que promocionan (nota entre 8 y 10 inclusive)\n",
        "*   Todos los alumnos.\n",
        "\n",
        "Realizar una o mas funciones para abarcar todas las tareas, además se debe crear un menú interactivo para un usuario.\n",
        "\n"
      ],
      "metadata": {
        "id": "rYRLi4G1PpI8"
      }
    },
    {
      "cell_type": "code",
      "source": [
        "# acceder a la nota de Juan\n",
        "nota_de_juan = alumnos[\"Juan\"]\n",
        "\n",
        "# cambiar la nota de Juan\n",
        "alumnos[\"Juan\"] = 8.0\n",
        "\n",
        "# agregar un nuevo alumno\n",
        "alumnos[\"Maria\"] = 9.5"
      ],
      "metadata": {
        "id": "WAufS5z2Ppcx"
      },
      "execution_count": null,
      "outputs": []
    },
    {
      "cell_type": "code",
      "source": [
        "alumnos"
      ],
      "metadata": {
        "colab": {
          "base_uri": "https://localhost:8080/"
        },
        "id": "j2GfbJmRRLA-",
        "outputId": "2854d256-8412-4a2e-a48b-7e70805279c1"
      },
      "execution_count": null,
      "outputs": [
        {
          "output_type": "execute_result",
          "data": {
            "text/plain": [
              "{'Juan': 8.0,\n",
              " 'Ana': 9.0,\n",
              " 'Luis': 8.0,\n",
              " 'Sara': 6.5,\n",
              " 'Pedro': 5.0,\n",
              " 'Jose': 7.0,\n",
              " 'Maria': 9.5}"
            ]
          },
          "metadata": {},
          "execution_count": 13
        }
      ]
    },
    {
      "cell_type": "code",
      "source": [
        "# Algoritmo para clasificar alumnos\n",
        "\n",
        "alumnos_items = alumnos.items()\n",
        "desaprobados = {}\n",
        "aprobados = {}\n",
        "promocionan = {}\n",
        "todos = {}\n",
        "\n",
        "for alumno in alumnos_items:\n",
        "  todos.update({alumno})\n",
        "  nota = alumno[1] \n",
        "  if nota < 6:\n",
        "    desaprobados.update({alumno})\n",
        "  if nota >= 6 and nota < 8:\n",
        "    aprobados.update({alumno})\n",
        "  if nota >= 8 and nota <= 10:\n",
        "    promocionan.update({alumno})\n",
        "\n",
        "print(f'Desaprobados: {desaprobados}\\nAprobados: {aprobados}\\nPromocionan: {promocionan}\\nTodos: {todos}')"
      ],
      "metadata": {
        "colab": {
          "base_uri": "https://localhost:8080/"
        },
        "id": "D_Y4gYXBRe1B",
        "outputId": "b05e4032-1040-4f52-bf9a-ee99486e912a"
      },
      "execution_count": null,
      "outputs": [
        {
          "output_type": "stream",
          "name": "stdout",
          "text": [
            "Desaprobados: {'Pedro': 5.0}\n",
            "Aprobados: {'Sara': 6.5, 'Jose': 7.0}\n",
            "Promocionan: {'Juan': 8.0, 'Ana': 9.0, 'Luis': 8.0, 'Maria': 9.5}\n",
            "Todos: {'Juan': 8.0, 'Ana': 9.0, 'Luis': 8.0, 'Sara': 6.5, 'Pedro': 5.0, 'Jose': 7.0, 'Maria': 9.5}\n"
          ]
        }
      ]
    },
    {
      "cell_type": "markdown",
      "source": [
        "## **Programa Completo**"
      ],
      "metadata": {
        "id": "RZcQIwT1_x7E"
      }
    },
    {
      "cell_type": "code",
      "source": [
        "# Funcion de clasificacion de alumnos\n",
        "# alumnos == diccionario\n",
        "\n",
        "# Requerimientos para la función\n",
        "alumnos_items = alumnos.items()\n",
        "desaprobados = {}\n",
        "aprobados = {}\n",
        "promocionan = {}\n",
        "todos = {}\n",
        "\n",
        "# La función per se\n",
        "def clasificacion_alumnos(alumnos):\n",
        "  for alumno in alumnos_items:\n",
        "    todos.update({alumno})\n",
        "    nota = alumno[1] \n",
        "    if nota < 6:\n",
        "      desaprobados.update({alumno})\n",
        "    if nota >= 6 and nota < 8:\n",
        "      aprobados.update({alumno})\n",
        "    if nota >= 8 and nota <= 10:\n",
        "      promocionan.update({alumno})\n",
        "\n",
        "def menu_alumnos():\n",
        "  salir = False\n",
        "  while not salir:\n",
        "    print('1. Desaprobados')\n",
        "    print('2. Aprobados')\n",
        "    print('3. Promocionados')\n",
        "    print('4. Todos')\n",
        "    print('5. Salir')\n",
        "    opcion = input('Ingrese el número de la opción que desea seleccionar: ')\n",
        "\n",
        "    if opcion == '1':\n",
        "      clasificacion_alumnos(alumnos)\n",
        "      return f'Desaprobados: {desaprobados}'\n",
        "    elif opcion == '2':\n",
        "      clasificacion_alumnos(alumnos)\n",
        "      return f'Aprobados: {aprobados}'\n",
        "    elif opcion == '3':\n",
        "      clasificacion_alumnos(alumnos)\n",
        "      return f'Promocionan: {promocionan}'\n",
        "    elif opcion == '4':\n",
        "      clasificacion_alumnos(alumnos)\n",
        "      return f'Todos los alumnos: {todos}'\n",
        "    elif opcion == '5':\n",
        "      salir = True\n",
        "      return 'Exit'\n",
        "    else:\n",
        "      return 'Opcion invalida, intente de nuevo.'"
      ],
      "metadata": {
        "id": "4jqRfbgy1NKD"
      },
      "execution_count": null,
      "outputs": []
    },
    {
      "cell_type": "code",
      "source": [
        "menu_alumnos()"
      ],
      "metadata": {
        "colab": {
          "base_uri": "https://localhost:8080/",
          "height": 140
        },
        "id": "1UKxTFZB-B5F",
        "outputId": "ab69eec0-1d8d-4e52-a73d-ac36dea2bca3"
      },
      "execution_count": null,
      "outputs": [
        {
          "name": "stdout",
          "output_type": "stream",
          "text": [
            "1. Desaprobados\n",
            "2. Aprobados\n",
            "3. Promocionados\n",
            "4. Todos\n",
            "5. Salir\n",
            "Ingrese el número de la opción que desea seleccionar: 3\n"
          ]
        },
        {
          "output_type": "execute_result",
          "data": {
            "text/plain": [
              "\"Promocionan: {'Juan': 8.0, 'Ana': 9.0, 'Luis': 8.0, 'Maria': 9.5}\""
            ],
            "application/vnd.google.colaboratory.intrinsic+json": {
              "type": "string"
            }
          },
          "metadata": {},
          "execution_count": 83
        }
      ]
    }
  ]
}