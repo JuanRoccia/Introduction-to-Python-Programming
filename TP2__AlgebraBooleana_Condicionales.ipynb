{
  "nbformat": 4,
  "nbformat_minor": 0,
  "metadata": {
    "colab": {
      "provenance": [],
      "collapsed_sections": [
        "14oxIAjAU1IY",
        "k1W9kGOdVl9X",
        "wLyXRU5rf5eO",
        "VEPsMsQxv7pC",
        "e8oI5U19GRda",
        "HnCkcvH1CCW2",
        "ZBvz9xVi8u6E",
        "KVf_zIWUolC8"
      ],
      "authorship_tag": "ABX9TyM4mnF6J3K7q+ch8i68gnCy",
      "include_colab_link": true
    },
    "kernelspec": {
      "name": "python3",
      "display_name": "Python 3"
    },
    "language_info": {
      "name": "python"
    }
  },
  "cells": [
    {
      "cell_type": "markdown",
      "metadata": {
        "id": "view-in-github",
        "colab_type": "text"
      },
      "source": [
        "<a href=\"https://colab.research.google.com/github/JuanRoccia/Introduction-to-Python-Programming/blob/main/TP2__AlgebraBooleana_Condicionales.ipynb\" target=\"_parent\"><img src=\"https://colab.research.google.com/assets/colab-badge.svg\" alt=\"Open In Colab\"/></a>"
      ]
    },
    {
      "cell_type": "markdown",
      "source": [
        "# 1) Para cada una de las condiciones, escribir si es verdadero (True) o (False)."
      ],
      "metadata": {
        "id": "14oxIAjAU1IY"
      }
    },
    {
      "cell_type": "code",
      "execution_count": null,
      "metadata": {
        "colab": {
          "base_uri": "https://localhost:8080/"
        },
        "id": "FANX5twl9srz",
        "outputId": "7013241e-c6e2-4cdd-d941-f5a6b1d53af7"
      },
      "outputs": [
        {
          "output_type": "execute_result",
          "data": {
            "text/plain": [
              "False"
            ]
          },
          "metadata": {},
          "execution_count": 4
        }
      ],
      "source": [
        "\"hola\"==\"Hola\""
      ]
    },
    {
      "cell_type": "code",
      "source": [
        "print(f'3!=4 (this is {3 !=4 })')"
      ],
      "metadata": {
        "colab": {
          "base_uri": "https://localhost:8080/"
        },
        "id": "JPmupGXY-lsY",
        "outputId": "84f5e75f-48c3-46c8-85df-3495adee1a26"
      },
      "execution_count": null,
      "outputs": [
        {
          "output_type": "stream",
          "name": "stdout",
          "text": [
            "3!=4 (this is True)\n"
          ]
        }
      ]
    },
    {
      "cell_type": "code",
      "source": [
        "(1==1) and (\"m\"==\"m\")"
      ],
      "metadata": {
        "colab": {
          "base_uri": "https://localhost:8080/"
        },
        "id": "uWMpznDv-o6Q",
        "outputId": "6905d0be-6b5c-4a2c-ad32-b7de05bfb237"
      },
      "execution_count": null,
      "outputs": [
        {
          "output_type": "execute_result",
          "data": {
            "text/plain": [
              "True"
            ]
          },
          "metadata": {},
          "execution_count": 8
        }
      ]
    },
    {
      "cell_type": "code",
      "source": [
        "(7==4) or (\"messi\"==\"messi\")"
      ],
      "metadata": {
        "colab": {
          "base_uri": "https://localhost:8080/"
        },
        "id": "6CzQn2Qe-wwI",
        "outputId": "af27068a-d0d4-4348-e207-7e85a191cc9f"
      },
      "execution_count": null,
      "outputs": [
        {
          "output_type": "execute_result",
          "data": {
            "text/plain": [
              "True"
            ]
          },
          "metadata": {},
          "execution_count": 12
        }
      ]
    },
    {
      "cell_type": "code",
      "source": [
        "not(True)"
      ],
      "metadata": {
        "colab": {
          "base_uri": "https://localhost:8080/"
        },
        "id": "w6MRXOI__AER",
        "outputId": "ed36af78-4207-4494-c435-1092d3d76729"
      },
      "execution_count": null,
      "outputs": [
        {
          "output_type": "execute_result",
          "data": {
            "text/plain": [
              "False"
            ]
          },
          "metadata": {},
          "execution_count": 14
        }
      ]
    },
    {
      "cell_type": "code",
      "source": [
        "not(False or (\"Python\"==\"python\"))"
      ],
      "metadata": {
        "colab": {
          "base_uri": "https://localhost:8080/"
        },
        "id": "X9831pBc_EkQ",
        "outputId": "d542535c-c468-44ae-c4f5-7236e7a4ab6b"
      },
      "execution_count": null,
      "outputs": [
        {
          "output_type": "execute_result",
          "data": {
            "text/plain": [
              "True"
            ]
          },
          "metadata": {},
          "execution_count": 16
        }
      ]
    },
    {
      "cell_type": "code",
      "source": [
        "True or (\"final\"==\"finales\") or (5!=7)"
      ],
      "metadata": {
        "colab": {
          "base_uri": "https://localhost:8080/"
        },
        "id": "MRP38pqF_V5f",
        "outputId": "0845086e-4471-46d4-d232-09a505b648d4"
      },
      "execution_count": null,
      "outputs": [
        {
          "output_type": "execute_result",
          "data": {
            "text/plain": [
              "True"
            ]
          },
          "metadata": {},
          "execution_count": 19
        }
      ]
    },
    {
      "cell_type": "code",
      "source": [
        "3==3 and (not(\"testing\"==\"testing\" or \"Python\"==\"Divertido\"))"
      ],
      "metadata": {
        "colab": {
          "base_uri": "https://localhost:8080/"
        },
        "id": "BiIGR98E_tyo",
        "outputId": "5670d22a-9351-4720-fe4e-dde54bd7a47c"
      },
      "execution_count": null,
      "outputs": [
        {
          "output_type": "execute_result",
          "data": {
            "text/plain": [
              "False"
            ]
          },
          "metadata": {},
          "execution_count": 24
        }
      ]
    },
    {
      "cell_type": "markdown",
      "source": [
        "# 2) Se desea un algoritmo que realice la división de dos números, pero el programa debe devolver los siguientes resultados:\n",
        "\n",
        "La división real.\n",
        "\n",
        "La división entera, es decir, se espera un número entero de la división.\n",
        "\n",
        "El resto de la división."
      ],
      "metadata": {
        "id": "k1W9kGOdVl9X"
      }
    },
    {
      "cell_type": "code",
      "source": [
        "print(\"Este algoritmo realiza la división de dos números.\")\n",
        "print(\"Por favor, ingrese el número que desea dividir.\")\n",
        "a = float (input(\"Dividendo: \"))\n",
        "print(\"Y ahora ingrese por cuanto lo quiere dividir.\")\n",
        "b = float (input(\"Divisor: \"))\n",
        "print()\n",
        "divisionFloat = a/b\n",
        "divisionInt = int (a/b)\n",
        "c = divisionInt * b \n",
        "resto = int (a - c)\n",
        "print(\"La division real es:\", divisionFloat)\n",
        "print()\n",
        "print(\"La division entera es:\", divisionInt)\n",
        "print()\n",
        "print(\"El residuo es:\", resto)\n",
        "print()\n"
      ],
      "metadata": {
        "colab": {
          "base_uri": "https://localhost:8080/"
        },
        "id": "i9jDHX_yWPDt",
        "outputId": "624d96ae-3e40-4f9c-83ae-49b907d57032"
      },
      "execution_count": null,
      "outputs": [
        {
          "output_type": "stream",
          "name": "stdout",
          "text": [
            "Este algoritmo realiza la división de dos números.\n",
            "Por favor, ingrese el número que desea dividir.\n",
            "Dividendo: 78\n",
            "Y ahora ingrese por cuanto lo quiere dividir.\n",
            "Divisor: 17\n",
            "\n",
            "La division real es: 4.588235294117647\n",
            "\n",
            "La division entera es: 4\n",
            "\n",
            "El residuo es: 10\n",
            "\n"
          ]
        }
      ]
    },
    {
      "cell_type": "markdown",
      "source": [
        "# 3) Del Trabajo Práctio 0, escribir los algoritmos de los ejercicios 8 al 11."
      ],
      "metadata": {
        "id": "wLyXRU5rf5eO"
      }
    },
    {
      "cell_type": "code",
      "source": [
        "# Ejercicio 7\n",
        "\n",
        "print(\"Bienvenido a 'La Timba'\")\n",
        "print()\n",
        "\n",
        "print(\"Vamos a jugar al pase ingles version demo, asique preparen sus criptomonedas.\")\n",
        "print(\"El que saque 7 gana.\")\n",
        "print()\n",
        "\n",
        "accion=input(\"lanzar dado\")\n",
        "import time \n",
        "time.sleep(1)\n",
        "\n",
        "import random\n",
        "\n",
        "dado = [0, 1, 2, 3, 4, 5, 6]\n",
        "\n",
        "dado1 = dado[random.randint(1,6)]\n",
        "print(\"Su número es:\",dado1)    \n",
        "print()\n",
        "import time \n",
        "time.sleep(1)\n",
        "\n",
        "accion=input(\"Lanze el dado una vez mas\")\n",
        "import time \n",
        "time.sleep(2)\n",
        "\n",
        "import random\n",
        "\n",
        "dado = [0, 1, 2, 3, 4, 5, 6]\n",
        "\n",
        "dado2 = dado[random.randint(1,6)]\n",
        "print(\"Su número es:\",dado2)\n",
        "print()\n",
        "\n",
        "resultado = dado1 + dado2\n",
        "\n",
        "if resultado == 7:\n",
        "    print(\"Resultado:\",resultado)\n",
        "    print(\"Felicitaciones, has ganado 1 bitcoin.\")\n",
        "else:\n",
        "    print(\"Resultado:\",resultado)\n",
        "    print(\"Vaya, eres malo, no olvides jugar con moderación.\")"
      ],
      "metadata": {
        "colab": {
          "base_uri": "https://localhost:8080/"
        },
        "id": "aQYywk85sPgC",
        "outputId": "c4bd5d51-1446-4631-e30f-b6f6ab2b3f8a"
      },
      "execution_count": null,
      "outputs": [
        {
          "output_type": "stream",
          "name": "stdout",
          "text": [
            "Bienvenido a 'La Timba'\n",
            "\n",
            "Vamos a jugar al pase ingles, asique preparen sus criptomonedas.\n",
            "El que saque 7 gana.\n",
            "\n",
            "lanzar dado\n",
            "Su número es: 5\n",
            "\n",
            "Lanze el dado una vez mas\n",
            "Su número es: 4\n",
            "\n",
            "Resultado: 9\n",
            "Vaya, eres malo, no olvides jugar con moderación.\n"
          ]
        }
      ]
    },
    {
      "cell_type": "code",
      "source": [
        "# Ejercicio 8\n",
        "\n",
        "print(\"El siguiente pograma quiere saber quien es mayor de los dos.\")\n",
        "print(\"Ingrese su edad: \")\n",
        "Usuario1 = int (input())\n",
        "print(\"Ahora la segunda edad: \")\n",
        "Usuario2 = int (input())\n",
        "\n",
        "if Usuario1 > Usuario2:\n",
        "\tprint(\"Usiario 1 es mayor que Usuario 2.\")\n",
        "elif Usuario1 == Usuario2:\n",
        "\tprint(\"Usuario 1 y Usuario 2, tienen la misma edad.\")\n",
        "else:\n",
        "\tprint(\"Usuario 2 es mayor que Usuario 1.\")\n",
        "\n",
        "print()\t\t\n",
        "\n",
        "import random\n",
        "expresion = ['Magnífico.', 'Interesante no?', 'Wow!', 'Asi es :p', 'Hasta luego!']\n",
        "def selectRandom(expresion):\n",
        "  return random.choice(expresion)\n",
        "\n",
        "print(selectRandom(expresion))"
      ],
      "metadata": {
        "colab": {
          "base_uri": "https://localhost:8080/"
        },
        "id": "DKx6vw4yrRng",
        "outputId": "78173328-3279-4ead-8afa-f5fcd130ae16"
      },
      "execution_count": null,
      "outputs": [
        {
          "output_type": "stream",
          "name": "stdout",
          "text": [
            "El siguiente pograma quiere saber quien es mayor de los dos.\n",
            "Ingrese su edad: \n",
            "27\n",
            "Ahora la segunda edad: \n",
            "27\n",
            "Usuario 1 y Usuario 2, tienen la misma edad.\n",
            "\n",
            "Interesante no?\n",
            "\n",
            "\n",
            "\n"
          ]
        }
      ]
    },
    {
      "cell_type": "code",
      "source": [
        "\n",
        "# Ejercicio 9\n",
        "\n",
        "print(\"El siguiente programa desea dos números.\")\n",
        "print()\n",
        "\n",
        "print(\"Ingrese un número: \")\n",
        "a = float (input())\n",
        "print(\"Ingrese otro número: \")\n",
        "b = float (input())\n",
        "\n",
        "if a > b:\n",
        "\tprint(\"Como el primer número es mayor que el segundo, hice la suma:\",a+b)\n",
        "elif b > a:\n",
        "\tprint(\"Como el segundo número es mayor que el primero, hice la resta:\",b-a)\n",
        "if a == b:\n",
        "\tprint(\"Los números son iguales.\")\n",
        "\n",
        "print()\n",
        "print(\"LOL\")"
      ],
      "metadata": {
        "colab": {
          "base_uri": "https://localhost:8080/"
        },
        "id": "3OfqvugDrswz",
        "outputId": "9bca3f56-4abd-46b2-d48b-431c08a3303c"
      },
      "execution_count": null,
      "outputs": [
        {
          "output_type": "stream",
          "name": "stdout",
          "text": [
            "El siguiente programa desea dos números.\n",
            "\n",
            "Ingrese un número: \n",
            "5\n",
            "Ingrese otro número: \n",
            "9\n",
            "Como el segundo número es mayor que el primero, hice la resta: 4.0\n",
            "\n",
            "LOL\n"
          ]
        }
      ]
    },
    {
      "cell_type": "code",
      "source": [
        "# Ejercicio 10\n",
        "\n",
        "print(\"Bienvenidxs a Supermercado Oriente -.-\")\n",
        "print()\n",
        "\n",
        "print(\"Hoy, 20% de descuento si supera los 1000 $\")\n",
        "\n",
        "Monto = float (input(\"Monto: \"))\n",
        "Promo = Monto - (Monto * (20 / 100))\n",
        "# Promo = Monto - (Monto * (0.2))\n",
        "# Promo = Monto * (0.8)\n",
        "\n",
        "if Monto > 1000:\n",
        "\tprint(\"Tiene promo Martin: \",Promo,\"$\")\n",
        "else :\n",
        "\tprint(\"No tiene promo: \",Monto,\"$\")\n",
        "\tprint()\n",
        "\tprint(\"Caja o bolsa?\")"
      ],
      "metadata": {
        "colab": {
          "base_uri": "https://localhost:8080/"
        },
        "id": "HV46FTAysYVe",
        "outputId": "5ff5de2b-a805-4ddd-aaa1-078cf63eb48f"
      },
      "execution_count": null,
      "outputs": [
        {
          "output_type": "stream",
          "name": "stdout",
          "text": [
            "Bienvenidxs a Supermercado Oriente -.-\n",
            "\n",
            "Hoy, 20% de descuento si supera los 1000 $\n",
            "Monto: 1001\n",
            "Tiene promo Martin:  800.8 $\n"
          ]
        }
      ]
    },
    {
      "cell_type": "code",
      "source": [
        "# Ejercicio 11\n",
        "\n",
        "print(\"Este programa calcula el área o el perímetro de un círculo a partir del radio.\")\n",
        "print(\"A continuación seleccione la opcion que desee:\")\n",
        "print(\"\"\"\n",
        "        1) Área\n",
        "        2) Perímetro\n",
        "        \"\"\")\n",
        "\n",
        "eligio=input(\"-Selecciona algo: \")\n",
        "\n",
        "if eligio==\"1\":\n",
        "    print(\"Calcular el área\")\n",
        "    radio = float (input(\"Introduzca el radio del círculo: \"))\n",
        "    area = 3.14 * radio**2\n",
        "    print(area,\" Es el área del círculo.\")\n",
        "\n",
        "elif eligio==\"2\":\n",
        "    print(\"Calcular el perímetro\")\n",
        "    radio = float (input(\"Introduzca el radio del círculo: \"))\n",
        "    perimetro = 3.14 * 2 * radio\n",
        "    print(perimetro,\" Es el perímetro del círculo.\")\n",
        "  \n",
        "print()\n",
        "print(\"Fin del práctico 0. Que andes bien!\")"
      ],
      "metadata": {
        "colab": {
          "base_uri": "https://localhost:8080/"
        },
        "id": "fO1zlo7ltCDR",
        "outputId": "42462e26-5625-4946-c6f9-be2a2bcbd45a"
      },
      "execution_count": null,
      "outputs": [
        {
          "output_type": "stream",
          "name": "stdout",
          "text": [
            "Este programa calcula el área o el perímetro de un círculo a partir del radio.\n",
            "A continuación seleccione la opcion que desee:\n",
            "\n",
            "        1) Área\n",
            "        2) Perímetro\n",
            "        \n",
            "-Selecciona algo: 1\n",
            "Calcular el área\n",
            "Introduzca el radio del círculo: 20\n",
            "1256.0  Es el área del círculo.\n",
            "\n",
            "Fin del práctico 0. Que andes bien!\n"
          ]
        }
      ]
    },
    {
      "cell_type": "markdown",
      "source": [
        "# 4) Una persona con problemas para decir \"Buenos días\", \"Buenas tardes\" y \"Buenas noches\"."
      ],
      "metadata": {
        "id": "VEPsMsQxv7pC"
      }
    },
    {
      "cell_type": "code",
      "source": [
        "print(\"Este es el Saludator 3.8.10 y te va a ayudar a saludar correctamente\")\n",
        "print()\n",
        "hora = float (input(\"\"\"¿Que hora es?\n",
        "\"\"\"))\n",
        "if hora >= 0.0 and hora <= 7.29:\n",
        "  print(\"Estoy durmiendo, la hora es:\", hora)\n",
        "elif hora >= 7.30 and hora <= 13.29:\n",
        "  print(hora,\"hs\",\"Son buenos días.\")\n",
        "elif hora >= 13.30 and hora <= 18.59:\n",
        "  print(hora,\"hs\",\"Son buenas tardes.\")\n",
        "elif hora >= 19 and hora <= 23.59:\n",
        "  print(hora,\"hs\",\"Son buenas noches.\")"
      ],
      "metadata": {
        "id": "z53--LThuASF",
        "colab": {
          "base_uri": "https://localhost:8080/"
        },
        "outputId": "15eb3322-4fac-441a-9497-11054122688e"
      },
      "execution_count": null,
      "outputs": [
        {
          "output_type": "stream",
          "name": "stdout",
          "text": [
            "Este es el Saludator 3.8.10 y te va a ayudar a saludar correctamente\n",
            "\n",
            "¿Que hora es?\n",
            "0.3\n",
            "Estoy durmiendo, la hora es: 0.3\n"
          ]
        }
      ]
    },
    {
      "cell_type": "markdown",
      "source": [
        "# 5) Programa Clave de seguridad."
      ],
      "metadata": {
        "id": "e8oI5U19GRda"
      }
    },
    {
      "cell_type": "code",
      "source": [
        "print(\"\"\"La caja fuerte \"Security Safe Max 3 Turbo\" \n",
        "cuenta con un sistema de 3 intentos, \n",
        "al tercer ingreso fallido se bloqueara la misma.\n",
        "  \"\"\")\n",
        "print()\n",
        "\n",
        "clave = \"123open\"\n",
        "claveIngresada = (input(\"Insertar clave: \"))\n",
        "if claveIngresada == clave:\n",
        "  print(\"\"\"Ha ingresado correctamente,\n",
        "\n",
        "    BTC: 000.025 $\n",
        "    USD:  12.000 $\n",
        "    USDT:  3.500 $\n",
        "    ETH:       0 $\"\"\")  \n",
        "elif claveIngresada != clave: \n",
        "  print(\"Incorrecto, quedan 2 intentos.\")\n",
        "  print()\n",
        "  claveIngresada = (input(\"Insertar clave: \"))\n",
        "  if claveIngresada == clave: \n",
        "    print(\"\"\"Ha ingresado correctamente,\n",
        "\n",
        "    BTC: 000.025 $\n",
        "    USD:  12.000 $\n",
        "    USDT:  3.500 $\n",
        "    ETH:       0 $\"\"\")\n",
        "  elif claveIngresada != clave:\n",
        "    print(\"Incorrecto, queda 1 intento.\")\n",
        "    print()\n",
        "    claveIngresada = (input(\"Insertar clave: \"))\n",
        "    if claveIngresada == clave:\n",
        "      print(\"\"\"Ha ingresado correctamente,\n",
        "\n",
        "    BTC: 000.025 $\n",
        "    USD:  12.000 $\n",
        "    USDT:  3.500 $\n",
        "    ETH:       0 $\"\"\")\n",
        "    else:\n",
        "      print(\"\"\"Contraseña inválida.\n",
        "\n",
        "la \"Security Safe Max 3 Turbo\" ha sido bloqueada.\n",
        "      \"\"\")"
      ],
      "metadata": {
        "colab": {
          "base_uri": "https://localhost:8080/"
        },
        "id": "HunyoCJGGQnO",
        "outputId": "ebcceda4-31cd-424b-869a-091ed7c8c1df"
      },
      "execution_count": null,
      "outputs": [
        {
          "output_type": "stream",
          "name": "stdout",
          "text": [
            "La caja fuerte \"Security Safe Max 3 Turbo\" \n",
            "cuenta con un sistema de 3 intentos, \n",
            "al tercer ingreso fallido se bloqueara la misma.\n",
            "  \n",
            "\n",
            "Insertar clave: 123nope\n",
            "Incorrecto, quedan 2 intentos.\n",
            "\n",
            "Insertar clave: 123pone\n",
            "Incorrecto, queda 1 intento.\n",
            "\n",
            "Insertar clave: 123123\n",
            "Contraseña inválida.\n",
            "\n",
            "la \"Security Safe Max 3 Turbo\" ha sido bloqueada.\n",
            "      \n"
          ]
        }
      ]
    },
    {
      "cell_type": "markdown",
      "source": [
        "# 6) Autodiagnóstico de COVID."
      ],
      "metadata": {
        "id": "HnCkcvH1CCW2"
      }
    },
    {
      "cell_type": "code",
      "source": [
        "\n",
        "print(\"\"\"Autodiagnóstico de COVID.\n",
        "El siguiente programa se basa en 10 preguntas sobre síntomas.\n",
        "Si presenta 2 o más síntomas el diagnóstico sera positivo.\n",
        "Si en cambio presenta menos de 2 síntomas, entonces sera negativo.\n",
        "  \"\"\")\n",
        "\n",
        "sintoma = 0\n",
        "\n",
        "temperatura = float(input(\"¿Cual es tu temperatura corporal? \"))\n",
        "if temperatura > 38:\n",
        "  sintoma += 1\n",
        "\n",
        "print(\"\"\"\n",
        "Responder a las siguientes preguntas con \"si\" o con \"no\"\n",
        "\"\"\")\n",
        "\n",
        "pregunta2 = (input(\"\"\"¿Percibiste una marcada perdida del olfato\n",
        "de manera repentina? \"\"\"))\n",
        "if pregunta2 == \"si\":\n",
        "  sintoma += 1\n",
        "\n",
        "pregunta3 = (input(\"\"\"¿Percibiste una marcada perdida del gusto\n",
        "de manera repentina? \"\"\"))\n",
        "if pregunta3 == \"si\":\n",
        "  sintoma += 1\n",
        "\n",
        "pregunta4 = (input(\"¿Tenés tos? \"))\n",
        "if pregunta4 == \"si\":\n",
        "  sintoma += 1\n",
        "\n",
        "pregunta5 = (input(\"¿Tenés dolor de garganta? \"))\n",
        "if pregunta5 == \"si\":\n",
        "  sintoma += 1\n",
        "\n",
        "pregunta6 = (input(\"¿Tenés dificultad respiratoria o falta de aire? \"))\n",
        "if pregunta6 == \"si\":\n",
        "  sintoma += 1\n",
        "\n",
        "pregunta7 = (input(\"¿Tenés dolor de cabeza? \")) \n",
        "if pregunta7 == \"si\":\n",
        "  sintoma += 1\n",
        "\n",
        "pregunta8 = (input(\"¿Tenés diarrea? \"))  \n",
        "if pregunta8 == \"si\":\n",
        "  sintoma += 1\n",
        "\n",
        "pregunta9 = (input(\"¿Tenés vómitos? \")) \n",
        "if pregunta9 == \"si\":\n",
        "  sintoma += 1\n",
        "\n",
        "pregunta10 = (input(\"¿Tenés dolor muscular? \"))\n",
        "if pregunta10 == \"si\":\n",
        "  sintoma += 1\n",
        "\n",
        "if sintoma >= 2:\n",
        "  print()\n",
        "  print(\"Sintomas totales:\", sintoma)\n",
        "  print()\n",
        "  print(\"COVID Positivo\")\n",
        "else: \n",
        "  print()\n",
        "  print(\"Sintomas totales:\", sintoma)\n",
        "  print() \n",
        "  print(\"COVID Negativo\")\n"
      ],
      "metadata": {
        "colab": {
          "base_uri": "https://localhost:8080/"
        },
        "id": "nDMgIJDdDlL3",
        "outputId": "26147aa1-6e52-4c80-aa2d-d358c5ce31ee"
      },
      "execution_count": null,
      "outputs": [
        {
          "output_type": "stream",
          "name": "stdout",
          "text": [
            "Autodiagnóstico de COVID.\n",
            "El siguiente programa se basa en 10 preguntas sobre síntomas.\n",
            "Si presenta 2 o más síntomas el diagnóstico sera positivo.\n",
            "Si en cambio presenta menos de 2 síntomas, entonces sera negativo.\n",
            "  \n",
            "¿Cual es tu temperatura corporal? 38\n",
            "\n",
            "Responder a las siguientes preguntas con \"si\" o con \"no\"\n",
            "\n",
            "¿Percibiste una marcada perdida del olfato\n",
            "de manera repentina? si\n",
            "¿Percibiste una marcada perdida del gusto\n",
            "de manera repentina? si\n",
            "¿Tenés tos? no\n",
            "¿Tenés dolor de garganta? no\n",
            "¿Tenés dificultad respiratoria o falta de aire? no\n",
            "¿Tenés dolor de cabeza? no\n",
            "¿Tenés diarrea? no\n",
            "¿Tenés vómitos? no\n",
            "¿Tenés dolor muscular? no\n",
            "\n",
            "Sintomas totales: 2\n",
            "\n",
            "COVID Positivo\n"
          ]
        }
      ]
    },
    {
      "cell_type": "markdown",
      "source": [
        "# 7) Empresa multinacional de venta de ropa."
      ],
      "metadata": {
        "id": "ZBvz9xVi8u6E"
      }
    },
    {
      "cell_type": "code",
      "source": [
        "edad = input('''¿Cual es su edad?\n",
        "\n",
        "''')\n",
        "if edad >= \"18\":\n",
        "  edad = \"adulto\"\n",
        "elif edad < \"18\":\n",
        "  edad = \"niño\"\n",
        "print()\n",
        "genero = input('''¿Con que genero se identifica?\n",
        "\n",
        "      1) Mujer\n",
        "      2) Hombre\n",
        "      3) No binario\n",
        "\n",
        "''')\n",
        "print()\n",
        "if genero == \"1\" and edad == \"adulto\":\n",
        "  print('''Eligio mujer adulta, por lo que la recomendación es que se diriga al 5º piso.\n",
        "Alli podra encontrar ropa que posiblemente sea de su agrado.''')\n",
        "if genero == \"1\" and edad == \"niño\":\n",
        "  print('''Eligio niña, por lo que la recomendación es que se diriga al 2º piso.\n",
        "Alli podra encontrar ropa que posiblemente sea de su agrado.''')\n",
        "if genero == \"2\" and edad == \"adulto\":\n",
        "  print('''Eligio hombre adulto, por lo que la recomendación es que se diriga al 6º piso.\n",
        "Alli podra encontrar ropa que posiblemente sea de su agrado.''')\n",
        "if genero == \"2\" and edad == \"niño\":\n",
        "  print('''Eligio niño, por lo que la recomendación es que se diriga al 1º piso.\n",
        "Alli podra encontrar ropa que posiblemente sea de su agrado.''')\n",
        "if genero == \"3\" and edad == \"adulto\":\n",
        "  print('''Eligio adulte no binario, por lo que la recomendación es que se diriga al 4º piso.\n",
        "Alli podra encontrar ropa que posiblemente sea de su agrado.''')\n",
        "if genero == \"3\" and edad == \"niño\":\n",
        "  print('''Eligio niñe no binario, por lo que la recomendación es que se diriga al 3º piso.\n",
        "Alli podra encontrar ropa que posiblemente sea de su agrado.''')"
      ],
      "metadata": {
        "id": "D9f6p2js8vWb",
        "colab": {
          "base_uri": "https://localhost:8080/"
        },
        "outputId": "64154264-4025-4bca-ef2f-b0cf1ebd33c0"
      },
      "execution_count": null,
      "outputs": [
        {
          "output_type": "stream",
          "name": "stdout",
          "text": [
            "¿Cual es su edad?\n",
            "\n",
            "29\n",
            "\n",
            "¿Con que genero se identifica?\n",
            "\n",
            "      1) Mujer\n",
            "      2) Hombre\n",
            "      3) No binario\n",
            "      \n",
            "3\n",
            "\n",
            "Eligio adulte no binario, por lo que la recomendación es que se diriga al 4º piso.\n",
            "Alli podra encontrar ropa que posiblemente sea de su agrado.\n"
          ]
        }
      ]
    },
    {
      "cell_type": "markdown",
      "source": [
        "# 8) Una página web."
      ],
      "metadata": {
        "id": "KVf_zIWUolC8"
      }
    },
    {
      "cell_type": "code",
      "source": [
        "# Segmentacion de usuarios por \"edad\"\n",
        "'''\n",
        "A de 13 a 17 años                  \n",
        "B de 18 a 22 años     \n",
        "C de 23 a 35 años  \n",
        "D de 36 a 99+ años ----> (cambie el 35 por 36, para evitar errores)   \n",
        "'''\n",
        "# Segmentacion de usuarios por \"ingresos\" mensuales\n",
        "'''\n",
        "Bajos de   0       a 60.000 $\n",
        "Medios de  60.001  a 120.000 $\n",
        "Altos de   120.001 a infinito $    \n",
        "'''\n",
        "# Productos ofrecidos segun segmentacion\n",
        "'''\n",
        "paquete1 = A B ingresos Altos          \n",
        "paquete2 = A ingresos Medios\n",
        "paquete3 = B ingresos Bajos\n",
        "paquete4 = C ingresos Altos Medios y Bajos                               \n",
        "paquete5 = D ingresos Bajos\n",
        "paquete6 = A B C D ingresos Medios\n",
        "paquete7 = D ingresos Altos\n",
        "'''\n",
        "# Teniendo en cuenta como datos la edad y posicion economica: \n",
        "# ¿Que paquete de ofertas se mostrara?"
      ],
      "metadata": {
        "id": "uH_urL4ZOZlt"
      },
      "execution_count": null,
      "outputs": []
    },
    {
      "cell_type": "code",
      "source": [
        "edad = int (input('''¿Cuantos años tiene?\n",
        "\n",
        "'''))\n",
        "print()\n",
        "ingresos = int (input('Ingresos mensuales (sin puntos ni comas): '))\n",
        "\n",
        "# Ofrecer paquete1\n",
        "\n",
        "if edad >=13 and edad <=22 and ingresos >120000:\n",
        "  print()\n",
        "  print('Ofrecer paquete 1')\n",
        "\n",
        "# Ofrecer paquete2\n",
        "\n",
        "if edad >=13 and edad <=17 and ingresos >60000 and ingresos <=120000:\n",
        "  print()\n",
        "  print('Ofrecer paquete 2')\n",
        "\n",
        "#  Ofrecer paquete3\n",
        "\n",
        "if edad >=18 and edad <=22 and ingresos >=0 and ingresos <=60000:\n",
        "  print()\n",
        "  print('Ofrecer paquete 3')\n",
        "\n",
        "# Ofrecer paquete4\n",
        "\n",
        "if edad >=23 and edad <=35:\n",
        "  print()\n",
        "  print('Ofrecer paquete 4')\n",
        "\n",
        "# Ofrecer paquete5\n",
        "\n",
        "if edad >=36 and ingresos >= 0 and ingresos <=60000:\n",
        "  print()\n",
        "  print('Ofrecer paquete5')\n",
        "\n",
        "# Ofrecer paquete6\n",
        "\n",
        "if ingresos >60000 and ingresos <=120000:\n",
        "  print()\n",
        "  print('Ofrecer paquete 6')\n",
        "\n",
        "# Ofrecer paquete7\n",
        "\n",
        "if edad >35 and ingresos >120000:\n",
        "  print()\n",
        "  print('Ofrecer paquete 7')"
      ],
      "metadata": {
        "colab": {
          "base_uri": "https://localhost:8080/"
        },
        "id": "htFjXutcPKCu",
        "outputId": "4b2e98b8-9f94-408f-bde2-a16c41ddd78a"
      },
      "execution_count": null,
      "outputs": [
        {
          "output_type": "stream",
          "name": "stdout",
          "text": [
            "¿Cuantos años tiene?\n",
            "\n",
            "35\n",
            "\n",
            "Ingresos mensuales (sin puntos ni comas): 65000\n",
            "\n",
            "Ofrecer paquete 4\n",
            "\n",
            "Ofrecer paquete 6\n"
          ]
        }
      ]
    },
    {
      "cell_type": "code",
      "source": [
        "print(\"Fin de la programacion\"*200)"
      ],
      "metadata": {
        "colab": {
          "base_uri": "https://localhost:8080/"
        },
        "id": "uvi6pAwV597k",
        "outputId": "3f0067b0-87a5-46f5-cb72-70f81ba9186e"
      },
      "execution_count": null,
      "outputs": [
        {
          "output_type": "stream",
          "name": "stdout",
          "text": [
            "Fin de la programacionFin de la programacionFin de la programacionFin de la programacionFin de la programacionFin de la programacionFin de la programacionFin de la programacionFin de la programacionFin de la programacionFin de la programacionFin de la programacionFin de la programacionFin de la programacionFin de la programacionFin de la programacionFin de la programacionFin de la programacionFin de la programacionFin de la programacionFin de la programacionFin de la programacionFin de la programacionFin de la programacionFin de la programacionFin de la programacionFin de la programacionFin de la programacionFin de la programacionFin de la programacionFin de la programacionFin de la programacionFin de la programacionFin de la programacionFin de la programacionFin de la programacionFin de la programacionFin de la programacionFin de la programacionFin de la programacionFin de la programacionFin de la programacionFin de la programacionFin de la programacionFin de la programacionFin de la programacionFin de la programacionFin de la programacionFin de la programacionFin de la programacionFin de la programacionFin de la programacionFin de la programacionFin de la programacionFin de la programacionFin de la programacionFin de la programacionFin de la programacionFin de la programacionFin de la programacionFin de la programacionFin de la programacionFin de la programacionFin de la programacionFin de la programacionFin de la programacionFin de la programacionFin de la programacionFin de la programacionFin de la programacionFin de la programacionFin de la programacionFin de la programacionFin de la programacionFin de la programacionFin de la programacionFin de la programacionFin de la programacionFin de la programacionFin de la programacionFin de la programacionFin de la programacionFin de la programacionFin de la programacionFin de la programacionFin de la programacionFin de la programacionFin de la programacionFin de la programacionFin de la programacionFin de la programacionFin de la programacionFin de la programacionFin de la programacionFin de la programacionFin de la programacionFin de la programacionFin de la programacionFin de la programacionFin de la programacionFin de la programacionFin de la programacionFin de la programacionFin de la programacionFin de la programacionFin de la programacionFin de la programacionFin de la programacionFin de la programacionFin de la programacionFin de la programacionFin de la programacionFin de la programacionFin de la programacionFin de la programacionFin de la programacionFin de la programacionFin de la programacionFin de la programacionFin de la programacionFin de la programacionFin de la programacionFin de la programacionFin de la programacionFin de la programacionFin de la programacionFin de la programacionFin de la programacionFin de la programacionFin de la programacionFin de la programacionFin de la programacionFin de la programacionFin de la programacionFin de la programacionFin de la programacionFin de la programacionFin de la programacionFin de la programacionFin de la programacionFin de la programacionFin de la programacionFin de la programacionFin de la programacionFin de la programacionFin de la programacionFin de la programacionFin de la programacionFin de la programacionFin de la programacionFin de la programacionFin de la programacionFin de la programacionFin de la programacionFin de la programacionFin de la programacionFin de la programacionFin de la programacionFin de la programacionFin de la programacionFin de la programacionFin de la programacionFin de la programacionFin de la programacionFin de la programacionFin de la programacionFin de la programacionFin de la programacionFin de la programacionFin de la programacionFin de la programacionFin de la programacionFin de la programacionFin de la programacionFin de la programacionFin de la programacionFin de la programacionFin de la programacionFin de la programacionFin de la programacionFin de la programacionFin de la programacionFin de la programacionFin de la programacionFin de la programacionFin de la programacionFin de la programacionFin de la programacionFin de la programacionFin de la programacionFin de la programacionFin de la programacionFin de la programacionFin de la programacionFin de la programacionFin de la programacionFin de la programacionFin de la programacionFin de la programacionFin de la programacion\n"
          ]
        }
      ]
    }
  ]
}