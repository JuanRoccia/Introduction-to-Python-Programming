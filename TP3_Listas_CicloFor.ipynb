{
  "nbformat": 4,
  "nbformat_minor": 0,
  "metadata": {
    "colab": {
      "provenance": [],
      "collapsed_sections": [
        "8Tw9onx7iFI_",
        "2JAeD9jl0M6g",
        "VR1npbY03rUE",
        "Hm6ws1LAylbk",
        "rrV8rVh7xOLh",
        "gSAsWjSZ87XY",
        "goNqWRPD9rLZ",
        "K3bpPoE693wp",
        "RvYWcsJ7e5cJ",
        "N76vrKofdksE",
        "Gz91NMfciXsf",
        "kE-PTbNEyZXK",
        "YVR-RyEnIdn6"
      ],
      "include_colab_link": true
    },
    "kernelspec": {
      "name": "python3",
      "display_name": "Python 3"
    },
    "language_info": {
      "name": "python"
    }
  },
  "cells": [
    {
      "cell_type": "markdown",
      "metadata": {
        "id": "view-in-github",
        "colab_type": "text"
      },
      "source": [
        "<a href=\"https://colab.research.google.com/github/JuanRoccia/Introduction-to-Python-Programming/blob/main/TP3_Listas_CicloFor.ipynb\" target=\"_parent\"><img src=\"https://colab.research.google.com/assets/colab-badge.svg\" alt=\"Open In Colab\"/></a>"
      ]
    },
    {
      "cell_type": "markdown",
      "source": [
        "# ***Trabajo Práctico 3 Listas y el ciclo for (no entregable)***"
      ],
      "metadata": {
        "id": "8Tw9onx7iFI_"
      }
    },
    {
      "cell_type": "markdown",
      "source": [
        "# ***Ejercicio 1***"
      ],
      "metadata": {
        "id": "2JAeD9jl0M6g"
      }
    },
    {
      "cell_type": "code",
      "source": [
        "valorInicial = int(input(\"ingrese un numero entero inicial: \"))\n",
        "valorFinal = int(input(\"ingrese un numero entero final: \"))\n",
        "paso = int(input(\"ingrese intervalo entre numeros: \"))\n",
        "lista = []\n",
        "for i in range(valorInicial,valorFinal + 1,paso):  \n",
        "  lista.append(i)\n",
        "print(lista)\n",
        "\n",
        "# AHORA SEEEE"
      ],
      "metadata": {
        "colab": {
          "base_uri": "https://localhost:8080/"
        },
        "id": "0rjoidZlaKJa",
        "outputId": "3904448f-544b-4727-d161-c05b41ad344f"
      },
      "execution_count": null,
      "outputs": [
        {
          "output_type": "stream",
          "name": "stdout",
          "text": [
            "ingrese un numero entero inicial: 10\n",
            "ingrese un numero entero final: 30\n",
            "ingrese intervalo entre numeros: 5\n",
            "[10, 15, 20, 25, 30]\n"
          ]
        }
      ]
    },
    {
      "cell_type": "code",
      "source": [
        "lista = []\n",
        "valor_Inicial = 10\n",
        "paso = 5\n",
        "valor_Final = 30\n",
        "lista.extend([valor_Inicial,valor_Inicial+paso,valor_Final-valor_Inicial,valor_Final-paso,valor_Final])\n",
        "print(lista)"
      ],
      "metadata": {
        "id": "xLphRwvazwQd",
        "colab": {
          "base_uri": "https://localhost:8080/"
        },
        "outputId": "f788ec80-9ef3-4408-ce2b-482a44f11fc5"
      },
      "execution_count": null,
      "outputs": [
        {
          "output_type": "stream",
          "name": "stdout",
          "text": [
            "[10, 15, 20, 25, 30]\n"
          ]
        }
      ]
    },
    {
      "cell_type": "markdown",
      "source": [
        "# ***Ejercicio 2***"
      ],
      "metadata": {
        "id": "VR1npbY03rUE"
      }
    },
    {
      "cell_type": "code",
      "source": [
        "# Inciso a)\n",
        "\n",
        "primerValor = int(input('primer valor: '))\n",
        "cantidadValores = int(input('cantidad de valores: '))\n",
        "\n",
        "for algo in range(cantidadValores):\n",
        "  primerValor += 2\n",
        "  print(primerValor-2)"
      ],
      "metadata": {
        "id": "usJfclPb3si4",
        "colab": {
          "base_uri": "https://localhost:8080/"
        },
        "outputId": "67885be3-a2d8-4e22-eb95-c5b2c89ef61a"
      },
      "execution_count": null,
      "outputs": [
        {
          "output_type": "stream",
          "name": "stdout",
          "text": [
            "primer valor: 6\n",
            "cantidad de valores: 5\n",
            "6\n",
            "8\n",
            "10\n",
            "12\n",
            "14\n"
          ]
        }
      ]
    },
    {
      "cell_type": "code",
      "source": [
        "# Inciso b)\n",
        "\n",
        "primerValor = int(input('primer valor: '))\n",
        "cantidadValores = int(input('cantidad de valores: '))\n",
        "\n",
        "for algo in range(cantidadValores):\n",
        "  print(primerValor)\n",
        "  primerValor *= (-1)\n",
        "  "
      ],
      "metadata": {
        "colab": {
          "base_uri": "https://localhost:8080/"
        },
        "id": "F0lkF4yOqhxu",
        "outputId": "85618f0a-edf7-4091-b607-02b5489ab390"
      },
      "execution_count": null,
      "outputs": [
        {
          "output_type": "stream",
          "name": "stdout",
          "text": [
            "primer valor: 8\n",
            "cantidad de valores: 5\n",
            "8\n",
            "-8\n",
            "8\n",
            "-8\n",
            "8\n"
          ]
        }
      ]
    },
    {
      "cell_type": "code",
      "source": [
        "# Inciso c)\n",
        "\n",
        "primerValor = int(input('primer valor: '))\n",
        "cantidadValores = int(input('cantidad de valores: '))\n",
        "\n",
        "for algo in range(cantidadValores):\n",
        "  primerValor -= 1\n",
        "  print(primerValor+1)"
      ],
      "metadata": {
        "colab": {
          "base_uri": "https://localhost:8080/"
        },
        "id": "LyFgSjjsphTk",
        "outputId": "5bc0a2a5-4e88-4992-cf6a-1964fba0fbd3"
      },
      "execution_count": null,
      "outputs": [
        {
          "output_type": "stream",
          "name": "stdout",
          "text": [
            "primer valor: 9\n",
            "cantidad de valores: 5\n",
            "9\n",
            "8\n",
            "7\n",
            "6\n",
            "5\n"
          ]
        }
      ]
    },
    {
      "cell_type": "markdown",
      "source": [
        "# ***Ejercicio 3***"
      ],
      "metadata": {
        "id": "Hm6ws1LAylbk"
      }
    },
    {
      "cell_type": "code",
      "source": [
        "myList = [4,8,10,-1,0,-8,5,4]\n",
        "\n",
        "# Mayor y menor\n",
        "mayor = 2\n",
        "print(f'Mayor elemento en lista: {myList[mayor]}')\n",
        "menor = 5\n",
        "print(f'Menor elemento en lista: {myList[menor]}')\n",
        "print()\n",
        "\n",
        "# Cantidad de elementos\n",
        "print(f'Cantidad de elementos en lista: {len(myList)}')\n",
        "print()\n",
        "\n",
        "# Esta o no en lista\n",
        "dato = int(input('Ingresar numero entero: '))\n",
        "if dato in myList:\n",
        "  print(f'El elemento \"{dato}\" se encuentra en lista.')\n",
        "else:\n",
        "  print(f'El elemento {dato} no se encuentra en lista.')\n",
        "print()\n",
        "\n",
        "# A que elemento pertenece\n",
        "position = int(input('''Ingrese una posición entera de 0 a 7.\n",
        "Para saber a que elemento pertenece: '''))\n",
        "print(f'La posicion ingresada pertenece al elemento: {myList[position]}')\n",
        "print()\n",
        "\n",
        "# Eliminar un valor\n",
        "print(f'Lista: {myList}\\nPara eliminar un elemento de la lista,')\n",
        "delete = int(input('Ingrese el numero correspondiente: '))\n",
        "myList.remove(delete)\n",
        "print(f'Elementos restantes: {len(myList)}')\n",
        "print(f'Lista: {myList} ')\n",
        "\n",
        "# Valores duplicados\n",
        "duplicado = int(input())\n",
        "if duplicado +1 in myList:\n",
        "  print(f'{duplicado} esta en la lista duplicado.')\n",
        "else:\n",
        "  print(f'El numero {duplicado}, no esta duplicado. ')"
      ],
      "metadata": {
        "id": "-qu6jjpQyppD",
        "colab": {
          "base_uri": "https://localhost:8080/"
        },
        "outputId": "c8b6b636-071a-476a-c726-7a1d4a0ef1f9"
      },
      "execution_count": null,
      "outputs": [
        {
          "output_type": "stream",
          "name": "stdout",
          "text": [
            "5\n",
            "El numero 5, no esta duplicado. \n"
          ]
        }
      ]
    },
    {
      "cell_type": "markdown",
      "source": [
        "# ***Ejercicio 4***"
      ],
      "metadata": {
        "id": "rrV8rVh7xOLh"
      }
    },
    {
      "cell_type": "code",
      "source": [
        "palabra = ['o','d','n','u','M','a','l','o','H']\n",
        "invertir = 9\n",
        "for i in range(9):\n",
        "  invertir -= 1\n",
        "  print(palabra[invertir])"
      ],
      "metadata": {
        "colab": {
          "base_uri": "https://localhost:8080/"
        },
        "id": "vlDpblZvxRja",
        "outputId": "a5e0d0a1-86ea-4d73-cc45-cc1ea844c99c"
      },
      "execution_count": null,
      "outputs": [
        {
          "output_type": "stream",
          "name": "stdout",
          "text": [
            "H\n",
            "o\n",
            "l\n",
            "a\n",
            "M\n",
            "u\n",
            "n\n",
            "d\n",
            "o\n"
          ]
        }
      ]
    },
    {
      "cell_type": "code",
      "source": [
        "palabra = ['o','d','n','u','M','a','l','o','H']\n",
        "palabra.reverse()\n",
        "palabra"
      ],
      "metadata": {
        "colab": {
          "base_uri": "https://localhost:8080/"
        },
        "id": "5fDlOSS2o6Rr",
        "outputId": "ad58b665-1eb1-46ed-b375-d42cebc106e9"
      },
      "execution_count": null,
      "outputs": [
        {
          "output_type": "execute_result",
          "data": {
            "text/plain": [
              "['H', 'o', 'l', 'a', 'M', 'u', 'n', 'd', 'o']"
            ]
          },
          "metadata": {},
          "execution_count": 1
        }
      ]
    },
    {
      "cell_type": "markdown",
      "source": [
        "# ***Ejercicio 5***"
      ],
      "metadata": {
        "id": "gSAsWjSZ87XY"
      }
    },
    {
      "cell_type": "code",
      "source": [
        "listaNumero = []\n",
        "suma = 0\n",
        "numero = int(input(\"ingrese la cantidad de valores que desea: \"))\n",
        "if numero>0 and numero<=10:\n",
        "\tfor i in range(numero):\n",
        "\t\tnumeroIngresado = int(input(\"ingrese numero: \"))\n",
        "\t\tsuma += numeroIngresado\n",
        "\t\tlistaNumero.append(numeroIngresado)\n",
        "\tpromedio = suma / len(listaNumero)\n",
        "\tprint(\"el proemdio es: \",promedio)\n",
        "\tprint(listaNumero)\t\n",
        "else:\n",
        "\tprint(\"cantidad de numeros incorrectos\")\t"
      ],
      "metadata": {
        "colab": {
          "base_uri": "https://localhost:8080/"
        },
        "id": "1xNLWqDn8-de",
        "outputId": "8dd0deb1-6c2b-4970-be53-fd98bfb89a41"
      },
      "execution_count": null,
      "outputs": [
        {
          "output_type": "stream",
          "name": "stdout",
          "text": [
            "ingrese la cantidad de valores que desea: 5\n",
            "ingrese numero: 5\n",
            "ingrese numero: 3\n",
            "ingrese numero: 1\n",
            "ingrese numero: 6\n",
            "ingrese numero: 9\n",
            "el proemdio es:  4.8\n",
            "[5, 3, 1, 6, 9]\n"
          ]
        }
      ]
    },
    {
      "cell_type": "markdown",
      "source": [
        "# ***Ejercicio 6***"
      ],
      "metadata": {
        "id": "goNqWRPD9rLZ"
      }
    },
    {
      "cell_type": "code",
      "source": [
        "numero = int(input(\"ingrese un numero entre 5 y 20: \"))\n",
        "\n",
        "escalera = \"\"\n",
        "\n",
        "for n in range(1,numero+1):\n",
        "\tescalera = str(n) + escalera\n",
        "\tprint(escalera)"
      ],
      "metadata": {
        "colab": {
          "base_uri": "https://localhost:8080/"
        },
        "id": "DeAnrDeF9ttB",
        "outputId": "f25fb53a-3560-4999-8228-4a480bc94a87"
      },
      "execution_count": null,
      "outputs": [
        {
          "output_type": "stream",
          "name": "stdout",
          "text": [
            "ingrese un numero entre 5 y 20: 17\n",
            "1\n",
            "21\n",
            "321\n",
            "4321\n",
            "54321\n",
            "654321\n",
            "7654321\n",
            "87654321\n",
            "987654321\n",
            "10987654321\n",
            "1110987654321\n",
            "121110987654321\n",
            "13121110987654321\n",
            "1413121110987654321\n",
            "151413121110987654321\n",
            "16151413121110987654321\n",
            "1716151413121110987654321\n"
          ]
        }
      ]
    },
    {
      "cell_type": "markdown",
      "source": [
        "# ***Ejercicio 7***"
      ],
      "metadata": {
        "id": "K3bpPoE693wp"
      }
    },
    {
      "cell_type": "code",
      "source": [
        "Producto = ['Sal','Jabón','Fideo','Arroz','Pasta dental'] \n",
        "Cantidad = [1,4,2,9,1]\n",
        "PrecioUnidad = [45.50,34.5,98.0,68.5,201.0]\n",
        "Costo = []\n",
        "\n",
        "\n",
        "for x,y in zip(Cantidad,PrecioUnidad):\n",
        "  Costo.append(x*y)\n",
        "\n",
        "Total = sum(Costo)\n",
        "\n",
        "print(f'\\033[1m PRODUCTO \\033[0m       \\033[1m CANTIDAD \\033[0m     \\033[1m COSTO \\033[0m \\n')\n",
        "\n",
        "for x,y,z in zip(Producto,Cantidad,Costo):\n",
        "  print(f' {x:15} {y:5} {z:15} \\n')\n",
        "\n",
        "print(f'''\\033[36m=======================================\\033[0m \\n\n",
        " \\033[1m{'TOTAL':15}{Total:22}\\033[0m \n",
        "''')"
      ],
      "metadata": {
        "id": "ECSrjSgz93aQ",
        "colab": {
          "base_uri": "https://localhost:8080/"
        },
        "outputId": "95dde32c-5d4a-43e9-8043-2fab33e8281f"
      },
      "execution_count": null,
      "outputs": [
        {
          "output_type": "stream",
          "name": "stdout",
          "text": [
            "\u001b[1m PRODUCTO \u001b[0m       \u001b[1m CANTIDAD \u001b[0m     \u001b[1m COSTO \u001b[0m \n",
            "\n",
            " Sal                 1            45.5 \n",
            "\n",
            " Jabón               4           138.0 \n",
            "\n",
            " Fideo               2           196.0 \n",
            "\n",
            " Arroz               9           616.5 \n",
            "\n",
            " Pasta dental        1           201.0 \n",
            "\n",
            "\u001b[36m=======================================\u001b[0m \n",
            "\n",
            " \u001b[1mTOTAL                          1197.0\u001b[0m \n",
            "\n"
          ]
        }
      ]
    },
    {
      "cell_type": "code",
      "source": [
        "print(f'''\n",
        "PRODUCTO          CANTIDAD      COSTO\n",
        "{Producto[0]}               {Cantidad[0]}             {Costo[0]}\n",
        "{Producto[1]}             {Cantidad[1]}             {Costo[1]}\n",
        "{Producto[2]}             {Cantidad[2]}             {Costo[2]}\n",
        "{Producto[3]}             {Cantidad[3]}             {Costo[3]}\n",
        "{Producto[4]}      {Cantidad[4]}             {Costo[4]}\n",
        "======================================\n",
        "TOTAL                           {Total}\n",
        " ''') "
      ],
      "metadata": {
        "id": "-8ttEmK6ap_5"
      },
      "execution_count": null,
      "outputs": []
    },
    {
      "cell_type": "markdown",
      "source": [
        "# ***Ejercicio 8***"
      ],
      "metadata": {
        "id": "RvYWcsJ7e5cJ"
      }
    },
    {
      "cell_type": "code",
      "source": [
        "lista1 = [0,5,8,'perro','gato','jirafa',5.7,True]\n",
        "\n",
        "lista2 = [6,7,8,'miau','gato',False,True]\n",
        "\n",
        "\n",
        "\n",
        "# Elementos en común: lista 3\n",
        "# Elementos que no comparte: lista 4\n",
        "# Elementos complementarios: lista 5\n",
        "\n",
        "lista3 = []\n",
        "lista4 = []\n",
        "lista5 = []\n",
        "\n",
        "for x in lista1:\n",
        "  if x in lista2:\n",
        "    lista3.append(x)\n",
        "  elif x not in lista2:\n",
        "    lista4.append(x)\n",
        "\n",
        "for x,y in zip(lista2,lista1):\n",
        "  if y in lista1:     \n",
        "    lista5.append(y)\n",
        "  if x not in lista1:\n",
        "    lista5.append(x)\n",
        " \n",
        "print(lista3)\n",
        "print(lista4)\n",
        "print(lista5)\n",
        "# print([0,5,6,7,8,'perro','gato','miau','jirafa',5.7,True,False])"
      ],
      "metadata": {
        "id": "TrCO8yk1fIAt",
        "colab": {
          "base_uri": "https://localhost:8080/"
        },
        "outputId": "03f65a98-29d9-4c5e-ce71-c54ce9886048"
      },
      "execution_count": null,
      "outputs": [
        {
          "output_type": "stream",
          "name": "stdout",
          "text": [
            "[0, 8, 'gato', True]\n",
            "[5, 'perro', 'jirafa', 5.7]\n",
            "[0, 6, 5, 7, 8, 'perro', 'miau', 'gato', 'jirafa', 5.7]\n"
          ]
        }
      ]
    },
    {
      "cell_type": "markdown",
      "source": [
        "# ***Ejercicio 9***"
      ],
      "metadata": {
        "id": "N76vrKofdksE"
      }
    },
    {
      "cell_type": "code",
      "source": [
        "lista = [62,78,37,51,49,62,46,76,35,48,81,1,92,82,86]\n",
        "lista_pares = []\n",
        "lista_impares = []\n",
        "\n",
        "for x in lista:\n",
        "  if x%2 == 0:\n",
        "    lista_pares.append(x)\n",
        "  else:\n",
        "    lista_impares.append(x)\n",
        "\n",
        "print(f'lista original: {lista}\\nLos numeros pares son: {lista_pares}')\n",
        "print(f'Los numero impares de la lista son: {lista_impares}')"
      ],
      "metadata": {
        "colab": {
          "base_uri": "https://localhost:8080/"
        },
        "id": "CQjoSvrhdqkx",
        "outputId": "92633a85-f59f-4461-aa76-226298c6ae5f"
      },
      "execution_count": null,
      "outputs": [
        {
          "output_type": "stream",
          "name": "stdout",
          "text": [
            "lista original: [62, 78, 37, 51, 49, 62, 46, 76, 35, 48, 81, 1, 92, 82, 86]\n",
            "Los numeros pares son: [62, 78, 62, 46, 76, 48, 92, 82, 86]\n",
            "Los numero impares de la lista son: [37, 51, 49, 35, 81, 1]\n"
          ]
        }
      ]
    },
    {
      "cell_type": "markdown",
      "source": [
        "# ***Ejercicio 10***"
      ],
      "metadata": {
        "id": "Gz91NMfciXsf"
      }
    },
    {
      "cell_type": "code",
      "source": [
        "lista = [5,7,8,10,11,12,13,15,16,17,20]\n",
        "\n",
        "lista_Faltantes = []\n",
        "\n",
        "Faltantes_pares = []\n",
        "\n",
        "for x in range(lista[0],lista[-1]):\n",
        "  if x not in lista:\n",
        "    lista_Faltantes.append(x)\n",
        "\n",
        "for y in lista:\n",
        "  if y%2 == 0:\n",
        "    Faltantes_pares.append(y)\n",
        "\n",
        "print(f'De los numeros de la lista: {lista}\\nFaltan los numeros: {lista_Faltantes}')\n",
        "print(f'y sus pares son: {Faltantes_pares}')"
      ],
      "metadata": {
        "colab": {
          "base_uri": "https://localhost:8080/"
        },
        "id": "7gezjTgliaxa",
        "outputId": "acef8e7b-8dee-408a-a2cf-a3799a0d4de3"
      },
      "execution_count": null,
      "outputs": [
        {
          "output_type": "stream",
          "name": "stdout",
          "text": [
            "De los numeros de la lista: [5, 7, 8, 10, 11, 12, 13, 15, 16, 17, 20]\n",
            "Faltan los numeros: [6, 9, 14, 18, 19]\n",
            "y sus pares son: [8, 10, 12, 16, 20]\n"
          ]
        }
      ]
    },
    {
      "cell_type": "markdown",
      "source": [
        "# ***Ejercicio 11***"
      ],
      "metadata": {
        "id": "kE-PTbNEyZXK"
      }
    },
    {
      "cell_type": "code",
      "source": [
        "# Calcular inflacion promedio de:\n",
        "# se hace calculando porcentaje de aumento de cada producto.\n",
        "\n",
        "productos = ['galletitas','cereal','huevos','acelga']\n",
        "precios_mes_pasado = [300,417,290,238]\n",
        "precios_ahora = [400,527,390,338]\n",
        "inflacion = []\n",
        "\n",
        "for x,y in zip(precios_mes_pasado,precios_ahora):\n",
        "  esto = y / x *100\n",
        "  inflacion.append(esto)\n",
        "\n",
        "print('\\033[1m Productos       Pasado       Actual       Inflacion\\033[0m')\n",
        "for w,x,y,z in zip(productos,precios_mes_pasado,precios_ahora,inflacion):\n",
        "  print(f' {w:15} {x} $ {y:10} $ {z:25} % ')\n",
        "\n",
        "promedio = sum(inflacion) / len(inflacion)\n",
        "print(f'\\nLa inflacion promedio es de: \\033[1m{int(promedio)}%\\033[0m')"
      ],
      "metadata": {
        "id": "7BrEo4p-yc7q",
        "colab": {
          "base_uri": "https://localhost:8080/"
        },
        "outputId": "87af3bdf-3942-4b4f-f049-97ee2c929902"
      },
      "execution_count": null,
      "outputs": [
        {
          "output_type": "stream",
          "name": "stdout",
          "text": [
            "\u001b[1m Productos       Pasado       Actual       Inflacion\u001b[0m\n",
            " galletitas      300 $        400 $        133.33333333333331 % \n",
            " cereal          417 $        527 $        126.37889688249399 % \n",
            " huevos          290 $        390 $        134.48275862068965 % \n",
            " acelga          238 $        338 $        142.01680672268907 % \n",
            "\n",
            "La inflacion promedio es de: \u001b[1m134%\u001b[0m\n"
          ]
        }
      ]
    },
    {
      "cell_type": "markdown",
      "source": [
        "# ***Ejercicio 12***"
      ],
      "metadata": {
        "id": "YVR-RyEnIdn6"
      }
    },
    {
      "cell_type": "code",
      "source": [
        "# Un programa que genere listas a partir de inputs:\n",
        "\n",
        "lista_Productos = []\n",
        "lista_Precios = []\n",
        "\n",
        "print('Para finalizar ingresar 0')\n",
        "producto = input('Ingresar producto: ')\n",
        "precio = float(input('Ingresar precio: '))\n",
        "\n",
        "while precio != float(0):\n",
        "  lista_Productos.append(producto)\n",
        "  lista_Precios.append(precio)\n",
        "  producto = input('Ingresar producto: ')\n",
        "  precio = float(input('Ingresar precio: '))\n",
        "\n",
        "for x,y in zip(lista_Productos,lista_Precios):\n",
        "  print(f' {x:15} {y:15} ')"
      ],
      "metadata": {
        "colab": {
          "base_uri": "https://localhost:8080/"
        },
        "id": "ffLxMPeNtYQZ",
        "outputId": "fa0ae325-f4ef-4ec2-ef88-39fcf63a99ac"
      },
      "execution_count": null,
      "outputs": [
        {
          "output_type": "stream",
          "name": "stdout",
          "text": [
            "Ingresar producto: potatoe\n",
            "Ingresar precio: 200\n",
            "Ingresar producto: chesse\n",
            "Ingresar precio: 300\n",
            "Ingresar producto: chocolate\n",
            "Ingresar precio: 500\n",
            "Ingresar producto: milk\n",
            "Ingresar precio: 200\n",
            "Ingresar producto: yogurt\n",
            "Ingresar precio: 350\n",
            "Ingresar producto: 0\n",
            "Ingresar precio: 0\n",
            " potatoe                   200.0 \n",
            " chesse                    300.0 \n",
            " chocolate                 500.0 \n",
            " milk                      200.0 \n",
            " yogurt                    350.0 \n"
          ]
        }
      ]
    },
    {
      "cell_type": "code",
      "source": [
        "# ocultar prints\n",
        "import os, sys\n",
        "\n",
        "class HiddenPrints:\n",
        "    def __enter__(self):\n",
        "        self._original_stdout = sys.stdout\n",
        "        sys.stdout = open(os.devnull, 'w')\n",
        "\n",
        "    def __exit__(self, exc_type, exc_val, exc_tb):\n",
        "        sys.stdout.close()\n",
        "        sys.stdout = self._original_stdout\n",
        "        \n",
        "with HiddenPrints():\n",
        "  print('Will not be printed')\n",
        "\n",
        "print('Will be printed')  "
      ],
      "metadata": {
        "colab": {
          "base_uri": "https://localhost:8080/"
        },
        "id": "aYX0SsZE4zSm",
        "outputId": "0cf3afc8-71a1-4a82-df1d-37eed34b7129"
      },
      "execution_count": null,
      "outputs": [
        {
          "output_type": "stream",
          "name": "stdout",
          "text": [
            "Will be printed\n"
          ]
        }
      ]
    },
    {
      "cell_type": "code",
      "source": [
        "#  input password\n",
        "from getpass import getpass\n",
        "password = getpass()"
      ],
      "metadata": {
        "colab": {
          "base_uri": "https://localhost:8080/"
        },
        "id": "oMzNqcmT58_v",
        "outputId": "3eb97cc0-9d42-49e0-ee98-664b906b138c"
      },
      "execution_count": null,
      "outputs": [
        {
          "name": "stdout",
          "output_type": "stream",
          "text": [
            "··········\n"
          ]
        }
      ]
    }
  ]
}