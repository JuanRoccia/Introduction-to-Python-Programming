{
  "nbformat": 4,
  "nbformat_minor": 0,
  "metadata": {
    "colab": {
      "provenance": [],
      "collapsed_sections": [
        "FEbjmd6PiXiP",
        "-g98KOtQidy4",
        "4jB4FhuBihMg",
        "CQekGbhYikJS",
        "sWLOGIKue57D"
      ],
      "authorship_tag": "ABX9TyMdEK08WUpSDqGk5+JdP0C0",
      "include_colab_link": true
    },
    "kernelspec": {
      "name": "python3",
      "display_name": "Python 3"
    },
    "language_info": {
      "name": "python"
    }
  },
  "cells": [
    {
      "cell_type": "markdown",
      "metadata": {
        "id": "view-in-github",
        "colab_type": "text"
      },
      "source": [
        "<a href=\"https://colab.research.google.com/github/JuanRoccia/Introduction-to-Python-Programming/blob/main/TP4_Listas_CicloWhile.ipynb\" target=\"_parent\"><img src=\"https://colab.research.google.com/assets/colab-badge.svg\" alt=\"Open In Colab\"/></a>"
      ]
    },
    {
      "cell_type": "markdown",
      "source": [
        "# ***TP 4 Ciclo While y mas Listas***\n",
        "\n",
        "---\n",
        "\n",
        "\n",
        "\n",
        "\n",
        "\n",
        "\n"
      ],
      "metadata": {
        "id": "IJdccjmXeEE9"
      }
    },
    {
      "cell_type": "markdown",
      "source": [
        "# ***Ejercicio 1***"
      ],
      "metadata": {
        "id": "FEbjmd6PiXiP"
      }
    },
    {
      "cell_type": "markdown",
      "source": [
        "1.   Funciones básicas que Python tiene para operar con listas, es el punto más fuerte de este lenguaje de programación."
      ],
      "metadata": {
        "id": "Ngvj26U0edVu"
      }
    },
    {
      "cell_type": "code",
      "execution_count": null,
      "metadata": {
        "colab": {
          "base_uri": "https://localhost:8080/"
        },
        "id": "oH2KYLjcbd0C",
        "outputId": "36f8914c-df51-48c5-9d96-eb2ba8ef28f8"
      },
      "outputs": [
        {
          "output_type": "stream",
          "name": "stdout",
          "text": [
            "['a', 'b', 'c', 'd']\n"
          ]
        }
      ],
      "source": [
        "# Considerar que se tiene una lista_letras = ['q','a','d','z','o','a','m','q']\n",
        "# Indicar los resultados de las operaciones:\n",
        "\n",
        "lista_letras = ['q','a','d','z','o','a','m','q']\n",
        "x = lista_letras.count('a')\n",
        "x = lista_letras.index('d')\n",
        "x = lista_letras.index('q')\n",
        "x = lista_letras.remove('q')\n",
        "x = lista_letras.index('q')\n",
        "x = lista_letras.count('b')\n",
        "x = lista_letras.insert(1,'b')\n",
        "x = lista_letras.insert(2,'c')\n",
        "lista_letras.append(lista_letras[4])\n",
        "lista_letras.pop(4)\n",
        "del lista_letras[4:]\n",
        "print(lista_letras)"
      ]
    },
    {
      "cell_type": "code",
      "source": [
        "fruits = [\"apple\", \"banana\", \"cherry\", \"kiwi\", \"mango\"]\n",
        "fruit_str = ' '.join(fruits)\n",
        "newlist = []\n",
        "\n",
        "for x in fruit_str:\n",
        "  if \"a\" in x:\n",
        "    newlist.append(x)\n",
        "\n",
        "print(newlist)\n",
        "print(fruit_str)"
      ],
      "metadata": {
        "colab": {
          "base_uri": "https://localhost:8080/"
        },
        "id": "HGWtRd63oCpH",
        "outputId": "507d68b5-c049-4d76-c234-1e1efd1c29d1"
      },
      "execution_count": null,
      "outputs": [
        {
          "output_type": "stream",
          "name": "stdout",
          "text": [
            "['a', 'a', 'a', 'a', 'a']\n",
            "apple banana cherry kiwi mango\n"
          ]
        }
      ]
    },
    {
      "cell_type": "markdown",
      "source": [
        "# ***Ejercicio 2***"
      ],
      "metadata": {
        "id": "-g98KOtQidy4"
      }
    },
    {
      "cell_type": "markdown",
      "source": [
        "2.   A partir de las funciones de las listas, indicar el resultado de realizar las siguientes operaciones.\n",
        "Estas operaciones también son el punto fuerte de este lenguaje."
      ],
      "metadata": {
        "id": "unkMxt5ZwUff"
      }
    },
    {
      "cell_type": "code",
      "source": [
        "lista = [7,4,5,3]\n",
        "\n",
        "lista.append(6) # Agrega un seis al final de la lista.\n",
        "print('1. {}'.format(lista))\n",
        "\n",
        "lista[2] = 10 # Reemplaza el cinco de la posición 2 por un diez.\n",
        "print(f'2. {lista}')\n",
        "\n",
        "lista.insert(3,8) # Agrega un ocho en la posicion 3,\n",
        "print('3. {}'.format(lista))      # desplazando el numero que alli se encuentre hacia la derecha.\n",
        "\n",
        "lista.remove(4) # Borra el primer numero 4 que se encuentre en la lista.\n",
        "print(f'4. {lista} ')\n",
        "\n",
        "lista.pop(2) # Borra el numero que se encuentre en la posicion 2.\n",
        "print(f'5. {lista} ')\n",
        "\n",
        "lista.extend([1,2]) # Se agregaran al final de la lista, los numeros de la nueva lista en extend.\n",
        "print(f'6. {lista} ')\n",
        "\n",
        "lista.reverse() # Va a invertir la lista.\n",
        "print('7. {} '.format(lista))\n",
        "\n",
        "lista.sort() # Ordena la lista de menor a mayor.\n",
        "print(f'8. {lista} ')\n",
        "\n",
        "lista.reverse() # Vuelve a invertir la lista, por lo que quedarian de mayor a menor.\n",
        "print(f'9. {lista} ')\n",
        "\n",
        "lista.clear() # Vacia la lista\n",
        "print('10. {} '.format(lista))\n",
        "\n",
        "try:\n",
        "  print(f'11. lista.pop() no funciona.')\n",
        "  # El pop por defecto borra el ultimo elemento del a lista\n",
        "  # pero al estar vacia tirara error.\n",
        "except:\n",
        "  lista.pop()"
      ],
      "metadata": {
        "colab": {
          "base_uri": "https://localhost:8080/"
        },
        "id": "PAYShhHcylh3",
        "outputId": "0fd28736-c0f4-4701-c14b-d20ffc7b7b5d"
      },
      "execution_count": null,
      "outputs": [
        {
          "output_type": "stream",
          "name": "stdout",
          "text": [
            "1. [7, 4, 5, 3, 6]\n",
            "2. [7, 4, 10, 3, 6]\n",
            "3. [7, 4, 10, 8, 3, 6]\n",
            "4. [7, 10, 8, 3, 6] \n",
            "5. [7, 10, 3, 6] \n",
            "6. [7, 10, 3, 6, 1, 2] \n",
            "7. [2, 1, 6, 3, 10, 7] \n",
            "8. [1, 2, 3, 6, 7, 10] \n",
            "9. [10, 7, 6, 3, 2, 1] \n",
            "10. [] \n",
            "11. lista.pop() no funciona.\n"
          ]
        }
      ]
    },
    {
      "cell_type": "markdown",
      "source": [
        "# ***Ejercicio 3***"
      ],
      "metadata": {
        "id": "4jB4FhuBihMg"
      }
    },
    {
      "cell_type": "markdown",
      "source": [
        "3.   Diseñe un programa que le permita al usuario ingresar letra por letra su nombre, deben crear un comando quee le permita terminar de ingresar letras, finalmente se debe mostrar el nombre con un saludo."
      ],
      "metadata": {
        "id": "lQG00pms6_zf"
      }
    },
    {
      "cell_type": "code",
      "source": [
        "print('''\n",
        "====================================================\n",
        "======Ingrese letra por letra su primer nombre======\n",
        "======----> Al finalizar presione enter <-----======\n",
        "====================================================\\n ''')\n",
        "\n",
        "letras = input()\n",
        "nombre = []\n",
        "\n",
        "while True:\n",
        "  nombre.append(letras)\n",
        "  \n",
        "  if letras == '':\n",
        "    break\n",
        "  else:\n",
        "    letras = input()\n",
        "\n",
        "nombre_str = ''.join(nombre)\n",
        "x = nombre_str.capitalize()\n",
        "print('''Hi {}!, nice to meet you. My name is Python, I'm a high level programming language.'''.format(x))    "
      ],
      "metadata": {
        "colab": {
          "base_uri": "https://localhost:8080/"
        },
        "id": "VAgLHxBa7Vm_",
        "outputId": "812b30f6-2e1a-4999-991e-80e35e5ab28b"
      },
      "execution_count": null,
      "outputs": [
        {
          "output_type": "stream",
          "name": "stdout",
          "text": [
            "\n",
            "====================================================\n",
            "======Ingrese letra por letra su primer nombre======\n",
            "======----> Al finalizar presione enter <-----======\n",
            "====================================================\n",
            " \n",
            "j\n",
            "u\n",
            "a\n",
            "n\n",
            "\n",
            "Hi Juan!, nice to meet you. My name is Python, I'm a high level programming language.\n"
          ]
        }
      ]
    },
    {
      "cell_type": "code",
      "source": [
        "# Esta es la version usando 'enter' con el modulo keyboard\n",
        "# Para ellos es necesario pip install keyboard.\n",
        "\n",
        "import keyboard \n",
        "\n",
        "nombre = []\n",
        "\n",
        "while True:\n",
        "  letras = input()\n",
        "  if keyboard.is_pressed('enter'):\n",
        "    break\n",
        "  else:\n",
        "    nombre.append(letras)  "
      ],
      "metadata": {
        "id": "3Gs1tlhoaqfw"
      },
      "execution_count": null,
      "outputs": []
    },
    {
      "cell_type": "code",
      "source": [
        "# Esta es la version que use\n",
        "\n",
        "a=input()\n",
        "while True:\n",
        "    print(a)\n",
        "    if a=='':\n",
        "        break\n",
        "    a=input()"
      ],
      "metadata": {
        "id": "JdTLctmoalQP"
      },
      "execution_count": null,
      "outputs": []
    },
    {
      "cell_type": "markdown",
      "source": [
        "# ***Ejercicio 4***"
      ],
      "metadata": {
        "id": "CQekGbhYikJS"
      }
    },
    {
      "cell_type": "markdown",
      "source": [
        "4.   Deducir cual es el criterio para generar la lista de valores indicados:\n",
        "\n",
        "* a)   [6,8,10,12,14]\n",
        "\n",
        "* b)   [8,-8,8,-8,8]\n",
        "\n",
        "* c)   [9,8,7,6,5,4]\n",
        "\n",
        "    Luego implementar un cogido que genera dichas listas aplicando ciclos while con datos ingresados por el usuario a las variables:\n",
        "* **primerValor**\n",
        "* **cantidadValores**"
      ],
      "metadata": {
        "id": "H9DxT0WDityX"
      }
    },
    {
      "cell_type": "code",
      "source": [
        "# Inciso a)\n",
        "\n",
        "# a = [6,8,10,12,14] Es una lista cuyo dato de entrada de la misma va en aumento\n",
        "# Con intervalos de dos en dos.\n",
        "primerValor = int(input('Ingrese un valor inical \\n'))\n",
        "CantidadValores = int(input('Ingrese cantidad de valores deseados en lista \\n'))\n",
        "a = []\n",
        "\n",
        "while len(a) < CantidadValores:\n",
        "  a.append(primerValor)\n",
        "  primerValor += 2\n",
        "\n",
        "print(f'Esta es la secuencia obtenida: {a} ')"
      ],
      "metadata": {
        "colab": {
          "base_uri": "https://localhost:8080/"
        },
        "id": "MqkvNIDmimRH",
        "outputId": "c87d35bd-73ab-475a-abc6-ae47c7bdcf01"
      },
      "execution_count": null,
      "outputs": [
        {
          "output_type": "stream",
          "name": "stdout",
          "text": [
            "Ingrese un valor inical \n",
            "6\n",
            "Ingrese cantidad de valores deseados en lista \n",
            "5\n",
            "Esta es la secuencia obtenida: [6, 8, 10, 12, 14] \n"
          ]
        }
      ]
    },
    {
      "cell_type": "code",
      "source": [
        "# Inciso b\n",
        "\n",
        "# b = [8,-8,8,-8,8] Es una lista cuyo dato de entrada \n",
        "# da como resultado el valor positivo y negativo del mismo.\n",
        "b = []\n",
        "primerValor = int(input('El numero ingresado es: '))\n",
        "cantidadValores = int(input('Cantidad: '))\n",
        "# print(f'Se repetira: {cantidadValores} veces.')\n",
        "\n",
        "while len(b) < cantidadValores:\n",
        "  b.append(primerValor)\n",
        "  primerValor *= -1\n",
        "\n",
        "print(b)  "
      ],
      "metadata": {
        "colab": {
          "base_uri": "https://localhost:8080/"
        },
        "id": "ZswSbOu1SmZ5",
        "outputId": "bf8f6942-e0f0-4389-d614-71b686b80699"
      },
      "execution_count": null,
      "outputs": [
        {
          "output_type": "stream",
          "name": "stdout",
          "text": [
            "El numero ingresado es: 8\n",
            "Cantidad: 5\n",
            "[8, -8, 8, -8, 8]\n"
          ]
        }
      ]
    },
    {
      "cell_type": "code",
      "source": [
        "# Inciso c\n",
        "\n",
        "#  c = [9,8,7,6,5] Es una lista igual a la primera con sus vlores invertidos.\n",
        "# Sin intervalos de dos, solo sumando 1.\n",
        "c = []\n",
        "primerValor = int(input())\n",
        "cantidadValores = int(input())\n",
        "\n",
        "while len(c) < cantidadValores:\n",
        "  c.append(primerValor)\n",
        "  primerValor -= 1\n",
        "print(c)"
      ],
      "metadata": {
        "colab": {
          "base_uri": "https://localhost:8080/"
        },
        "id": "nRPnZOWUdhpq",
        "outputId": "57f806cf-3150-46af-92da-5fb7f983a57f"
      },
      "execution_count": null,
      "outputs": [
        {
          "output_type": "stream",
          "name": "stdout",
          "text": [
            "9\n",
            "5\n",
            "[9, 8, 7, 6, 5]\n"
          ]
        }
      ]
    },
    {
      "cell_type": "markdown",
      "source": [
        "# ***Ejercicio 5***"
      ],
      "metadata": {
        "id": "sWLOGIKue57D"
      }
    },
    {
      "cell_type": "markdown",
      "source": [
        "5. Implementar un programa que le permita al usuario ingresar numeros y obtener el promedio:\n",
        "\n",
        "\n",
        "*   Ingresar numeros\n",
        "*   Guardar esos numeros\n",
        "*   Parar de ingresar numeros\n",
        "*   Obtener el promedio de esos numeros\n",
        "*   Mostrar los datos ingresados y el promedio.\n",
        "\n",
        "\n",
        "\n"
      ],
      "metadata": {
        "id": "WigcdMEbg8QK"
      }
    },
    {
      "cell_type": "code",
      "source": [
        "numeros = (input('''\n",
        "Cuando ya no necesites ingresar mas numeros, dale enter al vacio.\n",
        "Ingrese los numeros a promediar: \n",
        "'''))\n",
        "\n",
        "guardar = []\n",
        "guardar_flt = []\n",
        "\n",
        "while True:\n",
        "  guardar.append(numeros)\n",
        "  numeros = input()\n",
        "  if numeros == '':\n",
        "    break\n",
        "\n",
        "for x in guardar:\n",
        "  guardar_flt.append(float(x))\n",
        "\n",
        "promedio = sum(guardar_flt)/len(guardar_flt)\n",
        "print(''' \n",
        "Los numeros ingresados son: {}\n",
        "El promedio de estos, es: {}\n",
        "'''.format(guardar,promedio))"
      ],
      "metadata": {
        "colab": {
          "base_uri": "https://localhost:8080/"
        },
        "id": "NKmPnd1QfSfh",
        "outputId": "484f3f56-ea50-412f-d68a-51782592451e"
      },
      "execution_count": null,
      "outputs": [
        {
          "output_type": "stream",
          "name": "stdout",
          "text": [
            "\n",
            "Cuando ya no necesites ingresar mas numeros, dale enter al vacio.\n",
            "Ingrese los numeros a promediar: \n",
            "5.5\n",
            "5\n",
            "-5\n",
            "20\n",
            "\n",
            " \n",
            "Los numeros ingresados son: ['5.5', '5', '-5', '20']\n",
            "El promedio de estos, es: 6.375\n",
            "\n"
          ]
        }
      ]
    }
  ]
}