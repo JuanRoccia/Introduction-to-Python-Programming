{
  "nbformat": 4,
  "nbformat_minor": 0,
  "metadata": {
    "colab": {
      "provenance": [],
      "collapsed_sections": [
        "jzYebR3110KI",
        "xvxylFNO_vHz",
        "aKfwiCDyDr0q",
        "-zQZlKJlFVze",
        "cW73LsVcJi8t",
        "9p6BApOKLHId",
        "0BbR5CxyMbRh",
        "M1vgOlCMM8bt",
        "um6FcEyBOC9M",
        "NqNJ2ivYPjPl",
        "Mey_RzgZQgPg",
        "cYZvDaeESMQ2",
        "mnNJZS5KVMLm",
        "FLTyGs3gYZTX"
      ],
      "authorship_tag": "ABX9TyMVjq+EA9tVhy87Wo34JlUI",
      "include_colab_link": true
    },
    "kernelspec": {
      "name": "python3",
      "display_name": "Python 3"
    },
    "language_info": {
      "name": "python"
    }
  },
  "cells": [
    {
      "cell_type": "markdown",
      "metadata": {
        "id": "view-in-github",
        "colab_type": "text"
      },
      "source": [
        "<a href=\"https://colab.research.google.com/github/JuanRoccia/Introduction-to-Python-Programming/blob/main/TP1_Variables_Entradas_y_Salidas.ipynb\" target=\"_parent\"><img src=\"https://colab.research.google.com/assets/colab-badge.svg\" alt=\"Open In Colab\"/></a>"
      ]
    },
    {
      "cell_type": "markdown",
      "source": [
        "> # TP 1 VARIABLES, ENTRADAS Y SALIDAS\n",
        "---\n",
        "Introducción a la programación Python"
      ],
      "metadata": {
        "id": "jzYebR3110KI"
      }
    },
    {
      "cell_type": "markdown",
      "source": [
        "# Ejercicio 1\n",
        "\n",
        "1) ¿Que es una variable? Marcar la respuesta correcta.\n",
        "\n",
        "\n",
        "\n",
        "1.   Es un espacio de memoria, que se reserva para un tipo específico de datos que no puede ser sobrescrito y tiene un nombre que lo identifica.\n",
        "2.   Es una regla en programación para ser un hacker.\n",
        "3.   Es un espacio en memoria que se reserva para un tipo específico de dato que puede sobrescribirse y tiene un nombre que lo identifica.\n",
        "4.   Es un capricho del escritor y solo necesitaba una opción más.\n",
        "\n"
      ],
      "metadata": {
        "id": "xvxylFNO_vHz"
      }
    },
    {
      "cell_type": "code",
      "execution_count": 3,
      "metadata": {
        "colab": {
          "base_uri": "https://localhost:8080/"
        },
        "id": "XDCgA9kn0yv1",
        "outputId": "4e7d991c-49c7-4581-9c09-b7f3edd82396"
      },
      "outputs": [
        {
          "output_type": "stream",
          "name": "stdout",
          "text": [
            "Esto es el dato de una varible\n",
            "Esta es la variable sobresicrita\n",
            "<class 'str'>\n",
            "La respuesta correcta es la 3\n"
          ]
        }
      ],
      "source": [
        "# Esto es una variable con un valor (en este caso un str)\n",
        "variable = \"Esto es el valor de la varible\" \n",
        "print(variable)\n",
        "\n",
        "# El nombre para el espacio en memoria es: \"variable\" y puede ser sobrescrito\n",
        "variable = \"Esta es la variable sobresicrita\"\n",
        "print(variable)\n",
        "\n",
        "# El tipo de dato de esta variable es\n",
        "print(type(variable))\n",
        "\n",
        "# Por lo tanto la opción correcta es la 3\n",
        "opcion = \"La respuesta correcta es la 3\"\n",
        "print(opcion)"
      ]
    },
    {
      "cell_type": "markdown",
      "source": [
        "# Ejercicio 2\n",
        "\n",
        "En este ejercicio se presenta una serie de variables qeu guardan distintos tipos de datos, los que deben hacer es uni para cada variable el tipo de dato que le corresponde:\n",
        "\n",
        "- variable1 = 5\n",
        "- variable2 = 'z'\n",
        "- variable3 = -2.5\n",
        "- variable4 = 5.77\n",
        "- variable5 = 'hola mundo'\n",
        "\n",
        "tipos de datos:\n",
        "\n",
        "- String (str)\n",
        "- Integer (int)\n",
        "- Float (float)"
      ],
      "metadata": {
        "id": "aKfwiCDyDr0q"
      }
    },
    {
      "cell_type": "code",
      "source": [
        "variable1 = 5\n",
        "variable2 = 'z'\n",
        "variable3 = -2.5\n",
        "variable4 = 5.77\n",
        "variable5 = 'hola mundo'\n",
        "\n",
        "print(f'variable1: {type(variable1)}\\nvariable2: {type(variable2)}\\nvariable3: {type(variable3)}\\nvariable4: {type(variable4)}\\nvariable5 {type(variable5)}')"
      ],
      "metadata": {
        "colab": {
          "base_uri": "https://localhost:8080/"
        },
        "id": "UOnazyHaElAn",
        "outputId": "2a7c114d-22ba-4002-ee1c-d3e1ecdbde81"
      },
      "execution_count": 5,
      "outputs": [
        {
          "output_type": "stream",
          "name": "stdout",
          "text": [
            "variable1: <class 'int'>\n",
            "variable2: <class 'str'>\n",
            "variable3: <class 'float'>\n",
            "variable4: <class 'float'>\n",
            "variable5 <class 'str'>\n"
          ]
        }
      ]
    },
    {
      "cell_type": "markdown",
      "source": [
        "# Ejercicio 3\n",
        "\n",
        "3) Ahora en este ejercicio vamos a tener que pensar, no tanto en cómo va a funcionar el programa internamente, sino en que me va a pedir el programa y que me tiene que responder.\n",
        "\n",
        "En cada inciso, considerar la información que debe ingresar el usuario y la respuesta que debe brindar el programa expresado en una oración:\n",
        "\n",
        "\n",
        "\n",
        "1.   Una aplicación que permita dividir dos números.\n",
        "2.   Una aplicación que cuenta la cantidad de vocales de un nombre.\n",
        "3.   Una aplicación que compare tres números y los ordene de menor a mayor.\n",
        "4.   Una aplicación que a partir de la fecha de nacimiento de una persona indique su edad actual.\n",
        "5.   Calcular la suma de dos números.\n",
        "6.   Calcular el promedio de una secuencia de valores.\n",
        "7.   Calcular el cuadrado de un número.\n",
        "8.   Formar frases a partir de un conjunto de palabras."
      ],
      "metadata": {
        "id": "-zQZlKJlFVze"
      }
    },
    {
      "cell_type": "code",
      "source": [
        "# 1) Una aplicación que permita dividir dos números.\n",
        "# Solicitara dos números, los dividira y luego devolvera el resultado.\n",
        "\n",
        "# 2) Una aplicación que cuenta la cantidad de vocales de un nombre.\n",
        "# Se le pasara un nombre, contara las vocales y devolvera una lista de vocales o el total de vocales, es decir un número.\n",
        "\n",
        "# 3) Una aplicación que compare tres números y los ordene de menor a mayor.\n",
        "# Solicitara los 3 números, los ordenara y devolvera los mismos 3 números ordenados.\n",
        "\n",
        "# 4) Una aplicación que a partir de la fecha de nacimiento de una persona indique su edad actual.\n",
        "# Pedira el año de nacimiento, el año actual y devolvera el año de la persona.\n",
        "\n",
        "# 5) Calcular la suma de dos números.\n",
        "# Solicitara 2 numeros de entrada y devolvera uno.\n",
        "\n",
        "# 6) Calcular el promedio de una secuencia de valores.\n",
        "# Se le pasara la secuencia de valores, hara los calculos y devolvera un número correspondiente al promedio.\n",
        "\n",
        "#  7) Calcular el cuadrado de un número.\n",
        "# Pedira el numero, lo elevar al cuadrado y devolver otro número resultado de la operación.\n",
        "\n",
        "# 8) Formar frases a partir de un conjunto de palabras.\n",
        "# Se le pasara una cantidad de palabras determinadas y devolvera una unica variable compuesta con las palabras."
      ],
      "metadata": {
        "id": "AT1vpwZIHe_r"
      },
      "execution_count": null,
      "outputs": []
    },
    {
      "cell_type": "markdown",
      "source": [
        "# Ejercicio 4\n",
        "\n",
        "4) En este ejercicio vamos a escribir en Python print('HolaMundo'), acto seguido vamos a ejecutar este simple programa. Viendo lo que genera, hacer un programa que diga:\n",
        "\"Un viernes bla bla bla. Voy a aprender Python.\""
      ],
      "metadata": {
        "id": "cW73LsVcJi8t"
      }
    },
    {
      "cell_type": "code",
      "source": [
        "print('HolaMundo')"
      ],
      "metadata": {
        "colab": {
          "base_uri": "https://localhost:8080/"
        },
        "id": "rxrSinzlMZIB",
        "outputId": "86672efb-1aa6-4c8e-83a7-7a12087bfdbc"
      },
      "execution_count": 12,
      "outputs": [
        {
          "output_type": "stream",
          "name": "stdout",
          "text": [
            "HolaMundo\n"
          ]
        }
      ]
    },
    {
      "cell_type": "code",
      "source": [
        "def queEjercicioPedorro():\n",
        "  ElString = input('Pasame el str wacho: ')\n",
        "  return ElString"
      ],
      "metadata": {
        "id": "4YkmH5oUKeLU"
      },
      "execution_count": 7,
      "outputs": []
    },
    {
      "cell_type": "code",
      "source": [
        "queEjercicioPedorro()"
      ],
      "metadata": {
        "colab": {
          "base_uri": "https://localhost:8080/",
          "height": 53
        },
        "id": "zq0zDgV-K9Hr",
        "outputId": "c3b67f47-23ba-4409-a128-ab3543b63766"
      },
      "execution_count": 8,
      "outputs": [
        {
          "name": "stdout",
          "output_type": "stream",
          "text": [
            "Pasame el str wacho: Un viernes bla bla bla. Voy a aprender Python.\n"
          ]
        },
        {
          "output_type": "execute_result",
          "data": {
            "text/plain": [
              "'Un viernes bla bla bla. Voy a aprender Python.'"
            ],
            "application/vnd.google.colaboratory.intrinsic+json": {
              "type": "string"
            }
          },
          "metadata": {},
          "execution_count": 8
        }
      ]
    },
    {
      "cell_type": "markdown",
      "source": [
        "# Ejercicio 5\n",
        "\n",
        "5) Se desea un programa que me muestre l siguiente frase, es decir, únicamente lo quiero en dos renglones, usando la herramienta print().\n",
        "\n",
        "\"Es genial trabajar con ordendores. No dsicuten, lo recuerdan todo y no se beben la cerveza\" \"--Paul Leary\""
      ],
      "metadata": {
        "id": "9p6BApOKLHId"
      }
    },
    {
      "cell_type": "code",
      "source": [
        " print(' \"Es genial trabajar con ordendores. No dsicuten, lo recuerdan todo y no se beben la cerveza\"\\n--Paul Leary ')"
      ],
      "metadata": {
        "colab": {
          "base_uri": "https://localhost:8080/"
        },
        "id": "_AG-b1dRLvK8",
        "outputId": "210c9cb1-3037-4a18-fe08-63f6168e83cf"
      },
      "execution_count": 11,
      "outputs": [
        {
          "output_type": "stream",
          "name": "stdout",
          "text": [
            " \"Es genial trabajar con ordendores. No dsicuten, lo recuerdan todo y no se beben la cerveza\"\n",
            "--Paul Leary \n"
          ]
        }
      ]
    },
    {
      "cell_type": "markdown",
      "source": [
        "# Ejercicio 6\n",
        "\n",
        "6) Usando el comando print() generar en pantalla:\n",
        "\n",
        "**a<br>\n",
        "aa<br>\n",
        "aaa<br>\n",
        "aaaa<br>\n",
        "aaaaa**\n",
        "\n",
        "y luego esto:\n",
        "\n",
        "**a     a     a<br>\n",
        "a     a     a<br>\n",
        "a     a     a<br>\n",
        "a     a     a**"
      ],
      "metadata": {
        "id": "0BbR5CxyMbRh"
      }
    },
    {
      "cell_type": "code",
      "source": [
        "print(\"\"\"\n",
        "a\n",
        "aa\n",
        "aaa\n",
        "aaaa\n",
        "aaaaa\n",
        "aaaaaaaaaaaaaaaaaaaaaaaaaaaaaaaaaaaaaaaaaaaaaaaaaaaaaaaa\n",
        "\"\"\")\n",
        "\n",
        "print(\"\"\" \n",
        "a   a   a\n",
        "a   a   a\n",
        "a   a   a\n",
        "a   a   a \"\"\")"
      ],
      "metadata": {
        "colab": {
          "base_uri": "https://localhost:8080/"
        },
        "id": "sFY7j8OOMPMB",
        "outputId": "f68ed63b-dc4c-4390-9509-180410af25ed"
      },
      "execution_count": 14,
      "outputs": [
        {
          "output_type": "stream",
          "name": "stdout",
          "text": [
            "\n",
            "a\n",
            "aa\n",
            "aaa\n",
            "aaaa\n",
            "aaaaa\n",
            "aaaaaaaaaaaaaaaaaaaaaaaaaaaaaaaaaaaaaaaaaaaaaaaaaaaaaaaa\n",
            "\n",
            " \n",
            "a   a   a\n",
            "a   a   a\n",
            "a   a   a\n",
            "a   a   a \n"
          ]
        }
      ]
    },
    {
      "cell_type": "markdown",
      "source": [
        "# Ejercicio 7\n",
        "\n",
        "7) miVariable = '280'\n",
        "¿Que pasarpia si escribo print(miVarable)? Cual es la opción correcta?\n",
        "\n",
        "1. \"miVariable\"\n",
        "2. \"280\"\n",
        "3. \"error\"\n",
        "4. \"no se puede saber aún\""
      ],
      "metadata": {
        "id": "M1vgOlCMM8bt"
      }
    },
    {
      "cell_type": "code",
      "source": [
        "miVariable = \"280\"\n",
        "print(miVariable)"
      ],
      "metadata": {
        "colab": {
          "base_uri": "https://localhost:8080/"
        },
        "id": "ru_sm7EBNBOF",
        "outputId": "a70a817e-28f7-40bc-c547-dc6aded5bf40"
      },
      "execution_count": 15,
      "outputs": [
        {
          "output_type": "stream",
          "name": "stdout",
          "text": [
            "280\n"
          ]
        }
      ]
    },
    {
      "cell_type": "markdown",
      "source": [
        "Ahora sobreescribir la variable \"miVariable\" para que de como resultado:\n",
        "\"hay 280 alumnos\""
      ],
      "metadata": {
        "id": "w1xFyHphOMMV"
      }
    },
    {
      "cell_type": "code",
      "source": [
        "miVariable =  \"hay 280 alumnos\"\n",
        "print(miVariable)"
      ],
      "metadata": {
        "colab": {
          "base_uri": "https://localhost:8080/"
        },
        "id": "HGCush-wOUa4",
        "outputId": "1c070c78-d4af-4a31-b31d-cb74b93c2452"
      },
      "execution_count": 16,
      "outputs": [
        {
          "output_type": "stream",
          "name": "stdout",
          "text": [
            "hay 280 alumnos\n"
          ]
        }
      ]
    },
    {
      "cell_type": "markdown",
      "source": [
        "# Ejercicio 8\n",
        "\n",
        "8) En este ejercicio es necesario un programa que pida un numero al usuario, lo guarde en una variable para mostrarlo en pantalla, completen el ejercicio y ejecuten el algoritmo en python."
      ],
      "metadata": {
        "id": "um6FcEyBOC9M"
      }
    },
    {
      "cell_type": "code",
      "source": [
        "# print(\"...........\")\n",
        "# variable = ...........()\n",
        "# print(\"El numero que ingresaste es: \" + ...........)\n",
        "\n",
        "print(\"numero: \")\n",
        "variable = input()\n",
        "print(\"El numero que ingresaste es: \" + variable)"
      ],
      "metadata": {
        "colab": {
          "base_uri": "https://localhost:8080/"
        },
        "id": "tPon68_tOvt8",
        "outputId": "ee5c0c38-4449-4b1b-faa8-386716fd45d7"
      },
      "execution_count": 17,
      "outputs": [
        {
          "output_type": "stream",
          "name": "stdout",
          "text": [
            "numero: \n",
            "5\n",
            "El numero que ingresaste es: 5\n"
          ]
        }
      ]
    },
    {
      "cell_type": "markdown",
      "source": [
        "# Ejercicio 9\n",
        "\n",
        "9) Implementar un algoritmo que pregunte su nombre y edad, para que devuelva un mensaje y lo saludo mostrando su nombre y edad. por ejemplo: \"Buenas tardes Fulanito, usted tiene 18 años.\""
      ],
      "metadata": {
        "id": "NqNJ2ivYPjPl"
      }
    },
    {
      "cell_type": "code",
      "source": [
        "nombre = input(\"nombre: \")\n",
        "edad = input(\"edad: \")\n",
        "print(f\"Hola {nombre}, usted tiene {edad} años.\")"
      ],
      "metadata": {
        "colab": {
          "base_uri": "https://localhost:8080/"
        },
        "id": "IGxYBGpXPhBN",
        "outputId": "0582ac75-9db6-4abd-f2ad-8f22079420ca"
      },
      "execution_count": 18,
      "outputs": [
        {
          "output_type": "stream",
          "name": "stdout",
          "text": [
            "nombre: Mengueche\n",
            "edad: 54\n",
            "Hola Mengueche, usted tiene 54 años.\n"
          ]
        }
      ]
    },
    {
      "cell_type": "markdown",
      "source": [
        "# Ejercicio 10\n",
        "\n",
        "10) Un minikiosco desea un algoritmo que le calcule el vuelto que debe entregar por cada compra, se requiere que el usuario ingrese el importe de lo que se va a comprar y el dinero que le entrega el cliente. Hacer un pseudocódigo y el algoritmo asociado al problema"
      ],
      "metadata": {
        "id": "Mey_RzgZQgPg"
      }
    },
    {
      "cell_type": "code",
      "source": [
        "# PesudoCodigo\n",
        "# 1 Pedir importe\n",
        "# 2 Guardar eso en una variable\n",
        "# 3 Pedir dinero del ingresado\n",
        "# 4 Guardar eso en otra variable\n",
        "# 5 Restar el importe al dinero entregado\n",
        "# 6 Guardar eso en otra variable\n",
        "# 7 Mostrar el resultado\n",
        "\n",
        "importe = float(input(\"Ingrese el importe: \"))\n",
        "dinero = float(input(\"Ingrese el dinero del cliente: \"))\n",
        "resultado = dinero - importe\n",
        "print(resultado)"
      ],
      "metadata": {
        "colab": {
          "base_uri": "https://localhost:8080/"
        },
        "id": "80YjoE99Qjyn",
        "outputId": "f53e6b65-698c-4985-b0cb-30223d0cc90c"
      },
      "execution_count": 22,
      "outputs": [
        {
          "output_type": "stream",
          "name": "stdout",
          "text": [
            "Ingrese el importe: 735\n",
            "Ingrese el dinero del cliente: 1000\n",
            "265.0\n"
          ]
        }
      ]
    },
    {
      "cell_type": "markdown",
      "source": [
        "# Ejercicio 11\n",
        "\n",
        "11) Programa que calcule la suma y el promedio de tres números ingresados por el usuario"
      ],
      "metadata": {
        "id": "cYZvDaeESMQ2"
      }
    },
    {
      "cell_type": "code",
      "source": [
        "def SumaPromedio():\n",
        "  a = float(input('Ingrese un número: '))\n",
        "  b = float(input('Ingrese un número: '))\n",
        "  c = float(input('Ingrese un número: '))\n",
        "  suma = a + b + c\n",
        "  promedio = suma / 3\n",
        "  return print(f'suma = {suma}\\npromedio = {promedio}')"
      ],
      "metadata": {
        "id": "oX5ViI9oSOl_"
      },
      "execution_count": 41,
      "outputs": []
    },
    {
      "cell_type": "code",
      "source": [
        "SumaPromedio()"
      ],
      "metadata": {
        "colab": {
          "base_uri": "https://localhost:8080/"
        },
        "id": "2918cd47UBmn",
        "outputId": "6a8f4c71-ccd0-45db-8c4e-f621ac9192d1"
      },
      "execution_count": 42,
      "outputs": [
        {
          "output_type": "stream",
          "name": "stdout",
          "text": [
            "Ingrese un número: 9\n",
            "Ingrese un número: 5\n",
            "Ingrese un número: 8\n",
            "suma = 22.0\n",
            "promedio = 7.333333333333333\n"
          ]
        }
      ]
    },
    {
      "cell_type": "markdown",
      "source": [
        "# Ejercicio 12\n",
        "\n",
        "12) Implementar un programa que calcule el área de un cuadrado y de un triangulo.Para el cuadrad es necesario conocer el valor de uno de sus lados y para el triangulo es necesario saber la base por la altura"
      ],
      "metadata": {
        "id": "mnNJZS5KVMLm"
      }
    },
    {
      "cell_type": "code",
      "source": [
        "def calcularArea():\n",
        "  opcion = input(print(\"\"\"¿El area de que desea calcular? Elija una opcion: \n",
        "  1. Triangulo\n",
        "  2. Cuadrado\n",
        "  \"\"\"))\n",
        "  if opcion == '1':\n",
        "    b = float(input('Base del triangulo: '))\n",
        "    a = float(input('Altura: '))\n",
        "    areaTriangulo = (b * a) / 2\n",
        "    return areaTriangulo\n",
        "  if opcion == '2':\n",
        "    l = float(input('Lado del cuadrado: '))\n",
        "    areaCuadrado = l * l\n",
        "    return areaCuadrado"
      ],
      "metadata": {
        "id": "lYg0RWfmVh6-"
      },
      "execution_count": 45,
      "outputs": []
    },
    {
      "cell_type": "code",
      "source": [
        "calcularArea()"
      ],
      "metadata": {
        "colab": {
          "base_uri": "https://localhost:8080/"
        },
        "id": "RtsVHPGcW7CO",
        "outputId": "5973c33e-fbe0-4e01-97e2-4bded16bc58b"
      },
      "execution_count": 49,
      "outputs": [
        {
          "name": "stdout",
          "output_type": "stream",
          "text": [
            "¿El area de que desea calcular? Elija una opcion: \n",
            "  1. Triangulo\n",
            "  2. Cuadrado\n",
            "  \n",
            "None1\n",
            "Base del triangulo: 5\n",
            "Altura: 10\n"
          ]
        },
        {
          "output_type": "execute_result",
          "data": {
            "text/plain": [
              "25.0"
            ]
          },
          "metadata": {},
          "execution_count": 49
        }
      ]
    },
    {
      "cell_type": "code",
      "source": [
        "calcularArea()"
      ],
      "metadata": {
        "colab": {
          "base_uri": "https://localhost:8080/"
        },
        "id": "8WzE6_PvYEAH",
        "outputId": "6176d632-09be-48ce-cc73-824d3a887a5f"
      },
      "execution_count": 51,
      "outputs": [
        {
          "name": "stdout",
          "output_type": "stream",
          "text": [
            "¿El area de que desea calcular? Elija una opcion: \n",
            "  1. Triangulo\n",
            "  2. Cuadrado\n",
            "  \n",
            "None2\n",
            "Lado del cuadrado: 7\n"
          ]
        },
        {
          "output_type": "execute_result",
          "data": {
            "text/plain": [
              "49.0"
            ]
          },
          "metadata": {},
          "execution_count": 51
        }
      ]
    },
    {
      "cell_type": "markdown",
      "source": [
        "# Ejercicio 13\n",
        "\n",
        "13) Implementar un algoritmo que le pregunte al usuario la cantidad de horas trabajadas y el coste por hora, después debe mostrar la paga que le corresponde"
      ],
      "metadata": {
        "id": "FLTyGs3gYZTX"
      }
    },
    {
      "cell_type": "code",
      "source": [
        "horas = float(input(\"Cuantas hora trabaja: \"))\n",
        "valor = float(input(\"valor por hora: \"))\n",
        "\n",
        "total = horas * valor\n",
        "\n",
        "print(f'A usted le corresponde una paga de {total} por día laboral.')"
      ],
      "metadata": {
        "colab": {
          "base_uri": "https://localhost:8080/"
        },
        "id": "9_OGxnXeYdgQ",
        "outputId": "9a1ee9bb-16ce-46d0-e42a-12908954bbc6"
      },
      "execution_count": 58,
      "outputs": [
        {
          "output_type": "stream",
          "name": "stdout",
          "text": [
            "Cuantas hora trabaja: 8\n",
            "valor por hora: 200\n",
            "A usted le corresponde una paga de 1600.0 por día laboral.\n"
          ]
        }
      ]
    }
  ]
}