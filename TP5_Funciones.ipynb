{
  "nbformat": 4,
  "nbformat_minor": 0,
  "metadata": {
    "colab": {
      "provenance": [],
      "collapsed_sections": [
        "8POm92_HZElV",
        "l8IYsT99YhFm",
        "ZpzWcEtTYbdv",
        "c7FURaMljdg3",
        "zeW4tWM1lnMA",
        "KPVnlMs8cQ-O",
        "D11CZqXujhMg",
        "LhlBzk4gmWVh",
        "N6ZllfbvU0n5",
        "JtZ-PwztVAV5",
        "NAagEKT3beBZ",
        "-C3IjHM2Xt9y",
        "yu7DnsJq0mOB",
        "vE5VLZbAH8fI",
        "OgyXI8XZIELP",
        "_ZJKMjPvvvR4",
        "qQOHXjncFrLt",
        "C-3GuLSZOfsI"
      ],
      "authorship_tag": "ABX9TyM+z1pSGCwha/EewGqaiQyv",
      "include_colab_link": true
    },
    "kernelspec": {
      "name": "python3",
      "display_name": "Python 3"
    },
    "language_info": {
      "name": "python"
    }
  },
  "cells": [
    {
      "cell_type": "markdown",
      "metadata": {
        "id": "view-in-github",
        "colab_type": "text"
      },
      "source": [
        "<a href=\"https://colab.research.google.com/github/JuanRoccia/Introduction-to-Python-Programming/blob/main/TP5_Funciones.ipynb\" target=\"_parent\"><img src=\"https://colab.research.google.com/assets/colab-badge.svg\" alt=\"Open In Colab\"/></a>"
      ]
    },
    {
      "cell_type": "markdown",
      "source": [
        "# ***Trabajo Práctico 5: Funciones***\n",
        "\n",
        "---\n",
        "\n"
      ],
      "metadata": {
        "id": "F09BEWUoA6hB"
      }
    },
    {
      "cell_type": "markdown",
      "source": [
        "# ***Ejercicio 1***"
      ],
      "metadata": {
        "id": "8POm92_HZElV"
      }
    },
    {
      "cell_type": "markdown",
      "source": [
        "## **Menu**\n",
        "1. Diseñar una funcion que me muestre un menu.\n",
        "2. Si no se ingresa un numero del 1 al 5 debe mostrar un mensaje de error y volver a mostrar el menu."
      ],
      "metadata": {
        "id": "l8IYsT99YhFm"
      }
    },
    {
      "cell_type": "code",
      "source": [
        "# 1 Menu:\n",
        "\n",
        "# De esta forma puedo usar mas adelata la variable 'opcion\n",
        "# con la identacion correpondiente para los condicionales\n",
        "\n",
        "print('''\\033[92m\n",
        " ─────────────────────────────────────────────────────────────────────────\n",
        "|╔═════════════════════════════════════════════════════════════════════════╗\n",
        "│║=========================================================================║\n",
        "│║=========================================================================║\n",
        "│║==========\\033[99m█▀▄▀█ █   █▀▀ █▀▀ █▄░█ █ ▄▀█ █░░   █▀▄▀█ █▀▀ █▄░█ █░█\\033[0m\\033[92m==========║\n",
        "│║==========\\033[97m█░▀░█ █   █▄█ ██▄ █░▀█ █ █▀█ █▄▄   █░▀░█ ██▄ █░▀█ █▄█\\033[\\033[92m==========║\n",
        "│║=========================================================================║\n",
        "│║=========================================================================║\n",
        "│║                  \\033[92m[1] Hacer el histograma en vertical                    ║ \n",
        "│║                                                                         ║ \n",
        "│║                  [2] Hacer el histograma en horizontal                  ║\n",
        "│║                                                                         ║\n",
        "│║                  [3] Ordenar de mayor a menor                           ║\n",
        "│║                                                                         ║\n",
        "│║                  [4] Ordenar de menor a mayor                           ║\n",
        "│║                                                                         ║ \n",
        "│║                  [5] Salir \\033[0m\\033[92m                                             ║ \n",
        "│║=========================================================================║\n",
        "│║===============================> Ingrese número para seleccionar opción: ║\n",
        " ╚═════════════════════════════════════════════════════════════════════════╝\n",
        "''')\n",
        "\n",
        "a = ['1','2','3','4','5']\n",
        "opcion = input('                                    =====> ')\n",
        "while opcion not in a:\n",
        "  print('Opción incorrecta.')\n",
        "  menu()\n",
        "  break\n",
        "\n",
        "# Funcion menu:\n",
        "\n",
        "# Y con esta funcion puedo volver a llamar al menu cuando sea necesario\n",
        "# sin tener que volver a pegar todo esto. \n",
        "# Solo por esta vez seria necesario que esten los dos\n",
        "\n",
        "def menu():\n",
        "  print('''\\033[92m\n",
        " ─────────────────────────────────────────────────────────────────────────\n",
        "|╔═════════════════════════════════════════════════════════════════════════╗\n",
        "│║=========================================================================║\n",
        "│║=========================================================================║\n",
        "│║==========\\033[99m█▀▄▀█ █   █▀▀ █▀▀ █▄░█ █ ▄▀█ █░░   █▀▄▀█ █▀▀ █▄░█ █░█\\033[0m\\033[92m==========║\n",
        "│║==========\\033[97m█░▀░█ █   █▄█ ██▄ █░▀█ █ █▀█ █▄▄   █░▀░█ ██▄ █░▀█ █▄█\\033[\\033[92m==========║\n",
        "│║=========================================================================║\n",
        "│║=========================================================================║\n",
        "│║                  \\033[92m[1] Hacer el histograma en vertical                    ║ \n",
        "│║                                                                         ║ \n",
        "│║                  [2] Hacer el histograma en horizontal                  ║\n",
        "│║                                                                         ║\n",
        "│║                  [3] Ordenar de mayor a menor                           ║\n",
        "│║                                                                         ║\n",
        "│║                  [4] Ordenar de menor a mayor                           ║\n",
        "│║                                                                         ║ \n",
        "│║                  [5] Salir \\033[0m\\033[92m                                             ║ \n",
        "│║=========================================================================║\n",
        "│║===============================> Ingrese número para seleccionar opción: ║\n",
        " ╚═════════════════════════════════════════════════════════════════════════╝\n",
        "''')\n",
        "  \n",
        "# 2 Mensaje de error:\n",
        "\n",
        "  a = ['1','2','3','4','5']\n",
        "  opcion = input('                                    =====> ')\n",
        "  while opcion not in a:\n",
        "    print('Opción incorrecta.')\n",
        "    menu()\n",
        "    break\n",
        "\n",
        "# 3 Funcion: menu()   "
      ],
      "metadata": {
        "colab": {
          "base_uri": "https://localhost:8080/"
        },
        "id": "5FrDu5rMsA8E",
        "outputId": "f1783739-3fe3-42d6-a155-cd2e9e624021"
      },
      "execution_count": null,
      "outputs": [
        {
          "name": "stdout",
          "output_type": "stream",
          "text": [
            "\u001b[92m\n",
            " ─────────────────────────────────────────────────────────────────────────\n",
            "|╔═════════════════════════════════════════════════════════════════════════╗\n",
            "│║=========================================================================║\n",
            "│║=========================================================================║\n",
            "│║==========\u001b[99m█▀▄▀█ █   █▀▀ █▀▀ █▄░█ █ ▄▀█ █░░   █▀▄▀█ █▀▀ █▄░█ █░█\u001b[0m\u001b[92m==========║\n",
            "│║==========\u001b[97m█░▀░█ █   █▄█ ██▄ █░▀█ █ █▀█ █▄▄   █░▀░█ ██▄ █░▀█ █▄█\u001b[\u001b[92m==========║\n",
            "│║=========================================================================║\n",
            "│║=========================================================================║\n",
            "│║                  \u001b[92m[1] Hacer el histograma en vertical                    ║ \n",
            "│║                                                                         ║ \n",
            "│║                  [2] Hacer el histograma en horizontal                  ║\n",
            "│║                                                                         ║\n",
            "│║                  [3] Ordenar de mayor a menor                           ║\n",
            "│║                                                                         ║\n",
            "│║                  [4] Ordenar de menor a mayor                           ║\n",
            "│║                                                                         ║ \n",
            "│║                  [5] Salir \u001b[0m\u001b[92m                                             ║ \n",
            "│║=========================================================================║\n",
            "│║===============================> Ingrese número para seleccionar opción: ║\n",
            " ╚═════════════════════════════════════════════════════════════════════════╝\n",
            "\n",
            "                                    =====> 1\n"
          ]
        }
      ]
    },
    {
      "cell_type": "markdown",
      "source": [
        "### ***Pruebas de menues con diseños ASCII***\n",
        "\n"
      ],
      "metadata": {
        "id": "ZpzWcEtTYbdv"
      }
    },
    {
      "cell_type": "code",
      "source": [
        "# SGR color constants\n",
        "# rene-d 2018\n",
        "\n",
        "# class Colors:\n",
        "#     \"\"\" ANSI color codes \"\"\"\n",
        "#     BLACK = \"\\033[0;30m\"\n",
        "#     RED = \"\\033[0;31m\"\n",
        "#     GREEN = \"\\033[0;32m\"\n",
        "#     BROWN = \"\\033[0;33m\"\n",
        "#     BLUE = \"\\033[0;34m\"\n",
        "#     PURPLE = \"\\033[0;35m\"\n",
        "#     CYAN = \"\\033[0;36m\"\n",
        "#     LIGHT_GRAY = \"\\033[0;37m\"\n",
        "#     DARK_GRAY = \"\\033[1;30m\"\n",
        "#     LIGHT_RED = \"\\033[1;31m\"\n",
        "#     LIGHT_GREEN = \"\\033[1;32m\"\n",
        "#     YELLOW = \"\\033[1;33m\"\n",
        "#     LIGHT_BLUE = \"\\033[1;34m\"\n",
        "#     LIGHT_PURPLE = \"\\033[1;35m\"\n",
        "#     LIGHT_CYAN = \"\\033[1;36m\"\n",
        "#     LIGHT_WHITE = \"\\033[1;37m\"\n",
        "#     BOLD = \"\\033[1m\"\n",
        "#     FAINT = \"\\033[2m\"\n",
        "#     ITALIC = \"\\033[3m\"\n",
        "#     UNDERLINE = \"\\033[4m\"\n",
        "#     BLINK = \"\\033[5m\"\n",
        "#     NEGATIVE = \"\\033[7m\"\n",
        "#     CROSSED = \"\\033[9m\"\n",
        "#     END = \"\\033[0m\""
      ],
      "metadata": {
        "id": "YNYkznmyoBe5"
      },
      "execution_count": null,
      "outputs": []
    },
    {
      "cell_type": "code",
      "source": [
        "# print('''  \n",
        "\n",
        "# \\033[1;34m███╗░░░███╗██╗  ░██████╗░███████╗███╗░░██╗██╗░█████╗░██╗░░░░░  ███╗░░░███╗███████╗███╗░░██╗██╗░░░██╗\n",
        "# \\033[0;34m████╗░████║██║  ██╔════╝░██╔════╝████╗░██║██║██╔══██╗██║░░░░░  ████╗░████║██╔════╝████╗░██║██║░░░██║\n",
        "# \\033[0;36m██╔████╔██║██║  ██║░░██╗░█████╗░░██╔██╗██║██║███████║██║░░░░░  ██╔████╔██║█████╗░░██╔██╗██║██║░░░██║\n",
        "# \\033[1;36m██║╚██╔╝██║██║  ██║░░╚██╗██╔══╝░░██║╚████║██║██╔══██║██║░░░░░  ██║╚██╔╝██║██╔══╝░░██║╚████║██║░░░██║\n",
        "# \\033[1;34m██║░╚═╝░██║██║  ╚██████╔╝███████╗██║░╚███║██║██║░░██║███████╗  ██║░╚═╝░██║███████╗██║░╚███║╚██████╔╝\n",
        "# ╚═╝░░░░░╚═╝╚═╝  ░╚═════╝░╚══════╝╚═╝░░╚══╝╚═╝╚═╝░░╚═╝╚══════╝  ╚═╝░░░░░╚═╝╚══════╝╚═╝░░╚══╝░╚═════╝░\\033[1;34m\n",
        "\n",
        "# [1] Hacer el histograma en vertical                    \n",
        "                                                                         \n",
        "# [2] Hacer el histograma en horizontal                  \n",
        "                                                                         \n",
        "# [3] Ordenar de mayor a menor                           \n",
        "                                                                         \n",
        "# [4] Ordenar de menor a mayor                     \n",
        "                                                                          \n",
        "# [5] Salir                                               \n",
        "\n",
        "# ''') \n",
        "\n",
        "# Una flasheada con ASCII\n",
        "\n",
        "# alt 186 = ║\n",
        "\n",
        "# alt 124 = |\n",
        "\n",
        "# alt 196 = ─\n",
        "          # │\n",
        "# alt 179 = │\n",
        "\n",
        "# COLORES:\n",
        "# rojo = '\\033[91m'\n",
        "# verde = '\\033[32m'\n",
        "# aviso = '\\033[93m'fin = '\\033[0m'\n",
        "\n",
        "# OK = '\\033[92m' #GREEN\n",
        "# WARNING = '\\033[93m' #YELLOW\n",
        "# FAIL = '\\033[91m' #RED\n",
        "# RESET = '\\033[0m' #RESET COLOR"
      ],
      "metadata": {
        "colab": {
          "base_uri": "https://localhost:8080/"
        },
        "id": "YR8Nx42Xl_yq",
        "outputId": "84d77a10-f9f3-4be9-a497-3159d08644ab"
      },
      "execution_count": null,
      "outputs": [
        {
          "output_type": "stream",
          "name": "stdout",
          "text": [
            "  \n",
            "\n",
            "\u001b[1;34m███╗░░░███╗██╗  ░██████╗░███████╗███╗░░██╗██╗░█████╗░██╗░░░░░  ███╗░░░███╗███████╗███╗░░██╗██╗░░░██╗\n",
            "\u001b[0;34m████╗░████║██║  ██╔════╝░██╔════╝████╗░██║██║██╔══██╗██║░░░░░  ████╗░████║██╔════╝████╗░██║██║░░░██║\n",
            "\u001b[0;36m██╔████╔██║██║  ██║░░██╗░█████╗░░██╔██╗██║██║███████║██║░░░░░  ██╔████╔██║█████╗░░██╔██╗██║██║░░░██║\n",
            "\u001b[1;36m██║╚██╔╝██║██║  ██║░░╚██╗██╔══╝░░██║╚████║██║██╔══██║██║░░░░░  ██║╚██╔╝██║██╔══╝░░██║╚████║██║░░░██║\n",
            "\u001b[1;34m██║░╚═╝░██║██║  ╚██████╔╝███████╗██║░╚███║██║██║░░██║███████╗  ██║░╚═╝░██║███████╗██║░╚███║╚██████╔╝\n",
            "╚═╝░░░░░╚═╝╚═╝  ░╚═════╝░╚══════╝╚═╝░░╚══╝╚═╝╚═╝░░╚═╝╚══════╝  ╚═╝░░░░░╚═╝╚══════╝╚═╝░░╚══╝░╚═════╝░\u001b[1;34m\n",
            "\n",
            "[1] Hacer el histograma en vertical                    \n",
            "                                                                         \n",
            "[2] Hacer el histograma en horizontal                  \n",
            "                                                                         \n",
            "[3] Ordenar de mayor a menor                           \n",
            "                                                                         \n",
            "[4] Ordenar de menor a mayor                     \n",
            "                                                                          \n",
            "[5] Salir                                               \n",
            "\n",
            "\n"
          ]
        }
      ]
    },
    {
      "cell_type": "markdown",
      "source": [
        "##**Opcion [1]**\n",
        "\n",
        "Teniendo en cuena la lista = [9,8,7,9,6,1,3,1,6,0,5,5,8,7,2]\n",
        "\n",
        "3. Debe mostrar un histograma en vertical para cada una de las celdas."
      ],
      "metadata": {
        "id": "c7FURaMljdg3"
      }
    },
    {
      "cell_type": "code",
      "source": [
        "def histograma_vertical():\n",
        "  \n",
        "  lista = [9,8,7,9,6,1,3,1,6,0,5,5,8,7,2]\n",
        "  maximum = max(lista)\n",
        "  for fila in range(1,maximum + 1):\n",
        "    for columna in lista:\n",
        "      if columna >= fila:\n",
        "        print('█',end=' ')\n",
        "      else:\n",
        "        print(' ',end=' ')\n",
        "    print(fila)\n",
        "\n",
        "histograma_vertical()"
      ],
      "metadata": {
        "id": "STvq5cbdf9ap",
        "colab": {
          "base_uri": "https://localhost:8080/"
        },
        "outputId": "804337b5-0405-460f-c7f9-fd7d77d6a02e"
      },
      "execution_count": null,
      "outputs": [
        {
          "output_type": "stream",
          "name": "stdout",
          "text": [
            "█ █ █ █ █ █ █ █ █   █ █ █ █ █ 1\n",
            "█ █ █ █ █   █   █   █ █ █ █ █ 2\n",
            "█ █ █ █ █   █   █   █ █ █ █   3\n",
            "█ █ █ █ █       █   █ █ █ █   4\n",
            "█ █ █ █ █       █   █ █ █ █   5\n",
            "█ █ █ █ █       █       █ █   6\n",
            "█ █ █ █                 █ █   7\n",
            "█ █   █                 █     8\n",
            "█     █                       9\n"
          ]
        }
      ]
    },
    {
      "cell_type": "code",
      "source": [
        "# lista = [9,8,7,9,6,1,3,1,6,0,5,5,8,7,2]\n",
        "# maximum = max(lista)\n",
        "# for fila in range(1,maximum + 1):\n",
        "#   for columna in lista:\n",
        "#     if columna >= fila:\n",
        "#       print('█',end=' ')\n",
        "#     else:\n",
        "#       print(' ',end=' ')\n",
        "#   print('')       "
      ],
      "metadata": {
        "colab": {
          "base_uri": "https://localhost:8080/"
        },
        "id": "11d-znAhfiFY",
        "outputId": "11e75011-cb8a-42b1-b17a-cfc12416e7ba"
      },
      "execution_count": null,
      "outputs": [
        {
          "output_type": "stream",
          "name": "stdout",
          "text": [
            "█ █ █ █ █ █ █ █ █   █ █ █ █ █ \n",
            "█ █ █ █ █   █   █   █ █ █ █ █ \n",
            "█ █ █ █ █   █   █   █ █ █ █   \n",
            "█ █ █ █ █       █   █ █ █ █   \n",
            "█ █ █ █ █       █   █ █ █ █   \n",
            "█ █ █ █ █       █       █ █   \n",
            "█ █ █ █                 █ █   \n",
            "█ █   █                 █     \n",
            "█     █                       \n"
          ]
        }
      ]
    },
    {
      "cell_type": "markdown",
      "source": [
        "### *Carlos codigo matriz*"
      ],
      "metadata": {
        "id": "zeW4tWM1lnMA"
      }
    },
    {
      "cell_type": "code",
      "source": [
        "# Carlos Power Point:\n",
        "\n",
        "# listaCarlos = [4, 8, 3, 1, 5] #tengo que recorrer las filas, con 4 voy a tener * en 1\n",
        "#                        # en 2, 3 y 4 y así hasta recorrerla completamente\n",
        "# maximo = max(lista)\n",
        "\n",
        "# for fila in range(1, maximo+1):\n",
        "#     for columna in listaCarlos:\n",
        "#         if columna >= fila:\n",
        "#           print(\"*\",end=\" \")    #poner asterisco\n",
        "#         else:\n",
        "#           print(\" \",end=\" \")    #poner nada\n",
        "#     print(\"\")"
      ],
      "metadata": {
        "colab": {
          "base_uri": "https://localhost:8080/"
        },
        "id": "jB95S_O6lYnB",
        "outputId": "a1b579cb-4fde-47d7-befb-369c3ebbde32"
      },
      "execution_count": null,
      "outputs": [
        {
          "output_type": "stream",
          "name": "stdout",
          "text": [
            "* * * * * \n",
            "* * *   * \n",
            "* * *   * \n",
            "* *     * \n",
            "  *     * \n",
            "  *       \n",
            "  *       \n",
            "  *       \n"
          ]
        }
      ]
    },
    {
      "cell_type": "markdown",
      "source": [
        "##**Opcion [2]**\n",
        "\n",
        "4. Debe mostrar un histograma en horizontal."
      ],
      "metadata": {
        "id": "KPVnlMs8cQ-O"
      }
    },
    {
      "cell_type": "code",
      "source": [
        "# La mas simple:\n",
        "\n",
        "def histograma_horizontal():\n",
        "  \n",
        "  lista = [9,8,7,9,6,1,3,1,6,0,5,5,8,7,2]\n",
        "  for a in lista:\n",
        "    print(a * '▄')\n",
        "\n",
        "histograma_horizontal()"
      ],
      "metadata": {
        "id": "XuY6yMA7sK3-",
        "colab": {
          "base_uri": "https://localhost:8080/"
        },
        "outputId": "0e34c5e7-25b0-4e31-a5fb-eeeaae123868"
      },
      "execution_count": null,
      "outputs": [
        {
          "output_type": "stream",
          "name": "stdout",
          "text": [
            "▄▄▄▄▄▄▄▄▄\n",
            "▄▄▄▄▄▄▄▄\n",
            "▄▄▄▄▄▄▄\n",
            "▄▄▄▄▄▄▄▄▄\n",
            "▄▄▄▄▄▄\n",
            "▄\n",
            "▄▄▄\n",
            "▄\n",
            "▄▄▄▄▄▄\n",
            "\n",
            "▄▄▄▄▄\n",
            "▄▄▄▄▄\n",
            "▄▄▄▄▄▄▄▄\n",
            "▄▄▄▄▄▄▄\n",
            "▄▄\n"
          ]
        }
      ]
    },
    {
      "cell_type": "code",
      "source": [
        "# funcion youtube:\n",
        "\n",
        "# def histograma_horizontal(lista, caracter):\n",
        "#   for a in lista:\n",
        "#     print(a * caracter)\n",
        "\n",
        "# histograma_horizontal([3,4,5,6,7,8],'▄')"
      ],
      "metadata": {
        "colab": {
          "base_uri": "https://localhost:8080/"
        },
        "id": "coVpkEaTxKE-",
        "outputId": "baa5c60b-42a3-4d7d-d728-1d99e2cc6a8a"
      },
      "execution_count": null,
      "outputs": [
        {
          "output_type": "stream",
          "name": "stdout",
          "text": [
            "▄▄▄\n",
            "▄▄▄▄\n",
            "▄▄▄▄▄\n",
            "▄▄▄▄▄▄\n",
            "▄▄▄▄▄▄▄\n",
            "▄▄▄▄▄▄▄▄\n"
          ]
        }
      ]
    },
    {
      "cell_type": "markdown",
      "source": [
        "### *Otras opciones [2]*"
      ],
      "metadata": {
        "id": "D11CZqXujhMg"
      }
    },
    {
      "cell_type": "code",
      "source": [
        "# # Otra forma de resolverlo:\n",
        "# lista2 = [9,8,7,9,6,1,3,1,6,0,5,5,8,7,2]\n",
        "# c = 0\n",
        "# for i in lista2:\n",
        "#   if range(lista2[c]) == range(lista2[c]):\n",
        "#     print(lista2[c] * '*')\n",
        "#     c += 1"
      ],
      "metadata": {
        "colab": {
          "base_uri": "https://localhost:8080/"
        },
        "id": "-kwYWis_j3NG",
        "outputId": "654639e7-cf21-4bf0-a2ff-5df576312895"
      },
      "execution_count": null,
      "outputs": [
        {
          "output_type": "stream",
          "name": "stdout",
          "text": [
            "*********\n",
            "********\n",
            "*******\n",
            "*********\n",
            "******\n",
            "*\n",
            "***\n",
            "*\n",
            "******\n",
            "\n",
            "*****\n",
            "*****\n",
            "********\n",
            "*******\n",
            "**\n"
          ]
        }
      ]
    },
    {
      "cell_type": "code",
      "source": [
        "# # Otra mas:\n",
        "\n",
        "# lista3 = [9,8,7,9,6,1,3,1,6,0,5,5,8,7,2]\n",
        "# a = 0\n",
        "# for i in lista3:\n",
        "#   b = lista3[a]\n",
        "#   histograma = b * '*'\n",
        "#   print(histograma)\n",
        "#   a += 1"
      ],
      "metadata": {
        "colab": {
          "base_uri": "https://localhost:8080/"
        },
        "id": "zg3rGLIScaMl",
        "outputId": "cdb1d92c-80bd-43d9-ecf7-ced602451c79"
      },
      "execution_count": null,
      "outputs": [
        {
          "output_type": "stream",
          "name": "stdout",
          "text": [
            "*********\n",
            "********\n",
            "*******\n",
            "*********\n",
            "******\n",
            "*\n",
            "***\n",
            "*\n",
            "******\n",
            "\n",
            "*****\n",
            "*****\n",
            "********\n",
            "*******\n",
            "**\n"
          ]
        }
      ]
    },
    {
      "cell_type": "markdown",
      "source": [
        "## **Opcion [3]**\n",
        "\n",
        "5. Debe ordenar la lista de mayor a menor."
      ],
      "metadata": {
        "id": "LhlBzk4gmWVh"
      }
    },
    {
      "cell_type": "code",
      "source": [
        "def opcion_3():\n",
        "  lista = [9,8,7,9,6,1,3,1,6,0,5,5,8,7,2]\n",
        "  lista.sort()\n",
        "  lista.reverse()\n",
        "  lista_mayor = []\n",
        "  for datos in lista:\n",
        "    lista_mayor.append(datos)\n",
        "  print(f''' \n",
        " ╔═══════════════════════════════════════════════╗\n",
        " ║ {lista_mayor} ║ \n",
        " ╚═══════════════════════════════════════════════╝\n",
        "  ''')\n",
        "  \n",
        "opcion_3()  "
      ],
      "metadata": {
        "colab": {
          "base_uri": "https://localhost:8080/"
        },
        "id": "Kp-oYT-VMHth",
        "outputId": "96c2cc82-9264-4dc0-fedc-2e4d114470ba"
      },
      "execution_count": null,
      "outputs": [
        {
          "output_type": "stream",
          "name": "stdout",
          "text": [
            " \n",
            " ╔═══════════════════════════════════════════════╗\n",
            " ║ [9, 9, 8, 8, 7, 7, 6, 6, 5, 5, 3, 2, 1, 1, 0] ║ \n",
            " ╚═══════════════════════════════════════════════╝\n",
            "  \n"
          ]
        }
      ]
    },
    {
      "cell_type": "markdown",
      "source": [
        "## **Opcion [4]**\n",
        "5. Ordenar la lista de menor a mayor."
      ],
      "metadata": {
        "id": "N6ZllfbvU0n5"
      }
    },
    {
      "cell_type": "code",
      "source": [
        "def opcion_4():  \n",
        "  lista = [9,8,7,9,6,1,3,1,6,0,5,5,8,7,2]\n",
        "  lista.sort()\n",
        "  lista_menor = []\n",
        "  for datos in lista:\n",
        "    lista_menor.append(datos)\n",
        "  print(f''' \n",
        " ╔═══════════════════════════════════════════════╗\n",
        " ║ {lista_menor} ║ \n",
        " ╚═══════════════════════════════════════════════╝\n",
        "  ''')\n",
        "  \n",
        "opcion_4()"
      ],
      "metadata": {
        "colab": {
          "base_uri": "https://localhost:8080/"
        },
        "id": "FasylDwOmc5Y",
        "outputId": "f8dc3507-baa1-4fcb-9193-dae77cc6598e"
      },
      "execution_count": null,
      "outputs": [
        {
          "output_type": "stream",
          "name": "stdout",
          "text": [
            " \n",
            " ╔═══════════════════════════════════════════════╗\n",
            " ║ [0, 1, 1, 2, 3, 5, 5, 6, 6, 7, 7, 8, 8, 9, 9] ║ \n",
            " ╚═══════════════════════════════════════════════╝\n",
            "  \n"
          ]
        }
      ]
    },
    {
      "cell_type": "markdown",
      "source": [
        "## **Opcion [5]**\n",
        "6. Esta opcion debe finalizar el programa."
      ],
      "metadata": {
        "id": "JtZ-PwztVAV5"
      }
    },
    {
      "cell_type": "code",
      "source": [
        "# opcion 2\n",
        "def opcion_5():\n",
        "  print('''\n",
        "  ________    _         _         __  __                           __\n",
        " /_  __/ /_  (_)____   (_)____   / /_/ /_  ___     ___  ____  ____/ /\n",
        "  / / / __ \\/ / ___/  / / ___/  / __/ __ \\/ _ \\   / _ \\/ __ \\/ __  / \n",
        " \\033[97m/ / / / / / (__  )  / (__  )  / /_/ / / /  __/  /  __/ / / / /_/ /_ \n",
        "/_/ /_/ /_/_/____/  /_/____/   \\__/_/ /_/\\___/   \\___/_/ /_/\\__,_/(_)\\033[92m\n",
        "=========================================> Ha finalizado el programa.\n",
        "  ''')\n",
        "  while True:\n",
        "    break\n",
        "\n",
        "opcion_5()   "
      ],
      "metadata": {
        "colab": {
          "base_uri": "https://localhost:8080/"
        },
        "id": "mxHzttTzovlS",
        "outputId": "4eac7aee-9f0d-4cf6-a26a-22df18d7a4ea"
      },
      "execution_count": null,
      "outputs": [
        {
          "output_type": "stream",
          "name": "stdout",
          "text": [
            "\n",
            "  ________    _         _         __  __                           __\n",
            " /_  __/ /_  (_)____   (_)____   / /_/ /_  ___     ___  ____  ____/ /\n",
            "  / / / __ \\/ / ___/  / / ___/  / __/ __ \\/ _ \\   / _ \\/ __ \\/ __  / \n",
            " \u001b[97m/ / / / / / (__  )  / (__  )  / /_/ / / /  __/  /  __/ / / / /_/ /_ \n",
            "/_/ /_/ /_/_/____/  /_/____/   \\__/_/ /_/\\___/   \\___/_/ /_/\\__,_/(_)\u001b[92m\n",
            "=========================================> Ha finalizado el programa.\n",
            "  \n"
          ]
        }
      ]
    },
    {
      "cell_type": "markdown",
      "source": [
        "## ***Programa_Completo***\n",
        "7. Hacer una funcion para cada una de las opciones."
      ],
      "metadata": {
        "id": "NAagEKT3beBZ"
      }
    },
    {
      "cell_type": "code",
      "source": [
        "# Funcion del menu: menu() \n",
        "\n",
        "def menu():\n",
        "  print('''\\033[92m\n",
        " ─────────────────────────────────────────────────────────────────────────\n",
        "|╔═════════════════════════════════════════════════════════════════════════╗\n",
        "│║=========================================================================║\n",
        "│║=========================================================================║\n",
        "│║==========\\033[99m█▀▄▀█ █   █▀▀ █▀▀ █▄░█ █ ▄▀█ █░░   █▀▄▀█ █▀▀ █▄░█ █░█\\033[0m\\033[92m==========║\n",
        "│║==========\\033[97m█░▀░█ █   █▄█ ██▄ █░▀█ █ █▀█ █▄▄   █░▀░█ ██▄ █░▀█ █▄█\\033[\\033[92m==========║\n",
        "│║=========================================================================║\n",
        "│║=========================================================================║\n",
        "│║                  \\033[92m[1] Hacer el histograma en vertical                    ║ \n",
        "│║                                                                         ║ \n",
        "│║                  [2] Hacer el histograma en horizontal                  ║\n",
        "│║                                                                         ║\n",
        "│║                  [3] Ordenar de mayor a menor                           ║\n",
        "│║                                                                         ║\n",
        "│║                  [4] Ordenar de menor a mayor                           ║\n",
        "│║                                                                         ║ \n",
        "│║                  [5] Salir \\033[0m\\033[92m                                             ║ \n",
        "│║=========================================================================║\n",
        "│║===============================> Ingrese número para seleccionar opción: ║\n",
        " ╚═════════════════════════════════════════════════════════════════════════╝\n",
        "''')\n",
        "  \n",
        "# 2 Mensaje de error:\n",
        "\n",
        "  a = ['1','2','3','4','5']\n",
        "  opcion = input('                                    =====> ')\n",
        "  while opcion not in a:\n",
        "    print('Opción incorrecta.')\n",
        "    menu()\n",
        "    break\n",
        "\n",
        "print('''\\033[92m\n",
        " ─────────────────────────────────────────────────────────────────────────\n",
        "|╔═════════════════════════════════════════════════════════════════════════╗\n",
        "│║=========================================================================║\n",
        "│║=========================================================================║\n",
        "│║==========\\033[99m█▀▄▀█ █   █▀▀ █▀▀ █▄░█ █ ▄▀█ █░░   █▀▄▀█ █▀▀ █▄░█ █░█\\033[0m\\033[92m==========║\n",
        "│║==========\\033[97m█░▀░█ █   █▄█ ██▄ █░▀█ █ █▀█ █▄▄   █░▀░█ ██▄ █░▀█ █▄█\\033[\\033[92m==========║\n",
        "│║=========================================================================║\n",
        "│║=========================================================================║\n",
        "│║                  \\033[92m[1] Hacer el histograma en vertical                    ║ \n",
        "│║                                                                         ║ \n",
        "│║                  [2] Hacer el histograma en horizontal                  ║\n",
        "│║                                                                         ║\n",
        "│║                  [3] Ordenar de mayor a menor                           ║\n",
        "│║                                                                         ║\n",
        "│║                  [4] Ordenar de menor a mayor                           ║\n",
        "│║                                                                         ║ \n",
        "│║                  [5] Salir \\033[0m\\033[92m                                             ║ \n",
        "│║=========================================================================║\n",
        "│║===============================> Ingrese número para seleccionar opción: ║\n",
        " ╚═════════════════════════════════════════════════════════════════════════╝\n",
        "''')\n",
        "\n",
        "a = ['1','2','3','4','5']\n",
        "opcion = input('                                    =====> ')\n",
        "while opcion not in a:\n",
        "  print('Opción incorrecta.')\n",
        "  menu()\n",
        "  break\n",
        "\n",
        "# Funcion de las opciones:\n",
        "if opcion == '1':\n",
        "  histograma_vertical()\n",
        "elif opcion == '2':  \n",
        "  histograma_horizontal()\n",
        "elif opcion == '3':\n",
        "  opcion_3()\n",
        "elif opcion == '4':\n",
        "  opcion_4()\n",
        "elif opcion == '5':\n",
        "  opcion_5()"
      ],
      "metadata": {
        "colab": {
          "base_uri": "https://localhost:8080/"
        },
        "id": "aviY_7KVbmDr",
        "outputId": "1d7d2fc0-bd57-4875-f9ef-0909e3281e1a"
      },
      "execution_count": null,
      "outputs": [
        {
          "output_type": "stream",
          "name": "stdout",
          "text": [
            "\u001b[92m\n",
            " ─────────────────────────────────────────────────────────────────────────\n",
            "|╔═════════════════════════════════════════════════════════════════════════╗\n",
            "│║=========================================================================║\n",
            "│║=========================================================================║\n",
            "│║==========\u001b[99m█▀▄▀█ █   █▀▀ █▀▀ █▄░█ █ ▄▀█ █░░   █▀▄▀█ █▀▀ █▄░█ █░█\u001b[0m\u001b[92m==========║\n",
            "│║==========\u001b[97m█░▀░█ █   █▄█ ██▄ █░▀█ █ █▀█ █▄▄   █░▀░█ ██▄ █░▀█ █▄█\u001b[\u001b[92m==========║\n",
            "│║=========================================================================║\n",
            "│║=========================================================================║\n",
            "│║                  \u001b[92m[1] Hacer el histograma en vertical                    ║ \n",
            "│║                                                                         ║ \n",
            "│║                  [2] Hacer el histograma en horizontal                  ║\n",
            "│║                                                                         ║\n",
            "│║                  [3] Ordenar de mayor a menor                           ║\n",
            "│║                                                                         ║\n",
            "│║                  [4] Ordenar de menor a mayor                           ║\n",
            "│║                                                                         ║ \n",
            "│║                  [5] Salir \u001b[0m\u001b[92m                                             ║ \n",
            "│║=========================================================================║\n",
            "│║===============================> Ingrese número para seleccionar opción: ║\n",
            " ╚═════════════════════════════════════════════════════════════════════════╝\n",
            "\n",
            "                                    =====> 5\n",
            "\n",
            "  ________    _         _         __  __                           __\n",
            " /_  __/ /_  (_)____   (_)____   / /_/ /_  ___     ___  ____  ____/ /\n",
            "  / / / __ \\/ / ___/  / / ___/  / __/ __ \\/ _ \\   / _ \\/ __ \\/ __  / \n",
            " \u001b[97m/ / / / / / (__  )  / (__  )  / /_/ / / /  __/  /  __/ / / / /_/ /_ \n",
            "/_/ /_/ /_/_/____/  /_/____/   \\__/_/ /_/\\___/   \\___/_/ /_/\\__,_/(_)\u001b[92m\n",
            "=========================================> Ha finalizado el programa.\n",
            "  \n"
          ]
        }
      ]
    },
    {
      "cell_type": "markdown",
      "source": [
        "# ***Ejercicio 2***"
      ],
      "metadata": {
        "id": "-C3IjHM2Xt9y"
      }
    },
    {
      "cell_type": "code",
      "source": [
        "def ingresaAlista(lista_nombres,nombre):\n",
        "    nombre_cap = nombre.capitalize()\n",
        "    lista_nombres.append(nombre_cap)\n",
        "    lista_nombres.sort(reverse=False)\n",
        "    print(lista_nombres)\n",
        "ingresaAlista(['Z','Eduardo quiroz','A', 'Isabel pintos', 'Juan munuce'],'pedro Ramirez')"
      ],
      "metadata": {
        "id": "Qn9Omt0AXyax",
        "colab": {
          "base_uri": "https://localhost:8080/"
        },
        "outputId": "f136f519-48bc-40d8-81fc-132b28fcc6a9"
      },
      "execution_count": null,
      "outputs": [
        {
          "output_type": "stream",
          "name": "stdout",
          "text": [
            "['A', 'Eduardo quiroz', 'Isabel pintos', 'Juan munuce', 'Pedro ramirez', 'Z']\n"
          ]
        }
      ]
    },
    {
      "cell_type": "code",
      "source": [
        "# lista_nombres = ([input('Ingrese nombres: ')])\n",
        "lista_nombres = []\n",
        "while True:\n",
        "  a = input().capitalize()\n",
        "  lista_nombres.append(a)\n",
        "  if a == '':\n",
        "    break\n",
        "print(lista_nombres)"
      ],
      "metadata": {
        "colab": {
          "base_uri": "https://localhost:8080/"
        },
        "id": "nzPO8lQSvUJr",
        "outputId": "ebf2c5b6-a46c-4183-c0a6-15baad8c5e3a"
      },
      "execution_count": null,
      "outputs": [
        {
          "output_type": "stream",
          "name": "stdout",
          "text": [
            "nicolas medina\n",
            "isabel pintos\n",
            "ricardo rasmusen\n",
            "juan roccia\n",
            "juan munuce\n",
            "eduardo quiroz\n",
            "tomas ribes\n",
            "mikael rodriguez\n",
            "\n",
            "['Nicolas medina', 'Isabel pintos', 'Ricardo rasmusen', 'Juan roccia', 'Juan munuce', 'Eduardo quiroz', 'Tomas ribes', 'Mikael rodriguez', '']\n"
          ]
        }
      ]
    },
    {
      "cell_type": "code",
      "source": [
        "lista_nombres.sort(reverse=False)\n",
        "print(lista_nombres)"
      ],
      "metadata": {
        "colab": {
          "base_uri": "https://localhost:8080/"
        },
        "id": "uklhk_yLLuLY",
        "outputId": "e1605b57-95b8-409d-8d6f-4bf3b6f38077"
      },
      "execution_count": null,
      "outputs": [
        {
          "output_type": "stream",
          "name": "stdout",
          "text": [
            "['', 'Eduardo quiroz', 'Isabel pintos', 'Juan munuce', 'Juan roccia', 'Mikael rodriguez', 'Nicolas medina', 'Ricardo rasmusen', 'Tomas ribes']\n"
          ]
        }
      ]
    },
    {
      "cell_type": "code",
      "source": [
        "# Como matar un ciclo while True con la tecla enter\n",
        "\n",
        "a=input()\n",
        "while True:\n",
        "    print(a)\n",
        "    if a=='':\n",
        "        break\n",
        "    a=input()"
      ],
      "metadata": {
        "id": "ZMNRotjXKGhY"
      },
      "execution_count": null,
      "outputs": []
    },
    {
      "cell_type": "code",
      "source": [
        "# Como matar un ciclo while True con la tecla enter\n",
        "\n",
        "while True:\n",
        "        if input() == '\\n':\n",
        "            break"
      ],
      "metadata": {
        "id": "uNjsslE_KHMn"
      },
      "execution_count": null,
      "outputs": []
    },
    {
      "cell_type": "code",
      "source": [
        "# En este ejemplo, reverse=True ordenará la lista en orden alfabético inverso.\n",
        "\n",
        "nombres = [\"Jessica\", \"Ben\", \"Carl\", \"Jackie\", \"Wendy\"]\n",
        "\n",
        "print(\"Desordenado: \", nombres)\n",
        "nombres.sort(reverse=True)\n",
        "print(\"Ordenado: \", nombres)"
      ],
      "metadata": {
        "id": "Ydu3rKeKMLuo"
      },
      "execution_count": null,
      "outputs": []
    },
    {
      "cell_type": "markdown",
      "source": [
        "# ***Ejercicio 3***"
      ],
      "metadata": {
        "id": "yu7DnsJq0mOB"
      }
    },
    {
      "cell_type": "markdown",
      "source": [
        "### Colores (nada que ver)"
      ],
      "metadata": {
        "id": "vE5VLZbAH8fI"
      }
    },
    {
      "cell_type": "code",
      "source": [
        "class color:\n",
        "   PURPLE = '\\033[95m'\n",
        "   CYAN = '\\033[96m'\n",
        "   DARKCYAN = '\\033[36m'\n",
        "   BLUE = '\\033[94m'\n",
        "   GREEN = '\\033[92m'\n",
        "   YELLOW = '\\033[93m'\n",
        "   RED = '\\033[91m'\n",
        "   BOLD = '\\033[1m'\n",
        "   UNDERLINE = '\\033[4m'\n",
        "   END = '\\033[0m'\n",
        "\n",
        "print(f'{color.BOLD} Hello World !')"
      ],
      "metadata": {
        "colab": {
          "base_uri": "https://localhost:8080/"
        },
        "id": "KsOGs5znC1k5",
        "outputId": "0fca40d8-543f-4f14-9c92-17b74df399dd"
      },
      "execution_count": null,
      "outputs": [
        {
          "output_type": "stream",
          "name": "stdout",
          "text": [
            "\u001b[1m Hello World !\n"
          ]
        }
      ]
    },
    {
      "cell_type": "markdown",
      "source": [
        "## ***Funcion***\n",
        "\n",
        "Programa para seleccionar una medicion a partir de un lista y mostrar la celda del dato numerico seleccionado. Repetir esta accion hasta que el Usuario decida salir con la letra \"q\"."
      ],
      "metadata": {
        "id": "OgyXI8XZIELP"
      }
    },
    {
      "cell_type": "code",
      "source": [
        "# Funcion:\n",
        "\n",
        "mediciones = [['dato1',12], ['dato2',73], ['dato3',9], ['dato4',88], ['dato5',12], ['dato6',79], ['dato7',13],\n",
        "              ['dato8',96], ['dato9',16], ['dato10',83]]\n",
        "\n",
        "opciones = ['0','1','2','3','4','5','6','7','8','9']\n",
        "\n",
        "print(f'''\n",
        "{color.BOLD}Para acceder a los datos del sistema:{color.END}\n",
        "Ingrese un numero del 1 al 10 y se mostrara la medicion seleccionada.\n",
        "Para finalizar ingrese \"q\"\n",
        "      ''')\n",
        "\n",
        "def celdaDato(eleccion):\n",
        "  while True:\n",
        "    a = 0\n",
        "    for i in opciones:\n",
        "      b = mediciones[a]\n",
        "      a += 1\n",
        "      a_str = str(a)\n",
        "      if eleccion == a_str:\n",
        "          return(b)\n",
        "\n",
        "    if eleccion == 'q':\n",
        "      break\n",
        "\n",
        "while True:\n",
        "  eleccion = str(input('Opciones: '))\n",
        "  if eleccion == 'q':\n",
        "    print('Analisis de datos finalizado.')\n",
        "    break\n",
        "  else:\n",
        "    print(f'Medicion seleccionada: {celdaDato(eleccion)} ')"
      ],
      "metadata": {
        "id": "lyf0UYFQ0qbg",
        "colab": {
          "base_uri": "https://localhost:8080/"
        },
        "outputId": "641a8f81-6149-4ffb-bc93-8bab00192b48"
      },
      "execution_count": null,
      "outputs": [
        {
          "output_type": "stream",
          "name": "stdout",
          "text": [
            "\n",
            "\u001b[1mPara acceder a los datos del sistema:\u001b[0m\n",
            "Ingrese un numero del 1 al 10 y se mostrara la medicion seleccionada.\n",
            "Para finalizar ingrese \"q\"\n",
            "      \n",
            "Opciones: 1\n",
            "Medicion seleccionada: ['dato1', 12] \n",
            "Opciones: 2\n",
            "Medicion seleccionada: ['dato2', 73] \n",
            "Opciones: 10\n",
            "Medicion seleccionada: ['dato10', 83] \n",
            "Opciones: q\n",
            "Analisis de datos finalizado.\n"
          ]
        }
      ]
    },
    {
      "cell_type": "code",
      "source": [
        "# Metodo con strings:\n",
        "\n",
        "mediciones = [['dato1',12], ['dato2',73], ['dato3',9], ['dato4',88], ['dato5',12], ['dato6',79], ['dato7',13],\n",
        "              ['dato8',96], ['dato9',16], ['dato10',83]]\n",
        "\n",
        "opciones = ['0','1','2','3','4','5','6','7','8','9']              \n",
        "print(f'''\n",
        "{color.BOLD}Para acceder a los datos del sistema:{color.END}\n",
        "Ingrese un numero del 1 al 10 y se mostrara la medicion seleccionada.\n",
        "Para finalizar ingrese \"q\"\n",
        "      ''')\n",
        "\n",
        "while True:\n",
        "  eleccion = str(input('Opciones: '))\n",
        "  a = 0\n",
        "  for i in opciones:\n",
        "    b = mediciones[a]\n",
        "    a += 1\n",
        "    a_str = str(a)\n",
        "    if eleccion == a_str:\n",
        "        print(f'Medicion seleccionada: {b}')\n",
        "\n",
        "  if eleccion == 'q':\n",
        "    print('Analisis de datos finalizado.')\n",
        "    break\n",
        "    "
      ],
      "metadata": {
        "colab": {
          "base_uri": "https://localhost:8080/"
        },
        "id": "YJgJl99MwjHA",
        "outputId": "2f84aee3-cb04-45a1-f054-003a3bd88f19"
      },
      "execution_count": null,
      "outputs": [
        {
          "output_type": "stream",
          "name": "stdout",
          "text": [
            "\n",
            "\u001b[1mPara acceder a los datos del sistema:\u001b[0m\n",
            "Ingrese un numero del 1 al 10 y se mostrara la medicion seleccionada.\n",
            "Para finalizar ingrese \"q\"\n",
            "      \n",
            "Opciones: 1\n",
            "Medicion seleccionada: ['dato1', 12]\n",
            "Opciones: 10\n",
            "Medicion seleccionada: ['dato10', 83]\n",
            "Opciones: q\n",
            "Analisis de datos finalizado.\n"
          ]
        }
      ]
    },
    {
      "cell_type": "code",
      "source": [
        "# Metodo combinado con str e int:\n",
        "\n",
        "mediciones = [['dato1',12], ['dato2',73], ['dato3',9], ['dato4',88], ['dato5',12], ['dato6',79], ['dato7',13],\n",
        "              ['dato8',96], ['dato9',16], ['dato10',83]]\n",
        "\n",
        "while True:\n",
        "  eleccion = int(input('numero del 1 al 10: '))\n",
        "  a = 0\n",
        "  for i in range(0,10):\n",
        "    eleccion_int = int(eleccion)\n",
        "    b = mediciones[a]\n",
        "    a += 1\n",
        "    if eleccion_int == a:\n",
        "      print(b)\n",
        "\n",
        "  finalizar = str(input('Ingrese \"q\" para finalizar: '))\n",
        "  if finalizar == 'q':\n",
        "    print('Analisis de datos finalizado.3')\n",
        "    break"
      ],
      "metadata": {
        "colab": {
          "base_uri": "https://localhost:8080/"
        },
        "id": "fpupJeeMsSvS",
        "outputId": "0d1672e6-7685-4609-e655-3fe8cd0afc81"
      },
      "execution_count": null,
      "outputs": [
        {
          "output_type": "stream",
          "name": "stdout",
          "text": [
            "numero del 1 al 10: 1\n",
            "['dato1', 12]\n",
            "Ingrese \"q\" para finalizar: \n",
            "numero del 1 al 10: 2\n",
            "['dato2', 73]\n",
            "Ingrese \"q\" para finalizar: \n",
            "numero del 1 al 10: 3\n",
            "['dato3', 9]\n",
            "Ingrese \"q\" para finalizar: q\n",
            "Analisis de datos finalizado.\n"
          ]
        }
      ]
    },
    {
      "cell_type": "markdown",
      "source": [
        "# ***Ejercicio 4***"
      ],
      "metadata": {
        "id": "_ZJKMjPvvvR4"
      }
    },
    {
      "cell_type": "markdown",
      "source": [
        "Corregir el código a continuacion, ahora, ahi va:"
      ],
      "metadata": {
        "id": "6FVeNLUtwj4q"
      }
    },
    {
      "cell_type": "code",
      "source": [
        "# En su lugar muestra 5, que hay que corregir? \n",
        "# Se espera que muestre el número 2 en panalla.\n",
        "#   x = 5    y = 1\n",
        "\n",
        "def maximo(a,b):\n",
        "  if x > y:\n",
        "    return x\n",
        "  else:\n",
        "    return y\n",
        "\n",
        "def minimo(a,b):\n",
        "  if x < y:\n",
        "    return x\n",
        "  else:\n",
        "    return y    \n",
        "\n",
        "# Programa principal\n",
        "x=int(input('Un número: '))\n",
        "y=int(input('Otro número: '))\n",
        "print(maximo(x-3, minimo(x-2, y-5)))"
      ],
      "metadata": {
        "colab": {
          "base_uri": "https://localhost:8080/"
        },
        "id": "-pHlZ7_avzNI",
        "outputId": "510d2523-41fc-41b7-e889-ed7dc0cb75bb"
      },
      "execution_count": null,
      "outputs": [
        {
          "output_type": "stream",
          "name": "stdout",
          "text": [
            "Un número: 5\n",
            "Otro número: 1\n",
            "5\n"
          ]
        }
      ]
    },
    {
      "cell_type": "code",
      "source": [
        "# Yo lo resolvi restando '3' a la 'x' de la funcion 'maximo'\n",
        "\n",
        "# Pero no entiendo por que en vez de retornar '2' y '1' (que seria el valor de 'y' en la funcion minimo).\n",
        "#  retorna solo '2' (o sea solo la funcion maximo)\n",
        "\n",
        "# Es porque printea la primer funcion, bajo crietrio de anda a saber quee\n",
        "\n",
        "def maximo(a,b):\n",
        "  if x > y:\n",
        "    return x -3\n",
        "  else:\n",
        "    return y\n",
        "\n",
        "def minimo(a,b):\n",
        "  if x < y:\n",
        "    return x\n",
        "  else:\n",
        "    return y\n",
        "\n",
        "# Programa principal\n",
        "x=int(input('Un número: '))\n",
        "y=int(input('Otro número: '))\n",
        "print(maximo(x-3, minimo(x-2, y-5)))"
      ],
      "metadata": {
        "colab": {
          "base_uri": "https://localhost:8080/"
        },
        "id": "iOBGFv0Z_V6B",
        "outputId": "c3ef883a-d337-4a61-d38a-fbcec3a07dd3"
      },
      "execution_count": null,
      "outputs": [
        {
          "output_type": "stream",
          "name": "stdout",
          "text": [
            "Un número: 5\n",
            "Otro número: 1\n",
            "2\n"
          ]
        }
      ]
    },
    {
      "cell_type": "code",
      "source": [
        "# si en el print, primero le pido 'minimo' printea el valor de 'y' de la misma.\n",
        "\n",
        "def maximo(a,b):\n",
        "  x = 5 -3\n",
        "  y = 1\n",
        "  return x\n",
        "\n",
        "def minimo(a,b): \n",
        "  x = 5\n",
        "  y = 1\n",
        "  return y\n",
        "  \n",
        "print(minimo(x-3,maximo(x-2, y-5))) "
      ],
      "metadata": {
        "colab": {
          "base_uri": "https://localhost:8080/"
        },
        "id": "XV4vXyzLCLAZ",
        "outputId": "4d527491-d1df-49db-ce01-0d559500d9f8"
      },
      "execution_count": null,
      "outputs": [
        {
          "output_type": "stream",
          "name": "stdout",
          "text": [
            "1\n"
          ]
        }
      ]
    },
    {
      "cell_type": "code",
      "source": [
        "# y sino:\n",
        "\n",
        "print(maximo(x-3,minimo(x-2, y-5))) "
      ],
      "metadata": {
        "colab": {
          "base_uri": "https://localhost:8080/"
        },
        "id": "uu7W5PzDFh38",
        "outputId": "ba0bcb9d-905b-45ee-e29f-bbaeefaee28e"
      },
      "execution_count": null,
      "outputs": [
        {
          "output_type": "stream",
          "name": "stdout",
          "text": [
            "2\n"
          ]
        }
      ]
    },
    {
      "cell_type": "markdown",
      "source": [
        "# ***Ejercicio 5***"
      ],
      "metadata": {
        "id": "qQOHXjncFrLt"
      }
    },
    {
      "cell_type": "markdown",
      "source": [
        "En un curso de la primaria hay 10 alumnos, un día realizaron un examen, el profesor para registrar las calificaciones de cada alumno, lo hace de la siguiente manera, **alumno=[\"nombreDelAlumno\", nota]**, donde \"alumno\" es una lista donde, la primera celda está el nombre del alumno y en la segundo celda esta la nota, cada alumno está dentro otra lista llamada \"clase\", que es de la siguiente manera **clase=[alumno1, alumno2, alumno3...]**, así hasta completar 10 alumnos, generar un algoritmo donde puedan definir una lista \"clase\" que tenga los nombres y notas de 10 alumnos, la nota van a ir de 0 al 10, además deben hacer lo siguiente:\n",
        "\n",
        "\n",
        "*   Hacer una función que ordene la lista clase por la nota, de mayor a menor.\n",
        "*   Hacer una función que cambie la forma de calificar de la siguiente manera:\n",
        "aquellos que tienen una nota de 7 o más debe aparecer como \"Aprobado\" y \"Desaprobado\" en caso contrario.\n",
        "\n",
        "**Datazo**: aquí hay algo interesante, no hay una única forma de resolver este ejercicio, investiguen **como ordenar** una lista que contiene listas en cada una de sus celdas, para ello les recomiendo usar la función sorted(), vean el siguiente link: https://www.geeksforgeeks.org/sorted-function-python/\n",
        "\n",
        "**Datazo 2**: sorted \"tiene tres parámetros\" el primer parámetro es una lista, tupla o una cadena, lo llamaremos iterable, ya que dentro de la función sorted va  recorrer la lista que se pase, celda por celda, luego el segundo parámetro se llama key, sirve como referencia de comparación para su ordenamiento, es decir, sorted va a recorrer la lista internamente y va a mirar cada celda con key para ir ordenando la lista con respecto a ese \"algo\", por ejemplo: si tienen una lista general con una lista en cada una de ellas, como la que se muestra a continuación:\n",
        "lista = [[1,3,1],[4],[1,9]]\n",
        "¿que tenemos aquí?, tenemos una lista de listas, lista[0] tiene la lista [1,3,1], la lista[1] tiene una lista con un solo valor que es [4], la lista[2] tiene una lista[1,9], ahora, supongan que quiero ordenar la lista general por la longitud de cada una de las listas internas, para ello uso sorted()\n",
        "**listaOrdenada=sorted(lista, key=len)**\n",
        "\n",
        "vean dos cosas, a sorted le paso la lista que quiero ordenar, que en mi caso se llama \"lista\", luego le digo ordename la lista usando una funcion que se llame \"len\", vean que solo necesita el nombre de la funcion, ya que automáticamente sorted va a recorrer cada una de las celdas de la lista general y va a aplicarle a cada celda la funcion \"len\" y en base a eso va a ordenar la lista. Y como sorted retorna una lista ordenada, creo una variable que guarde el resultado.\n",
        "\n",
        "Finalmente sorted tiene un tercer parámetro que se llama \"reverse\" que es de tipo booleano, que si es False, ordena de menor a mayor y si es True ordena de mayor a menor.\n",
        "listaOrdenada=sorted(lista, key=len, reverse=True)\n"
      ],
      "metadata": {
        "id": "s95IqnpTeCQD"
      }
    },
    {
      "cell_type": "code",
      "source": [
        "# Generar un algoritmo donde puedan definir una lista \"clase\" que tenga los nombres y notas de 10 alumnos.\n",
        "# alumno = [nombre, nota] nota va de 0 a 10\n",
        "alumno1  = ['Pepe', 0] \n",
        "alumno2  = ['Juan', 10]\n",
        "alumno3  = ['Carlos', 2]\n",
        "alumno4  = ['Pedro', 8]\n",
        "alumno5  = ['Esteban', 4]\n",
        "alumno6  = ['Lucia', 6]\n",
        "alumno7  = ['Julieta', 6]\n",
        "alumno8  = ['Anahi', 7]\n",
        "alumno9  = ['Estefania', 8]\n",
        "alumno10 = ['Monica', 9]\n",
        "# clase  = [alumno1, alumno2, etc]\n",
        "clase    = [alumno1, alumno2, alumno3, \n",
        "            alumno4, alumno5, alumno6, \n",
        "            alumno7, alumno8, alumno9, alumno10]\n",
        "\n",
        "# Hacer una función que ordene la lista clase por la nota, de mayor a menor.\n",
        "def OrdenarLista(lista):\n",
        "  def pos(lista):\n",
        "    return(lista[1])\n",
        "  ordenada = lista.sort(key=pos,reverse=True)\n",
        "  return(ordenada)\n",
        "OrdenarLista(clase)\n",
        "print(clase,'\\n')\n",
        "\n",
        "# other way with lambda\n",
        "clase.sort(reverse=True,key=lambda lista: lista[1])\n",
        "clase"
      ],
      "metadata": {
        "id": "eCfAAoG1CrWf",
        "colab": {
          "base_uri": "https://localhost:8080/"
        },
        "outputId": "bf490ee6-6d8d-429d-c968-3e1d5da0967b"
      },
      "execution_count": null,
      "outputs": [
        {
          "output_type": "stream",
          "name": "stdout",
          "text": [
            "[['Juan', 10], ['Monica', 9], ['Pedro', 8], ['Estefania', 8], ['Anahi', 7], ['Lucia', 6], ['Julieta', 6], ['Esteban', 4], ['Carlos', 2], ['Pepe', 0]] \n",
            "\n"
          ]
        },
        {
          "output_type": "execute_result",
          "data": {
            "text/plain": [
              "[['Juan', 10],\n",
              " ['Monica', 9],\n",
              " ['Pedro', 8],\n",
              " ['Estefania', 8],\n",
              " ['Anahi', 7],\n",
              " ['Lucia', 6],\n",
              " ['Julieta', 6],\n",
              " ['Esteban', 4],\n",
              " ['Carlos', 2],\n",
              " ['Pepe', 0]]"
            ]
          },
          "metadata": {},
          "execution_count": 1
        }
      ]
    },
    {
      "cell_type": "code",
      "source": [
        "# Hacer una función que cambie la forma de calificar de la siguiente manera: \n",
        "# aquellos que tienen una nota de 7 o más debe aparecer como \"Aprobado\" y \"Desaprobado\" en caso contrario.\n",
        "def Calificacion(lista):\n",
        "  for alumno in lista:\n",
        "    nota = alumno[1]\n",
        "    pos = 0\n",
        "    if nota >= 7:\n",
        "      alumno.append('Aprobado')\n",
        "    else:\n",
        "      alumno.append('Desaprobado')\n",
        "      pos +=1\n",
        "  return(lista)"
      ],
      "metadata": {
        "id": "4BkzY8F6JW_h"
      },
      "execution_count": null,
      "outputs": []
    },
    {
      "cell_type": "code",
      "source": [
        "Calificacion(clase)\n",
        "clase"
      ],
      "metadata": {
        "colab": {
          "base_uri": "https://localhost:8080/"
        },
        "id": "pCwtd4MKLrJV",
        "outputId": "c27bcfca-fb60-4fd4-fb4d-fbb845bba3bc"
      },
      "execution_count": null,
      "outputs": [
        {
          "output_type": "execute_result",
          "data": {
            "text/plain": [
              "[['Juan', 10, 'Aprobado'],\n",
              " ['Monica', 9, 'Aprobado'],\n",
              " ['Pedro', 8, 'Aprobado'],\n",
              " ['Estefania', 8, 'Aprobado'],\n",
              " ['Anahi', 7, 'Aprobado'],\n",
              " ['Lucia', 6, 'Desaprobado'],\n",
              " ['Julieta', 6, 'Desaprobado'],\n",
              " ['Esteban', 4, 'Desaprobado'],\n",
              " ['Carlos', 2, 'Desaprobado'],\n",
              " ['Pepe', 0, 'Desaprobado']]"
            ]
          },
          "metadata": {},
          "execution_count": 3
        }
      ]
    },
    {
      "cell_type": "markdown",
      "source": [
        "# ***Ejercicio 6***"
      ],
      "metadata": {
        "id": "C-3GuLSZOfsI"
      }
    },
    {
      "cell_type": "markdown",
      "source": [
        "Generen una lista con 10 números aleatorios entre 1 y el 99. Luego se debe ordenar la lista de menor mayor, una vez ordenada, generar de manera automática los valores faltantes entre cada una de las celdas contiguas.\n",
        "\n",
        "**Ejemplo**: supongan que tenemos una lista mas chica que la del enunciado, lista=[1,6,3], primero se debe ordenar, es decir vean como armar una función que ordene la lista, tal que quede asi: lista=[1,3,6], luego se debe generar los valores faltantes entre celdas, tal que el resultado obtenido sea lista=[1,2,3,4,5,6], finalmente se debe mostrar la lista."
      ],
      "metadata": {
        "id": "VlV0YKfjOkaO"
      }
    },
    {
      "cell_type": "code",
      "source": [
        "# Generen una lista con 10 números aleatorios entre 1 y el 99\n",
        "import random\n",
        "random_numbers1 = [random.randint(1, 99) for x in range(10)]\n",
        "random_numbers1"
      ],
      "metadata": {
        "colab": {
          "base_uri": "https://localhost:8080/"
        },
        "id": "gK2HbKfgOigN",
        "outputId": "51f80160-1408-4def-eb7e-baec69955d30"
      },
      "execution_count": null,
      "outputs": [
        {
          "output_type": "execute_result",
          "data": {
            "text/plain": [
              "[20, 22, 16, 24, 60, 92, 90, 33, 30, 89]"
            ]
          },
          "metadata": {},
          "execution_count": 22
        }
      ]
    },
    {
      "cell_type": "code",
      "source": [
        "# Generen una lista con 10 números aleatorios entre 1 y el 99\n",
        "random_numbers = random.sample(range(1,99), 10)\n",
        "random_numbers"
      ],
      "metadata": {
        "colab": {
          "base_uri": "https://localhost:8080/"
        },
        "id": "DTgD17r4gwQv",
        "outputId": "4eaa9322-f3fc-4ca7-9dae-c9a30160bbaa"
      },
      "execution_count": null,
      "outputs": [
        {
          "output_type": "execute_result",
          "data": {
            "text/plain": [
              "[17, 32, 62, 19, 72, 15, 28, 38, 25, 36]"
            ]
          },
          "metadata": {},
          "execution_count": 23
        }
      ]
    },
    {
      "cell_type": "code",
      "source": [
        "# ordenar la lista de menor mayor\n",
        "random_numbers.sort()\n",
        "random_numbers"
      ],
      "metadata": {
        "colab": {
          "base_uri": "https://localhost:8080/"
        },
        "id": "KKwpn2TGi5v_",
        "outputId": "124d31fd-b5ff-4685-b2e7-3095895674eb"
      },
      "execution_count": null,
      "outputs": [
        {
          "output_type": "execute_result",
          "data": {
            "text/plain": [
              "[15, 17, 19, 25, 28, 32, 36, 38, 62, 72]"
            ]
          },
          "metadata": {},
          "execution_count": 24
        }
      ]
    },
    {
      "cell_type": "code",
      "source": [
        "# generar de manera automática los valores faltantes entre cada una de las celdas contiguas\n",
        "faltantes=[]\n",
        "for i in range(len(random_numbers) -1):\n",
        "  valorInicial = random_numbers[i]\n",
        "  valorSiguiente = random_numbers[i + 1]\n",
        "  if valorSiguiente > valorInicial:\n",
        "    for num in range(valorInicial + 1, valorSiguiente):\n",
        "      faltantes.append(num)\n",
        "print(faltantes)"
      ],
      "metadata": {
        "colab": {
          "base_uri": "https://localhost:8080/"
        },
        "id": "mS-7ceP8kBdx",
        "outputId": "86c0721d-049b-4d78-b30e-06253f875784"
      },
      "execution_count": null,
      "outputs": [
        {
          "output_type": "stream",
          "name": "stdout",
          "text": [
            "[16, 18, 20, 21, 22, 23, 24, 26, 27, 29, 30, 31, 33, 34, 35, 37, 39, 40, 41, 42, 43, 44, 45, 46, 47, 48, 49, 50, 51, 52, 53, 54, 55, 56, 57, 58, 59, 60, 61, 63, 64, 65, 66, 67, 68, 69, 70, 71]\n"
          ]
        }
      ]
    },
    {
      "cell_type": "code",
      "source": [
        "print(random_numbers)\n",
        "nueva = faltantes + random_numbers\n",
        "nueva.sort()\n",
        "print(nueva)"
      ],
      "metadata": {
        "colab": {
          "base_uri": "https://localhost:8080/"
        },
        "id": "QeDpP4A-7KX6",
        "outputId": "26cdc50e-bfd5-498d-c470-beba03683850"
      },
      "execution_count": null,
      "outputs": [
        {
          "output_type": "stream",
          "name": "stdout",
          "text": [
            "[15, 17, 19, 25, 28, 32, 36, 38, 62, 72]\n",
            "[15, 16, 17, 18, 19, 20, 21, 22, 23, 24, 25, 26, 27, 28, 29, 30, 31, 32, 33, 34, 35, 36, 37, 38, 39, 40, 41, 42, 43, 44, 45, 46, 47, 48, 49, 50, 51, 52, 53, 54, 55, 56, 57, 58, 59, 60, 61, 62, 63, 64, 65, 66, 67, 68, 69, 70, 71, 72]\n"
          ]
        }
      ]
    },
    {
      "cell_type": "code",
      "source": [
        "def OrdenarRellenarLista(lista):\n",
        "  # Una lista vacía para almacenar los números faltantes\n",
        "  numeros_faltantes = []\n",
        "\n",
        "  # Recorre la lista original\n",
        "  for i in range(len(lista) - 1):\n",
        "    # Obtiene el elemento actual y el siguiente en la lista\n",
        "    a = lista[i]\n",
        "    b = lista[i + 1]\n",
        "\n",
        "    # Si hay una diferencia de más de uno entre los dos elementos,\n",
        "    # agrega los números faltantes a la lista\n",
        "    if b - a > 1:\n",
        "      for j in range(a + 1, b):\n",
        "        numeros_faltantes.append(j)\n",
        "\n",
        "  # Agrega los números faltantes a la lista original\n",
        "  lista += numeros_faltantes\n",
        "  # ordenamos la lista de menor mayor\n",
        "  lista.sort()\n",
        "\n",
        "  # retornamos la lista con los faltantes y ordenada\n",
        "  return lista"
      ],
      "metadata": {
        "id": "_61DE-AX3vbp"
      },
      "execution_count": null,
      "outputs": []
    },
    {
      "cell_type": "code",
      "source": [
        "# importamos el modulo y generamos la lista aleatoria\n",
        "import random\n",
        "random_nums = random.sample(range(1,99), 10)\n",
        "# Los ordenamos\n",
        "random_nums.sort()\n",
        "# mostramos la lista\n",
        "print(random_nums)\n",
        "# pasamos la lista generada por la funcion\n",
        "print(OrdenarRellenarLista(random_nums))"
      ],
      "metadata": {
        "colab": {
          "base_uri": "https://localhost:8080/"
        },
        "id": "PtQ9VAIi7t5Z",
        "outputId": "6afe2d9c-3d1e-4d1c-e4dd-26bd6c845d3c"
      },
      "execution_count": null,
      "outputs": [
        {
          "output_type": "stream",
          "name": "stdout",
          "text": [
            "[4, 12, 44, 53, 56, 62, 66, 68, 81, 82]\n",
            "[4, 5, 6, 7, 8, 9, 10, 11, 12, 13, 14, 15, 16, 17, 18, 19, 20, 21, 22, 23, 24, 25, 26, 27, 28, 29, 30, 31, 32, 33, 34, 35, 36, 37, 38, 39, 40, 41, 42, 43, 44, 45, 46, 47, 48, 49, 50, 51, 52, 53, 54, 55, 56, 57, 58, 59, 60, 61, 62, 63, 64, 65, 66, 67, 68, 69, 70, 71, 72, 73, 74, 75, 76, 77, 78, 79, 80, 81, 82]\n"
          ]
        }
      ]
    }
  ]
}