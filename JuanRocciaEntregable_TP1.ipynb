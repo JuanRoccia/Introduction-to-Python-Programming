{
  "nbformat": 4,
  "nbformat_minor": 0,
  "metadata": {
    "colab": {
      "provenance": [],
      "collapsed_sections": [
        "qSsdfg6piVbX",
        "TcbS9AAGc7tj",
        "YHbiU60udgcj",
        "JRH-Q0MGdjZ0",
        "ml-o3to_dm89"
      ],
      "include_colab_link": true
    },
    "kernelspec": {
      "name": "python3",
      "display_name": "Python 3"
    },
    "language_info": {
      "name": "python"
    }
  },
  "cells": [
    {
      "cell_type": "markdown",
      "metadata": {
        "id": "view-in-github",
        "colab_type": "text"
      },
      "source": [
        "<a href=\"https://colab.research.google.com/github/JuanRoccia/Introduction-to-Python-Programming/blob/main/JuanRocciaEntregable_TP1.ipynb\" target=\"_parent\"><img src=\"https://colab.research.google.com/assets/colab-badge.svg\" alt=\"Open In Colab\"/></a>"
      ]
    },
    {
      "cell_type": "markdown",
      "source": [
        "# ***Trabajo Práctico 1 (entregable)***\n",
        "\n",
        "---\n",
        "\n"
      ],
      "metadata": {
        "id": "qSsdfg6piVbX"
      }
    },
    {
      "cell_type": "code",
      "execution_count": null,
      "metadata": {
        "id": "-R53dDZyBaLY"
      },
      "outputs": [],
      "source": [
        "def problema_1(base,altura):\n",
        "    #Consigna: calcular el área de un triangulo\n",
        "    # Aca debran escribir el codigo que cumpla con la consigna y \n",
        "    # la solución deberá estar en la variable \"area\"\n",
        "    area = (base*altura)/2\n",
        "    return(area)\n",
        "\n",
        "def problema_2(lado):\n",
        "    #Consigna: Calcular el area de un cuadrado\n",
        "    area = lado*lado\n",
        "    return(area)\n",
        "\n",
        "def problema_3(edad):\n",
        "    #Consigna: decidir si una persona es mayor de edad o no devolviendo una variable booleana\n",
        "    mayor = edad >=18\n",
        "    return(mayor) # Mayor será True si la edad es mayor o igual a 18.\n",
        "\n",
        "def problema_4(r,l):\n",
        "    #Consigna: decidir si un circulo de radio \"r\" entra dentro de un cuadrado de lado \"l\".\n",
        "    entra = r+r < l\n",
        "    return(entra) #entra es una variable que es True si el circulo entra en el cuadrado"
      ]
    },
    {
      "cell_type": "markdown",
      "source": [
        "# ***Problema_1***"
      ],
      "metadata": {
        "id": "TcbS9AAGc7tj"
      }
    },
    {
      "cell_type": "code",
      "source": [
        "def problema_1(base,altura):\n",
        "    area = (base*altura)/2\n",
        "    return(area)\n",
        "print(problema_1(2.5,3))"
      ],
      "metadata": {
        "colab": {
          "base_uri": "https://localhost:8080/"
        },
        "id": "FkiHexezqCY8",
        "outputId": "91a283b3-e5bd-4baa-b381-79444ec732c5"
      },
      "execution_count": null,
      "outputs": [
        {
          "output_type": "stream",
          "name": "stdout",
          "text": [
            "3.75\n"
          ]
        }
      ]
    },
    {
      "cell_type": "code",
      "source": [
        "def problema_1(base,altura):\n",
        "    #Consigna: calcular el área de un triangulo\n",
        "    # Aca debran escribir el codigo que cumpla con la consigna y \n",
        "    # la solución deberá estar en la variable \"area\"\n",
        "    base_float = float(base) # Convierto el string que me devuelve el input a float para hacer cuentas\n",
        "    altura_float = float(altura)\n",
        "    area = (base_float*altura_float)/2\n",
        "    return(area)\n",
        "print(problema_1(2.5,3))"
      ],
      "metadata": {
        "colab": {
          "base_uri": "https://localhost:8080/"
        },
        "id": "JfnnInX01eWx",
        "outputId": "5ba1a2bd-7671-408a-8343-1c866cf8c6e7"
      },
      "execution_count": null,
      "outputs": [
        {
          "output_type": "stream",
          "name": "stdout",
          "text": [
            "3.0\n"
          ]
        }
      ]
    },
    {
      "cell_type": "code",
      "source": [
        "\"\"\"Problema_1\"\"\"\n",
        "\n",
        "base = input('ingrese el valor de base: ')\n",
        "altura = input('ingrese el valor de altura: ')\n",
        "base_Float = float(base)\n",
        "altura_Float = float(altura)\n",
        "area = (base_Float*altura_Float)/2\n",
        "print('el area del triangulo es: ',area)"
      ],
      "metadata": {
        "colab": {
          "base_uri": "https://localhost:8080/"
        },
        "id": "o9Hd9Qxmc3bH",
        "outputId": "80f824ea-6712-4508-a70e-14e4b63ab2bd"
      },
      "execution_count": null,
      "outputs": [
        {
          "output_type": "stream",
          "name": "stdout",
          "text": [
            "ingrese el valor de base: 2\n",
            "ingrese el valor de altura: 3\n",
            "el area del triangulo es:  3.0\n"
          ]
        }
      ]
    },
    {
      "cell_type": "markdown",
      "source": [
        "# ***Problema_2***"
      ],
      "metadata": {
        "id": "YHbiU60udgcj"
      }
    },
    {
      "cell_type": "code",
      "source": [
        "def problema_2(lado):\n",
        "    area = lado*lado\n",
        "    return(area)\n",
        "print(problema_2(4.5))"
      ],
      "metadata": {
        "colab": {
          "base_uri": "https://localhost:8080/"
        },
        "id": "gRAde6Hfp3cA",
        "outputId": "00d8d298-76ad-4b11-c182-f482ab3c8c33"
      },
      "execution_count": null,
      "outputs": [
        {
          "output_type": "stream",
          "name": "stdout",
          "text": [
            "20.25\n"
          ]
        }
      ]
    },
    {
      "cell_type": "code",
      "source": [
        "def problema_2(lado):\n",
        "    #Consigna: Calcular el area de un cuadrado\n",
        "    ladoFloat = float(lado)\n",
        "    area = ladoFloat*ladoFloat\n",
        "    return(area)\n",
        "print(problema_2(4.5))"
      ],
      "metadata": {
        "colab": {
          "base_uri": "https://localhost:8080/"
        },
        "id": "wTA4ggH73GAA",
        "outputId": "6cf58f84-9c7a-4c3e-d648-b89e287341d5"
      },
      "execution_count": null,
      "outputs": [
        {
          "output_type": "stream",
          "name": "stdout",
          "text": [
            "20.25\n"
          ]
        }
      ]
    },
    {
      "cell_type": "code",
      "source": [
        "\"\"\"Problema_2\"\"\"\n",
        "\n",
        "lado = input('ingrese el valor del lado: ')\n",
        "ladoFloat = float(lado)\n",
        "area = ladoFloat*ladoFloat\n",
        "print('el area del cuadrado es: ',area)"
      ],
      "metadata": {
        "colab": {
          "base_uri": "https://localhost:8080/"
        },
        "id": "HaWli6oebi2_",
        "outputId": "c9550517-9f49-4ec3-9427-c175e3cb078d"
      },
      "execution_count": null,
      "outputs": [
        {
          "output_type": "stream",
          "name": "stdout",
          "text": [
            "ingrese el valor del lado: 2\n",
            "el area del cuadrado es:  4.0\n"
          ]
        }
      ]
    },
    {
      "cell_type": "markdown",
      "source": [
        "# ***Problema_3***"
      ],
      "metadata": {
        "id": "JRH-Q0MGdjZ0"
      }
    },
    {
      "cell_type": "code",
      "source": [
        "def problema_3(edad):\n",
        "    mayor = edad >=18\n",
        "    return(mayor)\n",
        "print(problema_3(18))"
      ],
      "metadata": {
        "colab": {
          "base_uri": "https://localhost:8080/"
        },
        "id": "7uQy-UO_lPmE",
        "outputId": "3891e238-7a92-46e8-bc8c-68f29706624f"
      },
      "execution_count": null,
      "outputs": [
        {
          "output_type": "stream",
          "name": "stdout",
          "text": [
            "True\n"
          ]
        }
      ]
    },
    {
      "cell_type": "code",
      "source": [
        "\"\"\"Problema_3\"\"\"\n",
        "\n",
        "edad = int(input('ingrese edad: '))\n",
        "if edad >=18:\n",
        "  mayor = edad\n",
        "  print('tiene',mayor,'años, usted es mayor')\n",
        "else:\n",
        "  print('usted es menor')"
      ],
      "metadata": {
        "colab": {
          "base_uri": "https://localhost:8080/"
        },
        "id": "lSoWgj_fXUZd",
        "outputId": "d53381f2-48ae-468a-e69a-218049c1fe94"
      },
      "execution_count": null,
      "outputs": [
        {
          "output_type": "stream",
          "name": "stdout",
          "text": [
            "ingrese edad: 18\n",
            "tiene 18 años, usted es mayor\n"
          ]
        }
      ]
    },
    {
      "cell_type": "markdown",
      "source": [
        "# ***Problema_4***"
      ],
      "metadata": {
        "id": "ml-o3to_dm89"
      }
    },
    {
      "cell_type": "code",
      "source": [
        "def problema_4(r,l):\n",
        "    entra = r+r < l\n",
        "    return(entra)\n",
        "print(problema_4(5,9))"
      ],
      "metadata": {
        "colab": {
          "base_uri": "https://localhost:8080/"
        },
        "id": "OCqIvSAprfI-",
        "outputId": "0de080b9-86f3-4125-df6b-0891d260ad75"
      },
      "execution_count": null,
      "outputs": [
        {
          "output_type": "stream",
          "name": "stdout",
          "text": [
            "False\n"
          ]
        }
      ]
    },
    {
      "cell_type": "code",
      "source": [
        "\"\"\"Problema_4\"\"\"\n",
        "\n",
        "r = input('ingrese el valor del radio del circulo: ')\n",
        "l = input('ingrese el valor de un lado del cuadrado: ')\n",
        "r_Float = float(r)\n",
        "l_Float = float(l)\n",
        "if r_Float + r_Float < l_Float:\n",
        "  entra = r_Float + r_Float < l_Float\n",
        "  print('el circulo entra dentro del cuadrado')\n",
        "else:\n",
        "  print('no entra')  "
      ],
      "metadata": {
        "colab": {
          "base_uri": "https://localhost:8080/"
        },
        "id": "vbh2iYbecbON",
        "outputId": "363298c1-b486-472f-ef80-1adf8000b505"
      },
      "execution_count": null,
      "outputs": [
        {
          "output_type": "stream",
          "name": "stdout",
          "text": [
            "ingrese el valor del radio del circulo: 3\n",
            "ingrese el valor de un lado del cuadrado: 8\n",
            "el circulo entra dentro del cuadrado\n"
          ]
        }
      ]
    }
  ]
}