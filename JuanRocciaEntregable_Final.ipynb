{
  "cells": [
    {
      "cell_type": "markdown",
      "source": [
        "1. Dada la lista 'lista_nombres' hacer con un ciclo for un codigo que muestre en pantalla un \"Hola, {nombre}.\" para cada uno de los nombres en la lista_nombres salvo para el nombre \"Pancho\".\n",
        "\n",
        "```\n",
        "     lista_nombres = ['Adrian', 'Pepa', 'Carlos', 'Pancho', 'Lionel', 'Carolina]\n",
        "```\n",
        "\n",
        "El código debe mostrar en patalla la siguiente salida:\n",
        "\n",
        "    Hola, Adrian.\n",
        "    Hola, Pepa.\n",
        "    Hola, Carlos.\n",
        "    Hola, Lionel.\n",
        "    Hola, Carolina."
      ],
      "metadata": {
        "id": "ewKZHvL7dh0E"
      }
    },
    {
      "cell_type": "code",
      "source": [
        "lista_nombres = ['Adrian', 'Pepa', 'Carlos', 'Pancho', 'Lionel', 'Carolina']\n",
        "\n",
        "a = 0\n",
        "pancho = lista_nombres[3]\n",
        "\n",
        "for i in lista_nombres:\n",
        "  i = lista_nombres[a]\n",
        "  a += 1\n",
        "  if pancho in i:\n",
        "    # del(lista_nombres[3])\n",
        "    print(f'{pancho}.')\n",
        "  else:\n",
        "    print('Hola, ' + i + '.')"
      ],
      "metadata": {
        "colab": {
          "base_uri": "https://localhost:8080/"
        },
        "id": "EDWFYWeYdjBV",
        "outputId": "5da014a5-2f03-4991-e532-361874e0a44a"
      },
      "execution_count": null,
      "outputs": [
        {
          "output_type": "stream",
          "name": "stdout",
          "text": [
            "Hola, Adrian.\n",
            "Hola, Pepa.\n",
            "Hola, Carlos.\n",
            "Pancho.\n",
            "Hola, Lionel.\n",
            "Hola, Carolina.\n"
          ]
        }
      ]
    },
    {
      "cell_type": "markdown",
      "source": [
        "2. Crear un codigo que pida al usuario palabras y las muestre en pantalla invertidas, pero cuando se introduzca un número (entero o decimal) le diga al usuario que eso no es una palabra y vuelva a pedirle al usuario que introduzca una nueva palabra. Esto se hará hasta que el usuario introduzca la palabra \"salir\". Utilizar ciclos while. \n",
        "\n",
        "Si el input es 'casa', el codigo tiene que mostrar en pantalla 'asac'.\n",
        "Si el input es 15, el codigo tiene que mostrar en pantalla 'Esto no es una palabra' y vuelve a mostrar el cuadro de dialogo para introducir una nueva palabra. \n",
        "Si el input es \"salir\", el codigo tiene que culminar."
      ],
      "metadata": {
        "id": "gA9Vxw9shBsr"
      }
    },
    {
      "cell_type": "code",
      "source": [
        "def palabra():\n",
        "  while True:\n",
        "    palabra = input('Ingresar palabra: ')\n",
        "\n",
        "    for letra in palabra:\n",
        "      numeros = letra.isnumeric()\n",
        "      if numeros == True:\n",
        "            print('Esto no es una palabra:')\n",
        "            break  \n",
        "\n",
        "    if palabra == 'salir':\n",
        "      break\n",
        "\n",
        "    palabra_invertida = ''\n",
        "    for letra in palabra:\n",
        "      palabra_invertida = letra + palabra_invertida\n",
        "\n",
        "    print(palabra_invertida)\n",
        "palabra()"
      ],
      "metadata": {
        "colab": {
          "base_uri": "https://localhost:8080/"
        },
        "id": "W-z10WTAhC31",
        "outputId": "a0f82ee1-ee80-415d-e28e-3831a46d441a"
      },
      "execution_count": null,
      "outputs": [
        {
          "name": "stdout",
          "output_type": "stream",
          "text": [
            "Ingresar palabra: Juan15 2.3\n",
            "Esto no es una palabra:\n",
            "3.2 51nauJ\n",
            "Ingresar palabra: Palabra Invertida\n",
            "aditrevnI arbalaP\n",
            "Ingresar palabra: salir\n"
          ]
        }
      ]
    },
    {
      "cell_type": "code",
      "source": [
        "palabra = 'juan546'\n",
        "\n",
        "for i in palabra:\n",
        "  a = i.isnumeric()\n",
        "  print(a)"
      ],
      "metadata": {
        "colab": {
          "base_uri": "https://localhost:8080/"
        },
        "id": "7cP02bT20vMb",
        "outputId": "cac26fb3-8aa6-434e-d9ab-c29edd40ad1c"
      },
      "execution_count": null,
      "outputs": [
        {
          "output_type": "stream",
          "name": "stdout",
          "text": [
            "False\n",
            "False\n",
            "False\n",
            "False\n",
            "True\n",
            "True\n",
            "True\n"
          ]
        }
      ]
    },
    {
      "cell_type": "markdown",
      "source": [
        "3. Crear una lista en una variable de nombre 'lista_numeros' de 50 números del 5 al 105 ordenados consecutivamente de dos en dos. Es decir ``[50,52,54,56,...,100,102,104]``.\n",
        "    1. Crear una nueva lista a partir de la lista anterior que se llame 'lista_nueva' que contenga los numeros que se encuentren entre el 67 y el 93.\n",
        "    2. Invertir el orden de los números de la lista_nueva."
      ],
      "metadata": {
        "id": "YEN9POGWKsHD"
      }
    },
    {
      "cell_type": "code",
      "execution_count": null,
      "metadata": {
        "colab": {
          "base_uri": "https://localhost:8080/"
        },
        "id": "hbXt9vJ-ZQ67",
        "outputId": "cdead847-fbb9-4502-e0ec-cf1871029d20"
      },
      "outputs": [
        {
          "output_type": "stream",
          "name": "stdout",
          "text": [
            "50\n",
            "[67, 69, 71, 73, 75, 77, 79, 81, 83, 85, 87, 89, 91, 93]\n"
          ]
        },
        {
          "output_type": "execute_result",
          "data": {
            "text/plain": [
              "[93, 91, 89, 87, 85, 83, 81, 79, 77, 75, 73, 71, 69, 67]"
            ]
          },
          "metadata": {},
          "execution_count": 134
        }
      ],
      "source": [
        "lista_numeros = list(range(5,105,2))\n",
        "print(len(lista_numeros))\n",
        "\n",
        "# 1) Nueva lista con los numeros del 67 al 93.\n",
        "lista_nueva = lista_numeros[31:45]\n",
        "print(lista_nueva)\n",
        "\n",
        "# 2) Lista nueva invertida.\n",
        "lista_invertida = lista_nueva[::-1]\n",
        "lista_invertida"
      ]
    },
    {
      "cell_type": "markdown",
      "source": [
        "4. Crear un diccionario en una varible que se llame 'diccio' que contenga como claves 'Nombre', 'Apellido', 'Año de nacimiento' y 'Mail' que contenga los datos personales de ustedes.\n",
        "    1. Crear un input donde si el usuario pone mail muestre en pantalla su mail obtenido del diccionario.\n",
        "    2. Si en el input del inciso anterior el usuario pone 'nombre', 'apellido' o 'año' muestre en pantalla su nombre, apellido o año de nacimiento obtenido del diccionario."
      ],
      "metadata": {
        "id": "cTGx_bfoSEnr"
      }
    },
    {
      "cell_type": "code",
      "source": [
        "diccio = {'Nombre':'Juan',\n",
        "          'Apellido':'Roccia',\n",
        "          'Año de nacimiento':1995,\n",
        "          'Mail':'juanroccia@gmail.com'}\n",
        "\n",
        "# 1) Crear un input donde si el usuario..\n",
        "usuario = input('Eleccion usuario: ')\n",
        "usuario_cap = usuario.capitalize()\n",
        "\n",
        "# print(diccio[usuario_cap])\n",
        "\n",
        "# 2) Si el usuario pone..\n",
        "if usuario == 'año':\n",
        "  print(diccio['Año de nacimiento'])\n",
        "else:\n",
        "  print(diccio[usuario_cap])"
      ],
      "metadata": {
        "id": "8Osjz38PSGW6",
        "colab": {
          "base_uri": "https://localhost:8080/"
        },
        "outputId": "a0947429-435f-496f-8df3-16dc0168574d"
      },
      "execution_count": null,
      "outputs": [
        {
          "output_type": "stream",
          "name": "stdout",
          "text": [
            "Eleccion usuario: año\n",
            "1995\n"
          ]
        }
      ]
    },
    {
      "cell_type": "code",
      "source": [
        "for key in diccio:\n",
        "  print(key, \":\", diccio[key])"
      ],
      "metadata": {
        "colab": {
          "base_uri": "https://localhost:8080/"
        },
        "id": "rMTrtBs7ZOCz",
        "outputId": "b20d6e5d-1f3c-4ca3-f35d-79b0a573ccc0"
      },
      "execution_count": null,
      "outputs": [
        {
          "output_type": "stream",
          "name": "stdout",
          "text": [
            "Nombre : Juan\n",
            "Apellido : Roccia\n",
            "Año de nacimiento : 1995\n",
            "Mail : juanroccia@gmail.com\n"
          ]
        }
      ]
    },
    {
      "cell_type": "markdown",
      "source": [
        "5. Se dan una lista de usuarios y una lista de servidores de mails en variables de nombre 'lista_usuarios' y 'lista_servs' respectivamente. Crear una función que devuelva todas las posibles casillas de correo que se pueden generar combinando estas listas.\n",
        "\n",
        "```\n",
        "    lista_usuarios = [usuario1,usuario2,usuario3] \n",
        "    lista_servs = [gmail.com, yahoo.com.ar, upso.edu.ar]\n",
        "```\n",
        "\n",
        "Algunas de las devoluciones que deberan mostrarse en pantalla seran:\n",
        "    \n",
        "    usuario1@gmail.com\n",
        "    usuario1@yahoo.com.ar\n",
        "    usuario3@gmail.com\n",
        "    usuario2@upso.edu.ar\n",
        "    ...\n",
        "   "
      ],
      "metadata": {
        "id": "NYniJpPBWjX9"
      }
    },
    {
      "cell_type": "code",
      "source": [
        "def combinaciones(lista_usuarios,lista_servs):\n",
        "\n",
        "  # La suma del recorrido len y zip me da las 9 combinaciones posibles.\n",
        "  posicion = 0\n",
        "  while posicion < len(lista_usuarios):         \n",
        "    for a,b in zip(lista_usuarios,lista_servs):\n",
        "      print(a+lista_servs[posicion])\n",
        "    posicion +=1\n",
        "\n",
        "combinaciones(['usuario1', 'usuario2', 'usuario3'],['gmail.com', 'yahoo.com.ar', 'upso.edu.ar'])"
      ],
      "metadata": {
        "colab": {
          "base_uri": "https://localhost:8080/"
        },
        "id": "cPqdqRKx5FvS",
        "outputId": "768d7456-d694-4737-dc3b-fcea0cd3d45c"
      },
      "execution_count": null,
      "outputs": [
        {
          "output_type": "stream",
          "name": "stdout",
          "text": [
            "usuario1gmail.com\n",
            "usuario2gmail.com\n",
            "usuario3gmail.com\n",
            "usuario1yahoo.com.ar\n",
            "usuario2yahoo.com.ar\n",
            "usuario3yahoo.com.ar\n",
            "usuario1upso.edu.ar\n",
            "usuario2upso.edu.ar\n",
            "usuario3upso.edu.ar\n"
          ]
        }
      ]
    },
    {
      "cell_type": "markdown",
      "metadata": {
        "id": "Ry6JpO3VZQ6r"
      },
      "source": [
        "6. Hacer una función que tenga como argumento un string (por ejemplo la palabra 'perro') y un numero (por ejemplo 3). Esta función tiene que devolver el string en mayúsculas tantas veces como el número que tiene como argumento separados por un guión (por ejemplo PERRO-PERRO-PERRO)."
      ]
    },
    {
      "cell_type": "code",
      "source": [
        "def funcion(palabra,numero):\n",
        "  lista_palabra = []\n",
        "  lista_palabra.append(palabra)\n",
        "  multi = lista_palabra*numero\n",
        "  multi_str = '-'.join(multi)\n",
        "  multi_up = multi_str.upper()\n",
        "  print(multi_up)\n",
        "\n",
        "funcion('conga',3) "
      ],
      "metadata": {
        "colab": {
          "base_uri": "https://localhost:8080/"
        },
        "id": "nKDsmV40YW9b",
        "outputId": "928e8998-f242-4df0-e3e8-9b9ece278628"
      },
      "execution_count": null,
      "outputs": [
        {
          "output_type": "stream",
          "name": "stdout",
          "text": [
            "CONGA-CONGA-CONGA\n"
          ]
        }
      ]
    },
    {
      "cell_type": "markdown",
      "source": [
        "7. Mediante inputs pedirle al usuario el nombre y luego el apellido. Estos datos deberán guardarse en un archivo txt.\n",
        "    1. En otro bloque de código leer el archivo creado anteriormente y mostrar su contenido en pantalla."
      ],
      "metadata": {
        "id": "UaGxgz4lYXSi"
      }
    },
    {
      "cell_type": "code",
      "source": [
        "nombre_usuario = input('Ingresar nombre: ')\n",
        "apellido_usuario = input('Ingresar apellido: ')\n",
        "\n",
        "archivo = open('NombreApellido.txt','a')\n",
        "archivo.write(f'{nombre_usuario} {apellido_usuario}')\n",
        "archivo.close()"
      ],
      "metadata": {
        "colab": {
          "base_uri": "https://localhost:8080/"
        },
        "id": "z5HeIct4YYFn",
        "outputId": "e7818832-bdf7-4f6f-987f-520055e6d158"
      },
      "execution_count": null,
      "outputs": [
        {
          "name": "stdout",
          "output_type": "stream",
          "text": [
            "Ingresar nombre: Juan\n",
            "Ingresar apellido: Roccia\n"
          ]
        }
      ]
    },
    {
      "cell_type": "code",
      "source": [
        "archivo_leer = open('NombreApellido.txt','r')\n",
        "print(archivo_leer.read())\n",
        "archivo_leer.close()"
      ],
      "metadata": {
        "colab": {
          "base_uri": "https://localhost:8080/"
        },
        "id": "OX0vpJ3XLlLT",
        "outputId": "2be1c64b-41e4-4c44-8082-53e63d4f93be"
      },
      "execution_count": null,
      "outputs": [
        {
          "output_type": "stream",
          "name": "stdout",
          "text": [
            "Juan Roccia\n"
          ]
        }
      ]
    }
  ],
  "metadata": {
    "kernelspec": {
      "display_name": "Python 3",
      "language": "python",
      "name": "python3"
    },
    "language_info": {
      "codemirror_mode": {
        "name": "ipython",
        "version": 3
      },
      "file_extension": ".py",
      "mimetype": "text/x-python",
      "name": "python",
      "nbconvert_exporter": "python",
      "pygments_lexer": "ipython3",
      "version": "3.8.4"
    },
    "colab": {
      "provenance": []
    }
  },
  "nbformat": 4,
  "nbformat_minor": 0
}